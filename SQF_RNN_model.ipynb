{
  "nbformat": 4,
  "nbformat_minor": 0,
  "metadata": {
    "colab": {
      "name": "SQF_RNN_model.ipynb",
      "version": "0.3.2",
      "provenance": [],
      "collapsed_sections": [],
      "include_colab_link": true
    },
    "kernelspec": {
      "name": "python3",
      "display_name": "Python 3"
    }
  },
  "cells": [
    {
      "cell_type": "markdown",
      "metadata": {
        "id": "view-in-github",
        "colab_type": "text"
      },
      "source": [
        "<a href=\"https://colab.research.google.com/github/emilyj19/TS/blob/master/SQF_RNN_model.ipynb\" target=\"_parent\"><img src=\"https://colab.research.google.com/assets/colab-badge.svg\" alt=\"Open In Colab\"/></a>"
      ]
    },
    {
      "cell_type": "code",
      "metadata": {
        "id": "hPtSnNPJ7eTH",
        "colab_type": "code",
        "outputId": "846033f3-e5fe-4e9c-9623-6da7e4a257d5",
        "colab": {
          "base_uri": "https://localhost:8080/",
          "height": 51
        }
      },
      "source": [
        "pip install torch"
      ],
      "execution_count": 1,
      "outputs": [
        {
          "output_type": "stream",
          "text": [
            "Requirement already satisfied: torch in /usr/local/lib/python3.6/dist-packages (1.1.0)\n",
            "Requirement already satisfied: numpy in /usr/local/lib/python3.6/dist-packages (from torch) (1.16.4)\n"
          ],
          "name": "stdout"
        }
      ]
    },
    {
      "cell_type": "code",
      "metadata": {
        "id": "ScIt9ImB8cav",
        "colab_type": "code",
        "colab": {}
      },
      "source": [
        "import numpy as np \n",
        "import tensorflow as tf\n",
        "import matplotlib\n",
        "import matplotlib.pyplot as plt \n",
        "import pandas as pd\n",
        "import torch\n",
        "from torch import nn\n",
        "from torch.utils.data import DataLoader, TensorDataset\n",
        "from torch.autograd import Variable"
      ],
      "execution_count": 0,
      "outputs": []
    },
    {
      "cell_type": "code",
      "metadata": {
        "id": "CZvoZxQX7-G1",
        "colab_type": "code",
        "outputId": "4f699165-7dc9-49c7-e365-60fbc20f37ba",
        "colab": {
          "base_uri": "https://localhost:8080/",
          "height": 122
        }
      },
      "source": [
        "from google.colab import drive\n",
        "drive.mount('/content/gdrive')"
      ],
      "execution_count": 3,
      "outputs": [
        {
          "output_type": "stream",
          "text": [
            "Go to this URL in a browser: https://accounts.google.com/o/oauth2/auth?client_id=947318989803-6bn6qk8qdgf4n4g3pfee6491hc0brc4i.apps.googleusercontent.com&redirect_uri=urn%3Aietf%3Awg%3Aoauth%3A2.0%3Aoob&scope=email%20https%3A%2F%2Fwww.googleapis.com%2Fauth%2Fdocs.test%20https%3A%2F%2Fwww.googleapis.com%2Fauth%2Fdrive%20https%3A%2F%2Fwww.googleapis.com%2Fauth%2Fdrive.photos.readonly%20https%3A%2F%2Fwww.googleapis.com%2Fauth%2Fpeopleapi.readonly&response_type=code\n",
            "\n",
            "Enter your authorization code:\n",
            "··········\n",
            "Mounted at /content/gdrive\n"
          ],
          "name": "stdout"
        }
      ]
    },
    {
      "cell_type": "code",
      "metadata": {
        "id": "KTbcnwJm7_lD",
        "colab_type": "code",
        "outputId": "faad1d7c-4739-4c5e-82c4-5c2eeff921b9",
        "colab": {
          "base_uri": "https://localhost:8080/",
          "height": 34
        }
      },
      "source": [
        "root_path = 'gdrive/My Drive/FinancialTS/JPmarket_dataset.npz' \n",
        "data = np.load(root_path)\n",
        "data.files"
      ],
      "execution_count": 4,
      "outputs": [
        {
          "output_type": "execute_result",
          "data": {
            "text/plain": [
              "['train_ratios', 'test_ratios', 'train_volumes', 'test_volumes']"
            ]
          },
          "metadata": {
            "tags": []
          },
          "execution_count": 4
        }
      ]
    },
    {
      "cell_type": "code",
      "metadata": {
        "id": "t8SDMHW78HXd",
        "colab_type": "code",
        "colab": {}
      },
      "source": [
        "train_ratios = data['train_ratios']\n",
        "test_ratios = data['test_ratios']\n",
        "train_vols = data['train_volumes']\n",
        "test_vols = data['test_volumes']"
      ],
      "execution_count": 0,
      "outputs": []
    },
    {
      "cell_type": "code",
      "metadata": {
        "id": "kI540y0JQBpu",
        "colab_type": "code",
        "colab": {}
      },
      "source": [
        "mini_train_ratios = train_ratios[0:50]\n",
        "mini_test_ratios = test_ratios[0:50]"
      ],
      "execution_count": 0,
      "outputs": []
    },
    {
      "cell_type": "code",
      "metadata": {
        "id": "fItoKOzL8K-c",
        "colab_type": "code",
        "colab": {}
      },
      "source": [
        "#need to change this to create windows for all stocks \n",
        "\n",
        "def split_data(n_days, data): #data for one stock in the form [days, bins]\n",
        "  no_ts = data.shape[0]-n_days\n",
        "  length_ts = n_days*data.shape[1]\n",
        "  new_data = np.zeros((no_ts,length_ts))\n",
        "  for j in range(no_ts):\n",
        "    for i in range(n_days): \n",
        "      new_data[j,64*i:64*i + 64] = data[j+i,:]\n",
        "  \n",
        "  return new_data"
      ],
      "execution_count": 0,
      "outputs": []
    },
    {
      "cell_type": "code",
      "metadata": {
        "id": "73_oSS9u8N8z",
        "colab_type": "code",
        "colab": {}
      },
      "source": [
        "def make_test_data(train_data, test_data, n_days, stock_index):\n",
        "  all_data = np.concatenate((train_data, test_data), axis = 1)\n",
        "  \n",
        "  one_data = all_data[stock_index]\n",
        "  \n",
        "  #now want to take only sets of n_days which contain the test data too \n",
        "  no_ts = test_data.shape[1]\n",
        "  length_ts = n_days*one_data.shape[1]\n",
        "  new_data = np.zeros((no_ts, length_ts))\n",
        "  \n",
        "  for j in range(no_ts): \n",
        "    for i in range(n_days): \n",
        "      new_data[j, 64*i:64*i + 64] = one_data[train_data.shape[1]+j-180+i+1,:]\n",
        "      \n",
        "  return new_data\n",
        "\n",
        "\n",
        "testing_ratios = make_test_data(train_ratios, test_ratios, 180, 0)"
      ],
      "execution_count": 0,
      "outputs": []
    },
    {
      "cell_type": "code",
      "metadata": {
        "id": "bvkSNm358o4P",
        "colab_type": "code",
        "colab": {}
      },
      "source": [
        "def getbd_from_theta(theta): \n",
        "  gamma, beta, delta = theta\n",
        "  \n",
        "  L = len(beta)\n",
        "  \n",
        "  b = torch.zeros(L)\n",
        "  for l in range(L): \n",
        "    if l == 0 : \n",
        "      b[l] = beta[l]\n",
        "    else: \n",
        "      b[l] = beta[l]-beta[l-1]\n",
        "  d = torch.zeros(L)\n",
        "  for l in range(1,L): \n",
        "    d[l] = torch.sum(delta[:l])\n",
        "    \n",
        "  return b, d"
      ],
      "execution_count": 0,
      "outputs": []
    },
    {
      "cell_type": "code",
      "metadata": {
        "id": "I-Q5oJFh2igo",
        "colab_type": "code",
        "colab": {}
      },
      "source": [
        "def crps_loss(theta, z):\n",
        "  \n",
        "  gamma, beta, delta = theta\n",
        "  #if use_cuda and torch.cuda.is_available():\n",
        "  #  gamma = gamma.cuda()\n",
        "  #  beta = beta.cuda()\n",
        "  #  beta = beta.cuda()\n",
        "  \n",
        "  L = len(beta)\n",
        "  b, d = getbd_from_theta(theta)\n",
        "  zeros = torch.zeros(L)\n",
        "  \n",
        "  if use_cuda and torch.cuda.is_available(): \n",
        "    b = b.cuda()\n",
        "    d = d.cuda()\n",
        "    zeros = zeros.cuda()\n",
        "  \n",
        "  lo = 0 \n",
        "  for l in range(L-1, -1, -1): \n",
        "    val = sqf(theta, d[l])\n",
        "    if val < z:\n",
        "      lo = l\n",
        "      break \n",
        "  \n",
        "  a_tilde = (z-gamma + torch.sum(b[:lo]*d[:lo]))/torch.sum(b[:lo+1])\n",
        "  \n",
        "  max_ = torch.max(zeros+a_tilde, d)\n",
        "  bracket = (1/3)*(1-torch.pow(d, 3)) - d - torch.pow(max_,2) + 2*max_*d\n",
        "  loss = (2*a_tilde - 1)*z + (1-2*a_tilde)*gamma + torch.sum(b*bracket)\n",
        "  \n",
        "  return loss "
      ],
      "execution_count": 0,
      "outputs": []
    },
    {
      "cell_type": "code",
      "metadata": {
        "id": "M7byuacN2kW7",
        "colab_type": "code",
        "colab": {}
      },
      "source": [
        "def sqf(theta, quantile): \n",
        "  \n",
        "  #would expect beta and delta to be vectors length hidden_units\n",
        "  \n",
        "  gamma, beta, delta = theta\n",
        "  L = len(beta)\n",
        "  \n",
        "  b,d = getbd_from_theta(theta)\n",
        "    \n",
        "  max_ = torch.max(quantile-d, torch.zeros(L))\n",
        "  \n",
        "  qf = gamma + torch.sum(b*max_)\n",
        "  \n",
        "  return qf"
      ],
      "execution_count": 0,
      "outputs": []
    },
    {
      "cell_type": "code",
      "metadata": {
        "id": "p2P2SgbNUCEs",
        "colab_type": "code",
        "colab": {}
      },
      "source": [
        "def create_covariate_data(input_data, freq): #this is assuming that data starts at beginning of day and ends at last bin of the day \n",
        "  num_series, len_series = input_data.shape\n",
        "  days = int(len_series/freq)\n",
        "  covariate_vectors = np.zeros((num_series, len_series, freq+1))\n",
        "  \n",
        "  for n in range(num_series):\n",
        "    for d in range(days): \n",
        "      for t in range(freq): \n",
        "        one_hot = np.zeros(freq)\n",
        "        one_hot[t] = 1\n",
        "        covariate_vectors[n, d*64 + t, 0] = input_data[n, d*64 + t]\n",
        "        covariate_vectors[n, d*64 + t, 1:] = one_hot\n",
        "        \n",
        "  return covariate_vectors"
      ],
      "execution_count": 0,
      "outputs": []
    },
    {
      "cell_type": "code",
      "metadata": {
        "id": "KtpFnvDpUf-M",
        "colab_type": "code",
        "colab": {}
      },
      "source": [
        "class Encoder(nn.Module): \n",
        "  \n",
        "  def __init__(self, input_size, hidden_size, batch_size, output_size, num_layers):\n",
        "    super().__init__()\n",
        "    self.input_size = input_size\n",
        "    self.hidden_size = hidden_size\n",
        "    self.batch_size = batch_size\n",
        "    self.output_size = output_size\n",
        "    self.num_layers = num_layers\n",
        "    \n",
        "    self.lstm = nn.LSTM(input_size = self.input_size, hidden_size = self.hidden_size, num_layers = self.num_layers)\n",
        "    self.linear = nn.Linear(self.hidden_size, self.hidden_size)\n",
        "    self.dense = nn.Linear(self.hidden_size, 1)\n",
        "    self.softmax = nn.functional.softmax\n",
        "    self.softplus = nn.functional.softplus\n",
        "    \n",
        "  def init_hidden(self): \n",
        "    return torch.zeros(self.num_layers, 1, self.hidden_size)\n",
        "  \n",
        "  def forward(self, data, hidden):\n",
        "    lstm_out, hidden = self.lstm(data.view(1, 1, -1))\n",
        "    fc_layer = self.linear(lstm_out.view(-1)) \n",
        "    delta = self.softmax(fc_layer)\n",
        "    beta = self.softmax(fc_layer)\n",
        "    gamma = self.dense(fc_layer)\n",
        "    \n",
        "    theta = (gamma, beta, delta)\n",
        "    #print('theta', theta)\n",
        "    #print('delta', delta)\n",
        "    #print('beta', beta)\n",
        "    \n",
        "    return theta, hidden \n",
        "  "
      ],
      "execution_count": 0,
      "outputs": []
    },
    {
      "cell_type": "code",
      "metadata": {
        "id": "aKoU7fYqvbLw",
        "colab_type": "code",
        "colab": {}
      },
      "source": [
        "learning_rate = 0.0005\n",
        "#learning_rate_decay = \n",
        "num_epochs = 20\n",
        "T = 3*64\n",
        "num_paths = 50\n",
        "pred_length = 64\n",
        "num_lstm_layers = 2\n",
        "hidden_units = 80\n",
        "batch_size = 20\n",
        "early_stop_patience = 2"
      ],
      "execution_count": 0,
      "outputs": []
    },
    {
      "cell_type": "code",
      "metadata": {
        "id": "naXFolarRHWz",
        "colab_type": "code",
        "colab": {}
      },
      "source": [
        "#run if you want ratio data\n",
        "training_data = split_data(int(T/64), train_ratios[0])\n",
        "training_data.shape\n",
        "\n",
        "small_data = np.zeros((20, training_data.shape[1]))\n",
        "for i in range(small_data.shape[0]): \n",
        "  index = np.random.randint(0, training_data.shape[0])\n",
        "  small_data[i,:] = training_data[index]\n",
        "  \n",
        "small_data_new = torch.FloatTensor(small_data)"
      ],
      "execution_count": 0,
      "outputs": []
    },
    {
      "cell_type": "code",
      "metadata": {
        "id": "9Tq6RZMNQcr6",
        "colab_type": "code",
        "colab": {}
      },
      "source": [
        "#run if you want volume data\n",
        "training_data = split_data(int(T/64), train_vols[0])\n",
        "train_volume = training_data/np.amax(train_vols[0]) #Normalize data\n",
        "\n",
        "small_data = np.zeros((20, train_volume.shape[1]))\n",
        "for i in range(small_data.shape[0]): \n",
        "  index = np.random.randint(0, training_data.shape[0])\n",
        "  small_data[i,:] = train_volume[index]\n",
        "  \n",
        "small_data_new = torch.FloatTensor(small_data)"
      ],
      "execution_count": 0,
      "outputs": []
    },
    {
      "cell_type": "code",
      "metadata": {
        "id": "SiZDk7UhtWuT",
        "colab_type": "code",
        "colab": {}
      },
      "source": [
        "covars = create_covariate_data(small_data, 64) #matrix of covariates corresponding to the input data \n",
        "train_data_covs = torch.FloatTensor(covars)"
      ],
      "execution_count": 0,
      "outputs": []
    },
    {
      "cell_type": "code",
      "metadata": {
        "id": "zV2CJzS-EWKe",
        "colab_type": "code",
        "outputId": "33c3fecd-7cfc-42f6-e237-c506fed165ad",
        "colab": {
          "base_uri": "https://localhost:8080/",
          "height": 102
        }
      },
      "source": [
        "encoder = Encoder(65, hidden_units, batch_size, 1, num_lstm_layers)\n",
        "print(encoder)"
      ],
      "execution_count": 18,
      "outputs": [
        {
          "output_type": "stream",
          "text": [
            "Encoder(\n",
            "  (lstm): LSTM(65, 80, num_layers=2)\n",
            "  (linear): Linear(in_features=80, out_features=80, bias=True)\n",
            "  (dense): Linear(in_features=80, out_features=1, bias=True)\n",
            ")\n"
          ],
          "name": "stdout"
        }
      ]
    },
    {
      "cell_type": "code",
      "metadata": {
        "id": "7tYMxwRdQojT",
        "colab_type": "code",
        "colab": {}
      },
      "source": [
        "use_cuda = False\n",
        "if use_cuda and torch.cuda.is_available():\n",
        "    encoder.cuda()"
      ],
      "execution_count": 0,
      "outputs": []
    },
    {
      "cell_type": "code",
      "metadata": {
        "id": "VIa10RoikYuz",
        "colab_type": "code",
        "outputId": "3c7f1bbf-16bf-45d3-a116-472d2658b827",
        "colab": {
          "base_uri": "https://localhost:8080/",
          "height": 616
        }
      },
      "source": [
        "### TRAINING the encoder###\n",
        "\n",
        "##Question: should optimization be done on each time series or over loss for all TS?\n",
        "loss_function = crps_loss\n",
        "encoder_optimiser = torch.optim.Adam(encoder.parameters(), lr=learning_rate)\n",
        "train_loss = []\n",
        "early_stop_count = 0\n",
        "\n",
        "for i in range(num_epochs): \n",
        "  encoder.zero_grad()\n",
        "  encoder_hidden = encoder.init_hidden()\n",
        "  \n",
        "  batch_loss = 0\n",
        "  \n",
        "  data_batch = train_data_covs #change this when using larger dataset \n",
        "  \n",
        "  data_batch = Variable(data_batch)\n",
        "  \n",
        "  if use_cuda and torch.cuda.is_available():\n",
        "    data_batch = data_batch.cuda()\n",
        "  \n",
        "  for j in range(batch_size):\n",
        "    loss_t = 0 \n",
        "    input_data = data_batch[j]\n",
        "    \n",
        "    for t in range(T-1): \n",
        "      theta, encoder_hidden = encoder(input_data[t:t+1], encoder_hidden)\n",
        "      loss_t += loss_function(theta, input_data[t+1:t+2,0])\n",
        " \n",
        "      \n",
        "    #ts_loss = loss_t  \n",
        "    #print(ts_loss)\n",
        "    \n",
        "    #encoder_optimiser.zero_grad()\n",
        "    #ts_loss.backward()\n",
        "    #encoder_optimiser.step()\n",
        "   \n",
        "    batch_loss+= loss_t\n",
        "    \n",
        "  loss_batch = batch_loss \n",
        "    \n",
        "  encoder_optimiser.zero_grad()\n",
        "  \n",
        "  batch_loss.backward()\n",
        "\n",
        "  encoder_optimiser.step()\n",
        "\n",
        "  train_loss.append(batch_loss.item())\n",
        "  \n",
        "  #early stopping\n",
        "  if train_loss[i] > train_loss[i-1]: \n",
        "    early_stop_count += 1\n",
        "    if early_stop_count == early_stop_patience:\n",
        "      break\n",
        "    \n",
        "  \n",
        "  print(\"Epoch \", i, \"CRPS \", batch_loss.item())\n",
        "  \n",
        "  torch.cuda.empty_cache() \n",
        "  "
      ],
      "execution_count": 20,
      "outputs": [
        {
          "output_type": "stream",
          "text": [
            "/usr/local/lib/python3.6/dist-packages/ipykernel_launcher.py:23: UserWarning: Implicit dimension choice for softmax has been deprecated. Change the call to include dim=X as an argument.\n",
            "/usr/local/lib/python3.6/dist-packages/ipykernel_launcher.py:24: UserWarning: Implicit dimension choice for softmax has been deprecated. Change the call to include dim=X as an argument.\n"
          ],
          "name": "stderr"
        },
        {
          "output_type": "stream",
          "text": [
            "Epoch  0 CRPS  1758.34130859375\n",
            "Epoch  1 CRPS  1400.0474853515625\n",
            "Epoch  2 CRPS  1090.032470703125\n",
            "Epoch  3 CRPS  827.9197387695312\n",
            "Epoch  4 CRPS  613.0569458007812\n",
            "Epoch  5 CRPS  444.2969055175781\n",
            "Epoch  6 CRPS  319.7799072265625\n",
            "Epoch  7 CRPS  237.05181884765625\n",
            "Epoch  8 CRPS  193.16400146484375\n",
            "Epoch  9 CRPS  189.05508422851562\n",
            "Epoch  10 CRPS  220.39837646484375\n"
          ],
          "name": "stdout"
        },
        {
          "output_type": "error",
          "ename": "KeyboardInterrupt",
          "evalue": "ignored",
          "traceback": [
            "\u001b[0;31m---------------------------------------------------------------------------\u001b[0m",
            "\u001b[0;31mKeyboardInterrupt\u001b[0m                         Traceback (most recent call last)",
            "\u001b[0;32m<ipython-input-20-af525df262b2>\u001b[0m in \u001b[0;36m<module>\u001b[0;34m()\u001b[0m\n\u001b[1;32m     23\u001b[0m     \u001b[0;32mfor\u001b[0m \u001b[0mt\u001b[0m \u001b[0;32min\u001b[0m \u001b[0mrange\u001b[0m\u001b[0;34m(\u001b[0m\u001b[0mT\u001b[0m\u001b[0;34m-\u001b[0m\u001b[0;36m1\u001b[0m\u001b[0;34m)\u001b[0m\u001b[0;34m:\u001b[0m\u001b[0;34m\u001b[0m\u001b[0;34m\u001b[0m\u001b[0m\n\u001b[1;32m     24\u001b[0m       \u001b[0mtheta\u001b[0m\u001b[0;34m,\u001b[0m \u001b[0mencoder_hidden\u001b[0m \u001b[0;34m=\u001b[0m \u001b[0mencoder\u001b[0m\u001b[0;34m(\u001b[0m\u001b[0minput_data\u001b[0m\u001b[0;34m[\u001b[0m\u001b[0mt\u001b[0m\u001b[0;34m:\u001b[0m\u001b[0mt\u001b[0m\u001b[0;34m+\u001b[0m\u001b[0;36m1\u001b[0m\u001b[0;34m]\u001b[0m\u001b[0;34m,\u001b[0m \u001b[0mencoder_hidden\u001b[0m\u001b[0;34m)\u001b[0m\u001b[0;34m\u001b[0m\u001b[0;34m\u001b[0m\u001b[0m\n\u001b[0;32m---> 25\u001b[0;31m       \u001b[0mloss_t\u001b[0m \u001b[0;34m+=\u001b[0m \u001b[0mloss_function\u001b[0m\u001b[0;34m(\u001b[0m\u001b[0mtheta\u001b[0m\u001b[0;34m,\u001b[0m \u001b[0minput_data\u001b[0m\u001b[0;34m[\u001b[0m\u001b[0mt\u001b[0m\u001b[0;34m+\u001b[0m\u001b[0;36m1\u001b[0m\u001b[0;34m:\u001b[0m\u001b[0mt\u001b[0m\u001b[0;34m+\u001b[0m\u001b[0;36m2\u001b[0m\u001b[0;34m,\u001b[0m\u001b[0;36m0\u001b[0m\u001b[0;34m]\u001b[0m\u001b[0;34m)\u001b[0m\u001b[0;34m\u001b[0m\u001b[0;34m\u001b[0m\u001b[0m\n\u001b[0m\u001b[1;32m     26\u001b[0m \u001b[0;34m\u001b[0m\u001b[0m\n\u001b[1;32m     27\u001b[0m \u001b[0;34m\u001b[0m\u001b[0m\n",
            "\u001b[0;32m<ipython-input-10-2c01781eedc1>\u001b[0m in \u001b[0;36mcrps_loss\u001b[0;34m(theta, z)\u001b[0m\n\u001b[1;32m     18\u001b[0m   \u001b[0mlo\u001b[0m \u001b[0;34m=\u001b[0m \u001b[0;36m0\u001b[0m\u001b[0;34m\u001b[0m\u001b[0;34m\u001b[0m\u001b[0m\n\u001b[1;32m     19\u001b[0m   \u001b[0;32mfor\u001b[0m \u001b[0ml\u001b[0m \u001b[0;32min\u001b[0m \u001b[0mrange\u001b[0m\u001b[0;34m(\u001b[0m\u001b[0mL\u001b[0m\u001b[0;34m-\u001b[0m\u001b[0;36m1\u001b[0m\u001b[0;34m,\u001b[0m \u001b[0;34m-\u001b[0m\u001b[0;36m1\u001b[0m\u001b[0;34m,\u001b[0m \u001b[0;34m-\u001b[0m\u001b[0;36m1\u001b[0m\u001b[0;34m)\u001b[0m\u001b[0;34m:\u001b[0m\u001b[0;34m\u001b[0m\u001b[0;34m\u001b[0m\u001b[0m\n\u001b[0;32m---> 20\u001b[0;31m     \u001b[0mval\u001b[0m \u001b[0;34m=\u001b[0m \u001b[0msqf\u001b[0m\u001b[0;34m(\u001b[0m\u001b[0mtheta\u001b[0m\u001b[0;34m,\u001b[0m \u001b[0md\u001b[0m\u001b[0;34m[\u001b[0m\u001b[0ml\u001b[0m\u001b[0;34m]\u001b[0m\u001b[0;34m)\u001b[0m\u001b[0;34m\u001b[0m\u001b[0;34m\u001b[0m\u001b[0m\n\u001b[0m\u001b[1;32m     21\u001b[0m     \u001b[0;32mif\u001b[0m \u001b[0mval\u001b[0m \u001b[0;34m<\u001b[0m \u001b[0mz\u001b[0m\u001b[0;34m:\u001b[0m\u001b[0;34m\u001b[0m\u001b[0;34m\u001b[0m\u001b[0m\n\u001b[1;32m     22\u001b[0m       \u001b[0mlo\u001b[0m \u001b[0;34m=\u001b[0m \u001b[0ml\u001b[0m\u001b[0;34m\u001b[0m\u001b[0;34m\u001b[0m\u001b[0m\n",
            "\u001b[0;32m<ipython-input-11-11b2049d0a62>\u001b[0m in \u001b[0;36msqf\u001b[0;34m(theta, quantile)\u001b[0m\n\u001b[1;32m      6\u001b[0m   \u001b[0mL\u001b[0m \u001b[0;34m=\u001b[0m \u001b[0mlen\u001b[0m\u001b[0;34m(\u001b[0m\u001b[0mbeta\u001b[0m\u001b[0;34m)\u001b[0m\u001b[0;34m\u001b[0m\u001b[0;34m\u001b[0m\u001b[0m\n\u001b[1;32m      7\u001b[0m \u001b[0;34m\u001b[0m\u001b[0m\n\u001b[0;32m----> 8\u001b[0;31m   \u001b[0mb\u001b[0m\u001b[0;34m,\u001b[0m\u001b[0md\u001b[0m \u001b[0;34m=\u001b[0m \u001b[0mgetbd_from_theta\u001b[0m\u001b[0;34m(\u001b[0m\u001b[0mtheta\u001b[0m\u001b[0;34m)\u001b[0m\u001b[0;34m\u001b[0m\u001b[0;34m\u001b[0m\u001b[0m\n\u001b[0m\u001b[1;32m      9\u001b[0m \u001b[0;34m\u001b[0m\u001b[0m\n\u001b[1;32m     10\u001b[0m   \u001b[0mmax_\u001b[0m \u001b[0;34m=\u001b[0m \u001b[0mtorch\u001b[0m\u001b[0;34m.\u001b[0m\u001b[0mmax\u001b[0m\u001b[0;34m(\u001b[0m\u001b[0mquantile\u001b[0m\u001b[0;34m-\u001b[0m\u001b[0md\u001b[0m\u001b[0;34m,\u001b[0m \u001b[0mtorch\u001b[0m\u001b[0;34m.\u001b[0m\u001b[0mzeros\u001b[0m\u001b[0;34m(\u001b[0m\u001b[0mL\u001b[0m\u001b[0;34m)\u001b[0m\u001b[0;34m)\u001b[0m\u001b[0;34m\u001b[0m\u001b[0;34m\u001b[0m\u001b[0m\n",
            "\u001b[0;32m<ipython-input-9-bdac65ad2bfc>\u001b[0m in \u001b[0;36mgetbd_from_theta\u001b[0;34m(theta)\u001b[0m\n\u001b[1;32m      9\u001b[0m       \u001b[0mb\u001b[0m\u001b[0;34m[\u001b[0m\u001b[0ml\u001b[0m\u001b[0;34m]\u001b[0m \u001b[0;34m=\u001b[0m \u001b[0mbeta\u001b[0m\u001b[0;34m[\u001b[0m\u001b[0ml\u001b[0m\u001b[0;34m]\u001b[0m\u001b[0;34m\u001b[0m\u001b[0;34m\u001b[0m\u001b[0m\n\u001b[1;32m     10\u001b[0m     \u001b[0;32melse\u001b[0m\u001b[0;34m:\u001b[0m\u001b[0;34m\u001b[0m\u001b[0;34m\u001b[0m\u001b[0m\n\u001b[0;32m---> 11\u001b[0;31m       \u001b[0mb\u001b[0m\u001b[0;34m[\u001b[0m\u001b[0ml\u001b[0m\u001b[0;34m]\u001b[0m \u001b[0;34m=\u001b[0m \u001b[0mbeta\u001b[0m\u001b[0;34m[\u001b[0m\u001b[0ml\u001b[0m\u001b[0;34m]\u001b[0m\u001b[0;34m-\u001b[0m\u001b[0mbeta\u001b[0m\u001b[0;34m[\u001b[0m\u001b[0ml\u001b[0m\u001b[0;34m-\u001b[0m\u001b[0;36m1\u001b[0m\u001b[0;34m]\u001b[0m\u001b[0;34m\u001b[0m\u001b[0;34m\u001b[0m\u001b[0m\n\u001b[0m\u001b[1;32m     12\u001b[0m   \u001b[0md\u001b[0m \u001b[0;34m=\u001b[0m \u001b[0mtorch\u001b[0m\u001b[0;34m.\u001b[0m\u001b[0mzeros\u001b[0m\u001b[0;34m(\u001b[0m\u001b[0mL\u001b[0m\u001b[0;34m)\u001b[0m\u001b[0;34m\u001b[0m\u001b[0;34m\u001b[0m\u001b[0m\n\u001b[1;32m     13\u001b[0m   \u001b[0;32mfor\u001b[0m \u001b[0ml\u001b[0m \u001b[0;32min\u001b[0m \u001b[0mrange\u001b[0m\u001b[0;34m(\u001b[0m\u001b[0;36m1\u001b[0m\u001b[0;34m,\u001b[0m\u001b[0mL\u001b[0m\u001b[0;34m)\u001b[0m\u001b[0;34m:\u001b[0m\u001b[0;34m\u001b[0m\u001b[0;34m\u001b[0m\u001b[0m\n",
            "\u001b[0;31mKeyboardInterrupt\u001b[0m: "
          ]
        }
      ]
    },
    {
      "cell_type": "code",
      "metadata": {
        "id": "ouJ2LmtMwF6d",
        "colab_type": "code",
        "outputId": "6d59bc60-d8ca-4c06-e6a0-c8a5fc7c39cd",
        "colab": {
          "base_uri": "https://localhost:8080/",
          "height": 286
        }
      },
      "source": [
        "plt.plot(train_loss)\n"
      ],
      "execution_count": 21,
      "outputs": [
        {
          "output_type": "execute_result",
          "data": {
            "text/plain": [
              "[<matplotlib.lines.Line2D at 0x7f2d1bf55940>]"
            ]
          },
          "metadata": {
            "tags": []
          },
          "execution_count": 21
        },
        {
          "output_type": "display_data",
          "data": {
            "image/png": "[encoded data removed]",
            "text/plain": [
              "<Figure size 432x288 with 1 Axes>"
            ]
          },
          "metadata": {
            "tags": []
          }
        }
      ]
    },
    {
      "cell_type": "code",
      "metadata": {
        "id": "RCDHMLvzAOvQ",
        "colab_type": "code",
        "outputId": "8d10b06e-8ca0-407b-beb1-089dd3b9e461",
        "colab": {
          "base_uri": "https://localhost:8080/",
          "height": 286
        }
      },
      "source": [
        "#test data \n",
        "test_data = test_vols[0, 0:int(T/64)]\n",
        "test_data = test_data.flatten()\n",
        "test_data_norm = test_data/np.amax(test_vols[0])\n",
        "\n",
        "plt.plot(test_data_norm)"
      ],
      "execution_count": 22,
      "outputs": [
        {
          "output_type": "execute_result",
          "data": {
            "text/plain": [
              "[<matplotlib.lines.Line2D at 0x7f2d196cbf28>]"
            ]
          },
          "metadata": {
            "tags": []
          },
          "execution_count": 22
        },
        {
          "output_type": "display_data",
          "data": {
            "image/png": "[encoded data removed]",
            "text/plain": [
              "<Figure size 432x288 with 1 Axes>"
            ]
          },
          "metadata": {
            "tags": []
          }
        }
      ]
    },
    {
      "cell_type": "code",
      "metadata": {
        "id": "e3TdDaG9ZJLV",
        "colab_type": "code",
        "colab": {}
      },
      "source": [
        "test_data = test_data_norm.reshape((1,-1))\n",
        "\n",
        "covars = create_covariate_data(test_data, 64)\n",
        "\n",
        "input_test_data = torch.FloatTensor(covars)\n",
        "input_test_data = input_test_data[0]"
      ],
      "execution_count": 0,
      "outputs": []
    },
    {
      "cell_type": "code",
      "metadata": {
        "id": "NIPzPlCFq468",
        "colab_type": "code",
        "outputId": "674d8d58-3e20-4a28-cac2-c41ed716a50f",
        "colab": {
          "base_uri": "https://localhost:8080/",
          "height": 71
        }
      },
      "source": [
        "## PREDICTION ## this is for one example rather than a batch of test data so far \n",
        "decoder = encoder\n",
        "paths = np.zeros((num_paths, T + pred_length))\n",
        "\n",
        "with torch.no_grad(): \n",
        "  input_data = input_test_data\n",
        "  for t in range(T): \n",
        "    theta, encoder_hidden = encoder(input_test_data[t], encoder_hidden)\n",
        "    #print(t, encoder_hidden)\n",
        "    \n",
        "  for n in range(num_paths): \n",
        "  \n",
        "    decoder_input = input_test_data[T-1]\n",
        "    decoder_hidden = encoder_hidden \n",
        "    #should resample alpha each time rather than keeping same alpha over an individual path \n",
        "    sample_path = np.zeros(pred_length)\n",
        "\n",
        "    for i in range(pred_length): \n",
        "      theta, decoder_hidden = decoder(decoder_input, decoder_hidden)\n",
        "      alpha = torch.distributions.uniform.Uniform(0,1).rsample()\n",
        "      z_hat = sqf(theta, alpha)\n",
        "      sample_path[i] = z_hat.item()\n",
        "      one_hot = torch.zeros(65)\n",
        "      one_hot[0] = z_hat\n",
        "      one_hot[i+1] = 1\n",
        "      decoder_input = one_hot\n",
        "      \n",
        "    paths[n,:T] = input_test_data[:,0]\n",
        "    paths[n, T:] = sample_path\n"
      ],
      "execution_count": 24,
      "outputs": [
        {
          "output_type": "stream",
          "text": [
            "/usr/local/lib/python3.6/dist-packages/ipykernel_launcher.py:23: UserWarning: Implicit dimension choice for softmax has been deprecated. Change the call to include dim=X as an argument.\n",
            "/usr/local/lib/python3.6/dist-packages/ipykernel_launcher.py:24: UserWarning: Implicit dimension choice for softmax has been deprecated. Change the call to include dim=X as an argument.\n"
          ],
          "name": "stderr"
        }
      ]
    },
    {
      "cell_type": "code",
      "metadata": {
        "id": "nlKvi06iSrKW",
        "colab_type": "code",
        "outputId": "78f65482-8e96-4eeb-d95c-5da249745020",
        "colab": {
          "base_uri": "https://localhost:8080/",
          "height": 238
        }
      },
      "source": [
        "paths[0, T:]"
      ],
      "execution_count": 25,
      "outputs": [
        {
          "output_type": "execute_result",
          "data": {
            "text/plain": [
              "array([0.02932895, 0.03231969, 0.02387534, 0.02896571, 0.02239065,\n",
              "       0.03265097, 0.0243155 , 0.02041849, 0.02731518, 0.02893854,\n",
              "       0.03298277, 0.02576179, 0.02558628, 0.03214137, 0.02636553,\n",
              "       0.02933184, 0.02552427, 0.02366467, 0.03143455, 0.02149331,\n",
              "       0.02275421, 0.02719089, 0.02977835, 0.02546998, 0.02492402,\n",
              "       0.0233366 , 0.02836309, 0.02706724, 0.03141326, 0.02469097,\n",
              "       0.02887988, 0.03366983, 0.03122307, 0.03025094, 0.02451329,\n",
              "       0.02701245, 0.02395836, 0.02689922, 0.02453906, 0.02158214,\n",
              "       0.02620604, 0.02415145, 0.02708109, 0.03355415, 0.02419687,\n",
              "       0.02263409, 0.02473004, 0.02550423, 0.03480277, 0.02449419,\n",
              "       0.03115232, 0.02553424, 0.03271205, 0.02920112, 0.0244967 ,\n",
              "       0.03286415, 0.03083093, 0.03188657, 0.02137436, 0.02577842,\n",
              "       0.02550458, 0.02237712, 0.02226806, 0.022185  ])"
            ]
          },
          "metadata": {
            "tags": []
          },
          "execution_count": 25
        }
      ]
    },
    {
      "cell_type": "code",
      "metadata": {
        "id": "r5pfGH_qeifv",
        "colab_type": "code",
        "outputId": "bed89f76-55c5-4037-c301-294cab5ba874",
        "colab": {
          "base_uri": "https://localhost:8080/",
          "height": 286
        }
      },
      "source": [
        "plt.plot(actual_test_data_norm)\n",
        "plt.plot(paths[2])"
      ],
      "execution_count": 0,
      "outputs": [
        {
          "output_type": "execute_result",
          "data": {
            "text/plain": [
              "[<matplotlib.lines.Line2D at 0x7f04fcb92898>]"
            ]
          },
          "metadata": {
            "tags": []
          },
          "execution_count": 27
        },
        {
          "output_type": "display_data",
          "data": {
            "image/png": "[encoded data removed]",
            "text/plain": [
              "<Figure size 432x288 with 1 Axes>"
            ]
          },
          "metadata": {
            "tags": []
          }
        }
      ]
    },
    {
      "cell_type": "code",
      "metadata": {
        "id": "_5I4TUGxpf1v",
        "colab_type": "code",
        "outputId": "34950941-3921-4a41-9b7b-2eb46f752360",
        "colab": {
          "base_uri": "https://localhost:8080/",
          "height": 286
        }
      },
      "source": [
        "actual_test_data = test_vols[0,0:int(T/64)+1]\n",
        "actual_test_data = actual_test_data.flatten()\n",
        "actual_test_data_norm = actual_test_data/np.amax(test_vols[0])\n",
        "\n",
        "plt.plot(actual_test_data_norm)"
      ],
      "execution_count": 26,
      "outputs": [
        {
          "output_type": "execute_result",
          "data": {
            "text/plain": [
              "[<matplotlib.lines.Line2D at 0x7f2d196432b0>]"
            ]
          },
          "metadata": {
            "tags": []
          },
          "execution_count": 26
        },
        {
          "output_type": "display_data",
          "data": {
            "image/png": "[encoded data removed]",
            "text/plain": [
              "<Figure size 432x288 with 1 Axes>"
            ]
          },
          "metadata": {
            "tags": []
          }
        }
      ]
    },
    {
      "cell_type": "code",
      "metadata": {
        "id": "kkaFVEcn5c8W",
        "colab_type": "code",
        "outputId": "b54f661b-9310-4aa7-d6f1-4f83e9967cb2",
        "colab": {
          "base_uri": "https://localhost:8080/",
          "height": 269
        }
      },
      "source": [
        "for i in range(num_paths): \n",
        "  plt.plot(paths[i])"
      ],
      "execution_count": 0,
      "outputs": [
        {
          "output_type": "display_data",
          "data": {
            "image/png": "[encoded data removed]",
            "text/plain": [
              "<Figure size 432x288 with 1 Axes>"
            ]
          },
          "metadata": {
            "tags": []
          }
        }
      ]
    }
  ]
}