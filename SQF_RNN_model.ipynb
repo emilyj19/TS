{
  "nbformat": 4,
  "nbformat_minor": 0,
  "metadata": {
    "colab": {
      "name": "SQF_RNN_model.ipynb",
      "version": "0.3.2",
      "provenance": [],
      "collapsed_sections": [],
      "include_colab_link": true
    },
    "kernelspec": {
      "name": "python3",
      "display_name": "Python 3"
    }
  },
  "cells": [
    {
      "cell_type": "markdown",
      "metadata": {
        "id": "view-in-github",
        "colab_type": "text"
      },
      "source": [
        "<a href=\"https://colab.research.google.com/github/emilyj19/TS/blob/master/SQF_RNN_model.ipynb\" target=\"_parent\"><img src=\"https://colab.research.google.com/assets/colab-badge.svg\" alt=\"Open In Colab\"/></a>"
      ]
    },
    {
      "cell_type": "code",
      "metadata": {
        "id": "hPtSnNPJ7eTH",
        "colab_type": "code",
        "outputId": "111c67a3-2eb5-402b-94c1-dd6e98982b40",
        "colab": {
          "base_uri": "https://localhost:8080/",
          "height": 51
        }
      },
      "source": [
        "pip install torch"
      ],
      "execution_count": 24,
      "outputs": [
        {
          "output_type": "stream",
          "text": [
            "Requirement already satisfied: torch in /usr/local/lib/python3.6/dist-packages (1.1.0)\n",
            "Requirement already satisfied: numpy in /usr/local/lib/python3.6/dist-packages (from torch) (1.14.6)\n"
          ],
          "name": "stdout"
        }
      ]
    },
    {
      "cell_type": "code",
      "metadata": {
        "id": "ScIt9ImB8cav",
        "colab_type": "code",
        "colab": {}
      },
      "source": [
        "import numpy as np \n",
        "import tensorflow as tf\n",
        "import matplotlib\n",
        "import matplotlib.pyplot as plt \n",
        "import pandas as pd\n",
        "import torch\n",
        "from torch import nn\n",
        "from torch.utils.data import DataLoader, TensorDataset"
      ],
      "execution_count": 0,
      "outputs": []
    },
    {
      "cell_type": "code",
      "metadata": {
        "id": "CZvoZxQX7-G1",
        "colab_type": "code",
        "outputId": "61c2f210-ca9f-4df1-f31c-85e5978de68f",
        "colab": {
          "base_uri": "https://localhost:8080/",
          "height": 34
        }
      },
      "source": [
        "from google.colab import drive\n",
        "drive.mount('/content/gdrive')"
      ],
      "execution_count": 26,
      "outputs": [
        {
          "output_type": "stream",
          "text": [
            "Drive already mounted at /content/gdrive; to attempt to forcibly remount, call drive.mount(\"/content/gdrive\", force_remount=True).\n"
          ],
          "name": "stdout"
        }
      ]
    },
    {
      "cell_type": "code",
      "metadata": {
        "id": "KTbcnwJm7_lD",
        "colab_type": "code",
        "outputId": "dbb17116-4d05-4680-d44a-1938e9d8a7d6",
        "colab": {
          "base_uri": "https://localhost:8080/",
          "height": 34
        }
      },
      "source": [
        "root_path = 'gdrive/My Drive/FinancialTS/JPmarket_dataset.npz' \n",
        "data = np.load(root_path)\n",
        "data.files"
      ],
      "execution_count": 27,
      "outputs": [
        {
          "output_type": "execute_result",
          "data": {
            "text/plain": [
              "['train_ratios', 'test_ratios', 'train_volumes', 'test_volumes']"
            ]
          },
          "metadata": {
            "tags": []
          },
          "execution_count": 27
        }
      ]
    },
    {
      "cell_type": "code",
      "metadata": {
        "id": "t8SDMHW78HXd",
        "colab_type": "code",
        "colab": {}
      },
      "source": [
        "train_ratios = data['train_ratios']\n",
        "test_ratios = data['test_ratios']\n",
        "train_vols = data['train_volumes']\n",
        "test_vols = data['test_volumes']"
      ],
      "execution_count": 0,
      "outputs": []
    },
    {
      "cell_type": "code",
      "metadata": {
        "id": "kI540y0JQBpu",
        "colab_type": "code",
        "colab": {}
      },
      "source": [
        "mini_train_ratios = train_ratios[0:50]\n",
        "mini_test_ratios = test_ratios[0:50]"
      ],
      "execution_count": 0,
      "outputs": []
    },
    {
      "cell_type": "code",
      "metadata": {
        "id": "fItoKOzL8K-c",
        "colab_type": "code",
        "colab": {}
      },
      "source": [
        "#need to change this to create windows for all stocks \n",
        "\n",
        "def split_data(n_days, data): #data for one stock in the form [days, bins]\n",
        "  no_ts = data.shape[0]-n_days\n",
        "  length_ts = n_days*data.shape[1]\n",
        "  new_data = np.zeros((no_ts,length_ts))\n",
        "  for j in range(no_ts):\n",
        "    for i in range(n_days): \n",
        "      new_data[j,64*i:64*i + 64] = data[j+i,:]\n",
        "  \n",
        "  return new_data"
      ],
      "execution_count": 0,
      "outputs": []
    },
    {
      "cell_type": "code",
      "metadata": {
        "id": "73_oSS9u8N8z",
        "colab_type": "code",
        "colab": {}
      },
      "source": [
        "def make_test_data(train_data, test_data, n_days, stock_index):\n",
        "  all_data = np.concatenate((train_data, test_data), axis = 1)\n",
        "  \n",
        "  one_data = all_data[stock_index]\n",
        "  \n",
        "  #now want to take only sets of n_days which contain the test data too \n",
        "  no_ts = test_data.shape[1]\n",
        "  length_ts = n_days*one_data.shape[1]\n",
        "  new_data = np.zeros((no_ts, length_ts))\n",
        "  \n",
        "  for j in range(no_ts): \n",
        "    for i in range(n_days): \n",
        "      new_data[j, 64*i:64*i + 64] = one_data[train_data.shape[1]+j-180+i+1,:]\n",
        "      \n",
        "  return new_data\n",
        "\n",
        "\n",
        "testing_ratios = make_test_data(train_ratios, test_ratios, 180, 0)"
      ],
      "execution_count": 0,
      "outputs": []
    },
    {
      "cell_type": "code",
      "metadata": {
        "id": "bvkSNm358o4P",
        "colab_type": "code",
        "colab": {}
      },
      "source": [
        "def getbd_from_theta(theta): \n",
        "  gamma, beta, delta = theta\n",
        "  \n",
        "  L = len(beta)\n",
        "  \n",
        "  b = torch.zeros(L)\n",
        "  for l in range(L): \n",
        "    if l == 0 : \n",
        "      b[l] = beta[l]\n",
        "    else: \n",
        "      b[l] = beta[l]-beta[l-1]\n",
        "  d = torch.zeros(L)\n",
        "  for l in range(1,L): \n",
        "    d[l] = torch.sum(delta[:l])\n",
        "    \n",
        "  return b, d"
      ],
      "execution_count": 0,
      "outputs": []
    },
    {
      "cell_type": "code",
      "metadata": {
        "id": "I-Q5oJFh2igo",
        "colab_type": "code",
        "colab": {}
      },
      "source": [
        "def crps_loss(theta, z):\n",
        "  gamma, beta, delta = theta\n",
        "  \n",
        "  L = len(beta)\n",
        "  \n",
        "  b, d = getbd_from_theta(theta)\n",
        "  \n",
        "  lo = 0 \n",
        "    \n",
        "  for l in range(L-1, -1, -1): \n",
        "    val = sqf(theta, d[l])\n",
        "    if val < z:\n",
        "      lo = l\n",
        "      break \n",
        "  \n",
        "  a_tilde = (z-gamma + torch.sum(b[:lo]*d[:lo]))/torch.sum(b[:lo+1])\n",
        "  \n",
        "  max_ = torch.max(torch.zeros(L)+a_tilde, d)\n",
        "  #print('max', max_)\n",
        "  \n",
        "  bracket = (1/3)*(1-torch.pow(d, 3)) - d - torch.pow(max_,2) + 2*max_*d\n",
        "  #print('bracket', bracket)\n",
        "  \n",
        "  loss = (2*a_tilde - 1)*z + (1-2*a_tilde)*gamma + torch.sum(b*bracket)\n",
        "  #print(loss.item())\n",
        "  \n",
        "  return loss "
      ],
      "execution_count": 0,
      "outputs": []
    },
    {
      "cell_type": "code",
      "metadata": {
        "id": "M7byuacN2kW7",
        "colab_type": "code",
        "colab": {}
      },
      "source": [
        "def sqf(theta, quantile): \n",
        "  \n",
        "  #would expect beta and delta to be vectors length hidden_units\n",
        "  \n",
        "  gamma, beta, delta = theta\n",
        "  L = len(beta)\n",
        "  \n",
        "  b,d = getbd_from_theta(theta)\n",
        "    \n",
        "  max_ = torch.max(quantile-d, torch.zeros(L))\n",
        "  \n",
        "  qf = gamma + torch.sum(b*max_)\n",
        "  \n",
        "  return qf"
      ],
      "execution_count": 0,
      "outputs": []
    },
    {
      "cell_type": "code",
      "metadata": {
        "id": "KtpFnvDpUf-M",
        "colab_type": "code",
        "colab": {}
      },
      "source": [
        "class Encoder(nn.Module): \n",
        "  \n",
        "  def __init__(self, input_size, hidden_size, batch_size, output_size, num_layers):\n",
        "    super().__init__()\n",
        "    self.input_size = input_size\n",
        "    self.hidden_size = hidden_size\n",
        "    self.batch_size = batch_size\n",
        "    self.output_size = output_size\n",
        "    self.num_layers = num_layers\n",
        "    \n",
        "    self.lstm = nn.LSTM(input_size = self.input_size, hidden_size = self.hidden_size, num_layers = self.num_layers)\n",
        "    self.linear = nn.Linear(self.hidden_size, self.hidden_size)\n",
        "    self.dense = nn.Linear(self.hidden_size, 1)\n",
        "    self.softmax = nn.functional.softmax\n",
        "    self.softplus = nn.functional.softplus\n",
        "    \n",
        "  def init_hidden(self): \n",
        "    return torch.zeros(self.num_layers, 1, self.hidden_size)\n",
        "  \n",
        "  def forward(self, data, hidden):\n",
        "    lstm_out, hidden = self.lstm(data.view(1, 1, -1))\n",
        "    fc_layer = self.linear(lstm_out.view(-1)) \n",
        "    delta = self.softmax(fc_layer)\n",
        "    beta = self.softmax(fc_layer)\n",
        "    gamma = self.dense(fc_layer)\n",
        "    \n",
        "    theta = (gamma, beta, delta)\n",
        "    #print('theta', theta)\n",
        "    #print('delta', delta)\n",
        "    #print('beta', beta)\n",
        "    \n",
        "    return theta, hidden \n",
        "  "
      ],
      "execution_count": 0,
      "outputs": []
    },
    {
      "cell_type": "code",
      "metadata": {
        "id": "aKoU7fYqvbLw",
        "colab_type": "code",
        "colab": {}
      },
      "source": [
        "learning_rate = 0.0005\n",
        "#learning_rate_decay = \n",
        "num_epochs = 15\n",
        "T = 3*64\n",
        "num_paths = 50\n",
        "pred_length = 64\n",
        "num_lstm_layers = 2\n",
        "hidden_units = 80\n",
        "batch_size = 10\n",
        "\n",
        "training_data = split_data(int(T/64), train_ratios[0])\n",
        "training_data.shape\n",
        "\n",
        "small_data = np.zeros((10, training_data.shape[1]))\n",
        "for i in range(small_data.shape[0]): \n",
        "  index = np.random.randint(0, training_data.shape[0])\n",
        "  small_data[i,:] = training_data[index]\n",
        "  \n",
        "small_data_new = torch.FloatTensor(small_data)"
      ],
      "execution_count": 0,
      "outputs": []
    },
    {
      "cell_type": "code",
      "metadata": {
        "id": "zV2CJzS-EWKe",
        "colab_type": "code",
        "outputId": "9408e073-6253-4db7-93b3-23108ffb1b8d",
        "colab": {
          "base_uri": "https://localhost:8080/",
          "height": 102
        }
      },
      "source": [
        "encoder = Encoder(1, hidden_units, batch_size, 1, num_lstm_layers)\n",
        "print(encoder)"
      ],
      "execution_count": 96,
      "outputs": [
        {
          "output_type": "stream",
          "text": [
            "Encoder(\n",
            "  (lstm): LSTM(1, 80, num_layers=2)\n",
            "  (linear): Linear(in_features=80, out_features=80, bias=True)\n",
            "  (dense): Linear(in_features=80, out_features=1, bias=True)\n",
            ")\n"
          ],
          "name": "stdout"
        }
      ]
    },
    {
      "cell_type": "code",
      "metadata": {
        "id": "VIa10RoikYuz",
        "colab_type": "code",
        "outputId": "1c72ff7a-98bb-4182-e4c6-8344bbfa63ee",
        "colab": {
          "base_uri": "https://localhost:8080/",
          "height": 633
        }
      },
      "source": [
        "### TRAINING the encoder###\n",
        "\n",
        "##Question: should optimization be done on each time series or over loss for all TS?\n",
        "loss_function = crps_loss\n",
        "encoder_optimiser = torch.optim.Adam(encoder.parameters(), lr=learning_rate)\n",
        "train_loss = []\n",
        "\n",
        "for i in range(num_epochs): \n",
        "  encoder.zero_grad()\n",
        "  encoder_hidden = encoder.init_hidden()\n",
        "  \n",
        "  batch_loss = 0\n",
        "  \n",
        "  data_batch = small_data_new #change this when using larger dataset \n",
        "  \n",
        "  for j in range(batch_size):\n",
        "    loss_t = 0 \n",
        "    input_data = data_batch[j]\n",
        "    \n",
        "    #print('training batch element', j)\n",
        "    \n",
        "    for t in range(T-1): \n",
        "      theta, encoder_hidden = encoder(input_data[t:t+1], encoder_hidden)\n",
        "      loss_t += loss_function(theta, input_data[t+1:t+2])\n",
        " \n",
        "      \n",
        "    #ts_loss = loss_t  \n",
        "    #print(ts_loss)\n",
        "    \n",
        "    #encoder_optimiser.zero_grad()\n",
        "    #ts_loss.backward()\n",
        "    #encoder_optimiser.step()\n",
        "   \n",
        "    batch_loss+= loss_t\n",
        "    \n",
        "  loss_batch = batch_loss \n",
        "    \n",
        "  encoder_optimiser.zero_grad()\n",
        "  \n",
        "  batch_loss.backward()\n",
        "\n",
        "  encoder_optimiser.step()\n",
        "\n",
        "  train_loss.append(batch_loss.item())\n",
        "  \n",
        "  print(\"Epoch \", i, \"CRPS \", batch_loss.item())\n",
        "  "
      ],
      "execution_count": 99,
      "outputs": [
        {
          "output_type": "stream",
          "text": [
            "/usr/local/lib/python3.6/dist-packages/ipykernel_launcher.py:23: UserWarning: Implicit dimension choice for softmax has been deprecated. Change the call to include dim=X as an argument.\n",
            "/usr/local/lib/python3.6/dist-packages/ipykernel_launcher.py:24: UserWarning: Implicit dimension choice for softmax has been deprecated. Change the call to include dim=X as an argument.\n"
          ],
          "name": "stderr"
        },
        {
          "output_type": "stream",
          "text": [
            "Epoch  0 CRPS  1042.209716796875\n",
            "Epoch  1 CRPS  825.5733032226562\n",
            "Epoch  2 CRPS  636.6781616210938\n",
            "Epoch  3 CRPS  475.8078308105469\n",
            "Epoch  4 CRPS  343.047119140625\n",
            "Epoch  5 CRPS  238.12265014648438\n",
            "Epoch  6 CRPS  160.26931762695312\n",
            "Epoch  7 CRPS  108.00437927246094\n",
            "Epoch  8 CRPS  79.11420440673828\n",
            "Epoch  9 CRPS  73.12834167480469\n",
            "Epoch  10 CRPS  88.9939193725586\n",
            "Epoch  11 CRPS  118.69500732421875\n"
          ],
          "name": "stdout"
        },
        {
          "output_type": "error",
          "ename": "KeyboardInterrupt",
          "evalue": "ignored",
          "traceback": [
            "\u001b[0;31m---------------------------------------------------------------------------\u001b[0m",
            "\u001b[0;31mKeyboardInterrupt\u001b[0m                         Traceback (most recent call last)",
            "\u001b[0;32m<ipython-input-99-3461393c078c>\u001b[0m in \u001b[0;36m<module>\u001b[0;34m()\u001b[0m\n\u001b[1;32m     19\u001b[0m     \u001b[0;32mfor\u001b[0m \u001b[0mt\u001b[0m \u001b[0;32min\u001b[0m \u001b[0mrange\u001b[0m\u001b[0;34m(\u001b[0m\u001b[0mT\u001b[0m\u001b[0;34m-\u001b[0m\u001b[0;36m1\u001b[0m\u001b[0;34m)\u001b[0m\u001b[0;34m:\u001b[0m\u001b[0;34m\u001b[0m\u001b[0;34m\u001b[0m\u001b[0m\n\u001b[1;32m     20\u001b[0m       \u001b[0mtheta\u001b[0m\u001b[0;34m,\u001b[0m \u001b[0mencoder_hidden\u001b[0m \u001b[0;34m=\u001b[0m \u001b[0mencoder\u001b[0m\u001b[0;34m(\u001b[0m\u001b[0minput_data\u001b[0m\u001b[0;34m[\u001b[0m\u001b[0mt\u001b[0m\u001b[0;34m:\u001b[0m\u001b[0mt\u001b[0m\u001b[0;34m+\u001b[0m\u001b[0;36m1\u001b[0m\u001b[0;34m]\u001b[0m\u001b[0;34m,\u001b[0m \u001b[0mencoder_hidden\u001b[0m\u001b[0;34m)\u001b[0m\u001b[0;34m\u001b[0m\u001b[0;34m\u001b[0m\u001b[0m\n\u001b[0;32m---> 21\u001b[0;31m       \u001b[0mloss_t\u001b[0m \u001b[0;34m+=\u001b[0m \u001b[0mloss_function\u001b[0m\u001b[0;34m(\u001b[0m\u001b[0mtheta\u001b[0m\u001b[0;34m,\u001b[0m \u001b[0minput_data\u001b[0m\u001b[0;34m[\u001b[0m\u001b[0mt\u001b[0m\u001b[0;34m+\u001b[0m\u001b[0;36m1\u001b[0m\u001b[0;34m:\u001b[0m\u001b[0mt\u001b[0m\u001b[0;34m+\u001b[0m\u001b[0;36m2\u001b[0m\u001b[0;34m]\u001b[0m\u001b[0;34m)\u001b[0m\u001b[0;34m\u001b[0m\u001b[0;34m\u001b[0m\u001b[0m\n\u001b[0m\u001b[1;32m     22\u001b[0m \u001b[0;34m\u001b[0m\u001b[0m\n\u001b[1;32m     23\u001b[0m \u001b[0;34m\u001b[0m\u001b[0m\n",
            "\u001b[0;32m<ipython-input-84-6c5c3cab4c57>\u001b[0m in \u001b[0;36mcrps_loss\u001b[0;34m(theta, z)\u001b[0m\n\u001b[1;32m      9\u001b[0m \u001b[0;34m\u001b[0m\u001b[0m\n\u001b[1;32m     10\u001b[0m   \u001b[0;32mfor\u001b[0m \u001b[0ml\u001b[0m \u001b[0;32min\u001b[0m \u001b[0mrange\u001b[0m\u001b[0;34m(\u001b[0m\u001b[0mL\u001b[0m\u001b[0;34m-\u001b[0m\u001b[0;36m1\u001b[0m\u001b[0;34m,\u001b[0m \u001b[0;34m-\u001b[0m\u001b[0;36m1\u001b[0m\u001b[0;34m,\u001b[0m \u001b[0;34m-\u001b[0m\u001b[0;36m1\u001b[0m\u001b[0;34m)\u001b[0m\u001b[0;34m:\u001b[0m\u001b[0;34m\u001b[0m\u001b[0;34m\u001b[0m\u001b[0m\n\u001b[0;32m---> 11\u001b[0;31m     \u001b[0mval\u001b[0m \u001b[0;34m=\u001b[0m \u001b[0msqf\u001b[0m\u001b[0;34m(\u001b[0m\u001b[0mtheta\u001b[0m\u001b[0;34m,\u001b[0m \u001b[0md\u001b[0m\u001b[0;34m[\u001b[0m\u001b[0ml\u001b[0m\u001b[0;34m]\u001b[0m\u001b[0;34m)\u001b[0m\u001b[0;34m\u001b[0m\u001b[0;34m\u001b[0m\u001b[0m\n\u001b[0m\u001b[1;32m     12\u001b[0m     \u001b[0;32mif\u001b[0m \u001b[0mval\u001b[0m \u001b[0;34m<\u001b[0m \u001b[0mz\u001b[0m\u001b[0;34m:\u001b[0m\u001b[0;34m\u001b[0m\u001b[0;34m\u001b[0m\u001b[0m\n\u001b[1;32m     13\u001b[0m       \u001b[0mlo\u001b[0m \u001b[0;34m=\u001b[0m \u001b[0ml\u001b[0m\u001b[0;34m\u001b[0m\u001b[0;34m\u001b[0m\u001b[0m\n",
            "\u001b[0;32m<ipython-input-85-11b2049d0a62>\u001b[0m in \u001b[0;36msqf\u001b[0;34m(theta, quantile)\u001b[0m\n\u001b[1;32m      6\u001b[0m   \u001b[0mL\u001b[0m \u001b[0;34m=\u001b[0m \u001b[0mlen\u001b[0m\u001b[0;34m(\u001b[0m\u001b[0mbeta\u001b[0m\u001b[0;34m)\u001b[0m\u001b[0;34m\u001b[0m\u001b[0;34m\u001b[0m\u001b[0m\n\u001b[1;32m      7\u001b[0m \u001b[0;34m\u001b[0m\u001b[0m\n\u001b[0;32m----> 8\u001b[0;31m   \u001b[0mb\u001b[0m\u001b[0;34m,\u001b[0m\u001b[0md\u001b[0m \u001b[0;34m=\u001b[0m \u001b[0mgetbd_from_theta\u001b[0m\u001b[0;34m(\u001b[0m\u001b[0mtheta\u001b[0m\u001b[0;34m)\u001b[0m\u001b[0;34m\u001b[0m\u001b[0;34m\u001b[0m\u001b[0m\n\u001b[0m\u001b[1;32m      9\u001b[0m \u001b[0;34m\u001b[0m\u001b[0m\n\u001b[1;32m     10\u001b[0m   \u001b[0mmax_\u001b[0m \u001b[0;34m=\u001b[0m \u001b[0mtorch\u001b[0m\u001b[0;34m.\u001b[0m\u001b[0mmax\u001b[0m\u001b[0;34m(\u001b[0m\u001b[0mquantile\u001b[0m\u001b[0;34m-\u001b[0m\u001b[0md\u001b[0m\u001b[0;34m,\u001b[0m \u001b[0mtorch\u001b[0m\u001b[0;34m.\u001b[0m\u001b[0mzeros\u001b[0m\u001b[0;34m(\u001b[0m\u001b[0mL\u001b[0m\u001b[0;34m)\u001b[0m\u001b[0;34m)\u001b[0m\u001b[0;34m\u001b[0m\u001b[0;34m\u001b[0m\u001b[0m\n",
            "\u001b[0;32m<ipython-input-83-bdac65ad2bfc>\u001b[0m in \u001b[0;36mgetbd_from_theta\u001b[0;34m(theta)\u001b[0m\n\u001b[1;32m     12\u001b[0m   \u001b[0md\u001b[0m \u001b[0;34m=\u001b[0m \u001b[0mtorch\u001b[0m\u001b[0;34m.\u001b[0m\u001b[0mzeros\u001b[0m\u001b[0;34m(\u001b[0m\u001b[0mL\u001b[0m\u001b[0;34m)\u001b[0m\u001b[0;34m\u001b[0m\u001b[0;34m\u001b[0m\u001b[0m\n\u001b[1;32m     13\u001b[0m   \u001b[0;32mfor\u001b[0m \u001b[0ml\u001b[0m \u001b[0;32min\u001b[0m \u001b[0mrange\u001b[0m\u001b[0;34m(\u001b[0m\u001b[0;36m1\u001b[0m\u001b[0;34m,\u001b[0m\u001b[0mL\u001b[0m\u001b[0;34m)\u001b[0m\u001b[0;34m:\u001b[0m\u001b[0;34m\u001b[0m\u001b[0;34m\u001b[0m\u001b[0m\n\u001b[0;32m---> 14\u001b[0;31m     \u001b[0md\u001b[0m\u001b[0;34m[\u001b[0m\u001b[0ml\u001b[0m\u001b[0;34m]\u001b[0m \u001b[0;34m=\u001b[0m \u001b[0mtorch\u001b[0m\u001b[0;34m.\u001b[0m\u001b[0msum\u001b[0m\u001b[0;34m(\u001b[0m\u001b[0mdelta\u001b[0m\u001b[0;34m[\u001b[0m\u001b[0;34m:\u001b[0m\u001b[0ml\u001b[0m\u001b[0;34m]\u001b[0m\u001b[0;34m)\u001b[0m\u001b[0;34m\u001b[0m\u001b[0;34m\u001b[0m\u001b[0m\n\u001b[0m\u001b[1;32m     15\u001b[0m \u001b[0;34m\u001b[0m\u001b[0m\n\u001b[1;32m     16\u001b[0m   \u001b[0;32mreturn\u001b[0m \u001b[0mb\u001b[0m\u001b[0;34m,\u001b[0m \u001b[0md\u001b[0m\u001b[0;34m\u001b[0m\u001b[0;34m\u001b[0m\u001b[0m\n",
            "\u001b[0;31mKeyboardInterrupt\u001b[0m: "
          ]
        }
      ]
    },
    {
      "cell_type": "code",
      "metadata": {
        "id": "f9g08fYSzdts",
        "colab_type": "code",
        "outputId": "3d2c4eee-cca7-414f-f52e-e1973555f620",
        "colab": {
          "base_uri": "https://localhost:8080/",
          "height": 34
        }
      },
      "source": [
        ""
      ],
      "execution_count": 93,
      "outputs": [
        {
          "output_type": "execute_result",
          "data": {
            "text/plain": [
              "tensor([889.9541], grad_fn=<AddBackward0>)"
            ]
          },
          "metadata": {
            "tags": []
          },
          "execution_count": 93
        }
      ]
    },
    {
      "cell_type": "code",
      "metadata": {
        "id": "ouJ2LmtMwF6d",
        "colab_type": "code",
        "outputId": "4dc033f6-6e89-4e51-8ed7-2f3d7975a719",
        "colab": {
          "base_uri": "https://localhost:8080/",
          "height": 286
        }
      },
      "source": [
        "plt.plot(train_loss)"
      ],
      "execution_count": 100,
      "outputs": [
        {
          "output_type": "execute_result",
          "data": {
            "text/plain": [
              "[<matplotlib.lines.Line2D at 0x7f683e13f7b8>]"
            ]
          },
          "metadata": {
            "tags": []
          },
          "execution_count": 100
        },
        {
          "output_type": "display_data",
          "data": {
            "image/png": "[encoded data removed]",
            "text/plain": [
              "<Figure size 432x288 with 1 Axes>"
            ]
          },
          "metadata": {
            "tags": []
          }
        }
      ]
    },
    {
      "cell_type": "code",
      "metadata": {
        "id": "NIPzPlCFq468",
        "colab_type": "code",
        "colab": {}
      },
      "source": [
        "## PREDICTION ##\n",
        "decoder = Encoder()\n",
        "\n",
        "with torch.no_grad(): \n",
        "  for t in range(T): \n",
        "    theta, encoder_hidden = encoder(input_data[t], encoder_hidden)\n",
        "    \n",
        "  for n in range(num_paths): \n",
        "  \n",
        "    decoder_input = input_data[T]\n",
        "    decoder_hidden = encoder_hidden \n",
        "    alpha = torch.distributions.uniform.Uniform(0,1)\n",
        "    sample_path = []\n",
        "\n",
        "    for i in range(pred_length): \n",
        "      theta, decoder_hidden = decoder(decoder_input, decoder_hidden)\n",
        "      z_hat = sqf(theta, alpha)\n",
        "      sample_path.append(z_hat)\n",
        "      decoder_input = z_hat\n",
        "      \n",
        "    path = input_data.append(sample_path)\n"
      ],
      "execution_count": 0,
      "outputs": []
    }
  ]
}