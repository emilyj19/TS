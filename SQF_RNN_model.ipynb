{
  "nbformat": 4,
  "nbformat_minor": 0,
  "metadata": {
    "colab": {
      "name": "SQF_RNN_model.ipynb",
      "version": "0.3.2",
      "provenance": [],
      "collapsed_sections": [],
      "include_colab_link": true
    },
    "kernelspec": {
      "name": "python3",
      "display_name": "Python 3"
    }
  },
  "cells": [
    {
      "cell_type": "markdown",
      "metadata": {
        "id": "view-in-github",
        "colab_type": "text"
      },
      "source": [
        "<a href=\"https://colab.research.google.com/github/emilyj19/TS/blob/master/SQF_RNN_model.ipynb\" target=\"_parent\"><img src=\"https://colab.research.google.com/assets/colab-badge.svg\" alt=\"Open In Colab\"/></a>"
      ]
    },
    {
      "cell_type": "code",
      "metadata": {
        "id": "hPtSnNPJ7eTH",
        "colab_type": "code",
        "colab": {
          "base_uri": "https://localhost:8080/",
          "height": 51
        },
        "outputId": "47429997-8499-401f-dd6a-e7f00493bac1"
      },
      "source": [
        "pip install torch"
      ],
      "execution_count": 1,
      "outputs": [
        {
          "output_type": "stream",
          "text": [
            "Requirement already satisfied: torch in /usr/local/lib/python3.6/dist-packages (1.1.0)\n",
            "Requirement already satisfied: numpy in /usr/local/lib/python3.6/dist-packages (from torch) (1.16.4)\n"
          ],
          "name": "stdout"
        }
      ]
    },
    {
      "cell_type": "code",
      "metadata": {
        "id": "ScIt9ImB8cav",
        "colab_type": "code",
        "colab": {}
      },
      "source": [
        "import numpy as np \n",
        "import tensorflow as tf\n",
        "import matplotlib\n",
        "import matplotlib.pyplot as plt \n",
        "import pandas as pd\n",
        "import torch\n",
        "from torch import nn\n",
        "from torch.utils.data import DataLoader, TensorDataset"
      ],
      "execution_count": 0,
      "outputs": []
    },
    {
      "cell_type": "code",
      "metadata": {
        "id": "CZvoZxQX7-G1",
        "colab_type": "code",
        "colab": {
          "base_uri": "https://localhost:8080/",
          "height": 34
        },
        "outputId": "d5d5ca60-6d04-46a9-bc25-551135e9db7b"
      },
      "source": [
        "from google.colab import drive\n",
        "drive.mount('/content/gdrive')"
      ],
      "execution_count": 3,
      "outputs": [
        {
          "output_type": "stream",
          "text": [
            "Drive already mounted at /content/gdrive; to attempt to forcibly remount, call drive.mount(\"/content/gdrive\", force_remount=True).\n"
          ],
          "name": "stdout"
        }
      ]
    },
    {
      "cell_type": "code",
      "metadata": {
        "id": "KTbcnwJm7_lD",
        "colab_type": "code",
        "colab": {
          "base_uri": "https://localhost:8080/",
          "height": 34
        },
        "outputId": "7c90b4c7-9a39-4363-f6b3-28d138aa2c7b"
      },
      "source": [
        "root_path = 'gdrive/My Drive/FinancialTS/JPmarket_dataset.npz' \n",
        "data = np.load(root_path)\n",
        "data.files"
      ],
      "execution_count": 4,
      "outputs": [
        {
          "output_type": "execute_result",
          "data": {
            "text/plain": [
              "['train_ratios', 'test_ratios', 'train_volumes', 'test_volumes']"
            ]
          },
          "metadata": {
            "tags": []
          },
          "execution_count": 4
        }
      ]
    },
    {
      "cell_type": "code",
      "metadata": {
        "id": "t8SDMHW78HXd",
        "colab_type": "code",
        "colab": {}
      },
      "source": [
        "train_ratios = data['train_ratios']\n",
        "test_ratios = data['test_ratios']\n",
        "train_vols = data['train_volumes']\n",
        "test_vols = data['test_volumes']"
      ],
      "execution_count": 0,
      "outputs": []
    },
    {
      "cell_type": "code",
      "metadata": {
        "id": "fItoKOzL8K-c",
        "colab_type": "code",
        "colab": {}
      },
      "source": [
        "def split_data(n_days, data): #data for one stock in the form [days, bins]\n",
        "  no_ts = data.shape[0]-n_days\n",
        "  length_ts = n_days*data.shape[1]\n",
        "  new_data = np.zeros((no_ts,length_ts))\n",
        "  for j in range(no_ts):\n",
        "    for i in range(n_days): \n",
        "      new_data[j,64*i:64*i + 64] = data[j+i,:]\n",
        "  \n",
        "  return new_data\n",
        "\n",
        "training_data = split_data(180, train_ratios[0])"
      ],
      "execution_count": 0,
      "outputs": []
    },
    {
      "cell_type": "code",
      "metadata": {
        "id": "73_oSS9u8N8z",
        "colab_type": "code",
        "colab": {}
      },
      "source": [
        "def make_test_data(train_data, test_data, n_days, stock_index):\n",
        "  all_data = np.concatenate((train_data, test_data), axis = 1)\n",
        "  \n",
        "  one_data = all_data[stock_index]\n",
        "  \n",
        "  #now want to take only sets of n_days which contain the test data too \n",
        "  no_ts = test_data.shape[1]\n",
        "  length_ts = n_days*one_data.shape[1]\n",
        "  new_data = np.zeros((no_ts, length_ts))\n",
        "  \n",
        "  for j in range(no_ts): \n",
        "    for i in range(n_days): \n",
        "      new_data[j, 64*i:64*i + 64] = one_data[train_data.shape[1]+j-180+i+1,:]\n",
        "      \n",
        "  return new_data\n",
        "\n",
        "\n",
        "testing_ratios = make_test_data(train_ratios, test_ratios, 180, 0)"
      ],
      "execution_count": 0,
      "outputs": []
    },
    {
      "cell_type": "code",
      "metadata": {
        "id": "6gZYO9Nb8On1",
        "colab_type": "code",
        "colab": {}
      },
      "source": [
        ""
      ],
      "execution_count": 0,
      "outputs": []
    }
  ]
}