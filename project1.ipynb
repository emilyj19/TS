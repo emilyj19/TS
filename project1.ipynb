{
  "nbformat": 4,
  "nbformat_minor": 0,
  "metadata": {
    "colab": {
      "name": "project1.ipynb",
      "version": "0.3.2",
      "provenance": [],
      "collapsed_sections": [],
      "include_colab_link": true
    },
    "kernelspec": {
      "name": "python3",
      "display_name": "Python 3"
    }
  },
  "cells": [
    {
      "cell_type": "markdown",
      "metadata": {
        "id": "view-in-github",
        "colab_type": "text"
      },
      "source": [
        "<a href=\"https://colab.research.google.com/github/emilyj19/TS/blob/master/project1.ipynb\" target=\"_parent\"><img src=\"https://colab.research.google.com/assets/colab-badge.svg\" alt=\"Open In Colab\"/></a>"
      ]
    },
    {
      "cell_type": "code",
      "metadata": {
        "id": "iLNVMrCwr8rg",
        "colab_type": "code",
        "colab": {}
      },
      "source": [
        "import numpy as np \n",
        "import tensorflow as tf\n",
        "import matplotlib\n",
        "from matplotlib import pyplot as plt "
      ],
      "execution_count": 0,
      "outputs": []
    },
    {
      "cell_type": "code",
      "metadata": {
        "id": "PU4Q3C8rugyE",
        "colab_type": "code",
        "outputId": "d6c2c149-f0ce-4304-953a-e009794af000",
        "colab": {
          "base_uri": "https://localhost:8080/",
          "height": 122
        }
      },
      "source": [
        "from google.colab import drive\n",
        "drive.mount('/content/gdrive')"
      ],
      "execution_count": 0,
      "outputs": [
        {
          "output_type": "stream",
          "text": [
            "Go to this URL in a browser: https://accounts.google.com/o/oauth2/auth?client_id=947318989803-6bn6qk8qdgf4n4g3pfee6491hc0brc4i.apps.googleusercontent.com&redirect_uri=urn%3Aietf%3Awg%3Aoauth%3A2.0%3Aoob&scope=email%20https%3A%2F%2Fwww.googleapis.com%2Fauth%2Fdocs.test%20https%3A%2F%2Fwww.googleapis.com%2Fauth%2Fdrive%20https%3A%2F%2Fwww.googleapis.com%2Fauth%2Fdrive.photos.readonly%20https%3A%2F%2Fwww.googleapis.com%2Fauth%2Fpeopleapi.readonly&response_type=code\n",
            "\n",
            "Enter your authorization code:\n",
            "··········\n",
            "Mounted at /content/gdrive\n"
          ],
          "name": "stdout"
        }
      ]
    },
    {
      "cell_type": "code",
      "metadata": {
        "id": "Ppi9V0oGwgka",
        "colab_type": "code",
        "colab": {}
      },
      "source": [
        "root_path = 'gdrive/My Drive/FinancialTS/JPmarket_dataset.npz' \n",
        "data = np.load(root_path)"
      ],
      "execution_count": 0,
      "outputs": []
    },
    {
      "cell_type": "code",
      "metadata": {
        "id": "L6AoAB_Sy5zY",
        "colab_type": "code",
        "outputId": "c9cb0e92-9bb6-48e6-ae4a-4ebf41e634f3",
        "colab": {
          "base_uri": "https://localhost:8080/",
          "height": 34
        }
      },
      "source": [
        "data.files"
      ],
      "execution_count": 0,
      "outputs": [
        {
          "output_type": "execute_result",
          "data": {
            "text/plain": [
              "['train_ratios', 'test_ratios', 'train_volumes', 'test_volumes']"
            ]
          },
          "metadata": {
            "tags": []
          },
          "execution_count": 4
        }
      ]
    },
    {
      "cell_type": "code",
      "metadata": {
        "id": "0cchEcZXzJUZ",
        "colab_type": "code",
        "colab": {}
      },
      "source": [
        "train_ratios = data['train_ratios']\n",
        "test_ratios = data['test_ratios']\n",
        "train_vols = data['train_volumes']\n",
        "test_vols = data['test_volumes']"
      ],
      "execution_count": 0,
      "outputs": []
    },
    {
      "cell_type": "code",
      "metadata": {
        "id": "rrJtGUlb0dhh",
        "colab_type": "code",
        "outputId": "e34047be-8616-41e8-80dd-5a35b1724e02",
        "colab": {
          "base_uri": "https://localhost:8080/",
          "height": 34
        }
      },
      "source": [
        "train_ratios.shape"
      ],
      "execution_count": 0,
      "outputs": [
        {
          "output_type": "execute_result",
          "data": {
            "text/plain": [
              "(499, 462, 64)"
            ]
          },
          "metadata": {
            "tags": []
          },
          "execution_count": 8
        }
      ]
    },
    {
      "cell_type": "code",
      "metadata": {
        "id": "7E0sz_szCdS4",
        "colab_type": "code",
        "colab": {}
      },
      "source": [
        "#plot curves \n",
        "vol_list = []\n",
        "for i in range(mini_train_vols[9].shape[0]): \n",
        "  vol_list = vol_list + mini_train_vols[0,i,-1:].tolist()\n",
        "  #vol_list.append(mini_train_vols[0,i,:].tolist())\n",
        "\n",
        "\n"
      ],
      "execution_count": 0,
      "outputs": []
    },
    {
      "cell_type": "code",
      "metadata": {
        "id": "UiV3YEM6D1er",
        "colab_type": "code",
        "outputId": "d3bf5dcc-67df-4e1f-d86e-41c7eb8b3ca0",
        "colab": {
          "base_uri": "https://localhost:8080/",
          "height": 286
        }
      },
      "source": [
        "plt.plot(vol_list)"
      ],
      "execution_count": 0,
      "outputs": [
        {
          "output_type": "execute_result",
          "data": {
            "text/plain": [
              "[<matplotlib.lines.Line2D at 0x7f21288ae9e8>]"
            ]
          },
          "metadata": {
            "tags": []
          },
          "execution_count": 93
        },
        {
          "output_type": "display_data",
          "data": {
            "image/png": "[encoded data removed]",
            "text/plain": [
              "<Figure size 432x288 with 1 Axes>"
            ]
          },
          "metadata": {
            "tags": []
          }
        }
      ]
    },
    {
      "cell_type": "code",
      "metadata": {
        "id": "x5GuYgBD5M6t",
        "colab_type": "code",
        "colab": {}
      },
      "source": [
        "mini_train_ratios = train_ratios[:10]\n",
        "mini_test_ratios = test_ratios[:10]\n",
        "mini_train_vols = train_vols[:10]\n",
        "mini_test_vols = test_vols[:10]"
      ],
      "execution_count": 0,
      "outputs": []
    },
    {
      "cell_type": "code",
      "metadata": {
        "id": "e5TGDDhf57n3",
        "colab_type": "code",
        "colab": {}
      },
      "source": [
        "#loss function here \n",
        "def ModelLoss(actual, pred, N):\n",
        "  square_loss_matrix = np.square(actual[:,N:] - pred)\n",
        "  loss = np.mean(np.mean(np.mean(square_loss_matrix, axis = 2), axis = 1))\n",
        "  return loss"
      ],
      "execution_count": 0,
      "outputs": []
    },
    {
      "cell_type": "code",
      "metadata": {
        "id": "6f4kfdbHB4QY",
        "colab_type": "code",
        "colab": {}
      },
      "source": [
        "#baseline here \n",
        "\n",
        "#moving average \n",
        "ratio_pred_MA = np.zeros((499,462-180,64))\n",
        "for s in range(499):\n",
        "  #N = 180 days for each prediction so 462 - 180 = 282 preds\n",
        "  for d in range(180, train_ratios.shape[1]): \n",
        "    for t in range(train_ratios.shape[2]): \n",
        "      pred_t = np.mean(train_ratios[s,d-180:d,t])\n",
        "      ratio_pred_MA[s,d-180,t] = pred_t\n",
        "\n",
        "#generalise this into a function?\n",
        "      \n",
        "      \n",
        "#exponential moving average\n",
        "#use N = 30 here\n",
        "ratio_pred_EMA = np.zeros((499,462-30,64))\n",
        "k = 2/(30+1)\n",
        "for s in range(499): \n",
        "  for d in range(30, train_ratios.shape[1]): \n",
        "    for t in range(train_ratios.shape[2]): \n",
        "      if (d - 30) == 0: \n",
        "        pred_t = np.mean(train_ratios[s,d-30:d,t])\n",
        "        ratio_pred_EMA[s,d-30,t] = pred_t\n",
        "      else: \n",
        "        pred_t = (1-k)*ratio_pred_EMA[s,d-1-30,t] + k*train_ratios[s,d,t]\n",
        "        ratio_pred_EMA[s,d-30,t] = pred_t\n",
        "        "
      ],
      "execution_count": 0,
      "outputs": []
    },
    {
      "cell_type": "code",
      "metadata": {
        "id": "QnP_d1rFqpjw",
        "colab_type": "code",
        "colab": {}
      },
      "source": [
        "def MovingAverage(data, N):\n",
        "  no_stocks, days, bins = data.shape\n",
        "  pred_MA = np.zeros((no_stocks,days-N,bins))\n",
        "  for s in range(no_stocks):\n",
        "    for d in range(N, days): \n",
        "      for t in range(bins): \n",
        "        pred_t = np.mean(train_ratios[s,d-N:d,t])\n",
        "        pred_MA[s,d-N,t] = pred_t\n",
        "        \n",
        "  loss = ModelLoss(data, pred_MA, N)\n",
        "  \n",
        "  return pred_MA, loss \n",
        "\n",
        "def ExpMovingAverage(data, N): \n",
        "  no_stocks, days, bins = data.shape\n",
        "  pred_EMA = np.zeros((no_stocks,days-N,bins))\n",
        "  k = 2/(N+1)\n",
        "  for s in range(no_stocks):\n",
        "    for d in range(N, days): \n",
        "      for t in range(bins): \n",
        "        if (d - N) == 0: \n",
        "          pred_t = np.mean(data[s,d-N:d,t])\n",
        "          pred_EMA[s,d-N,t] = pred_t\n",
        "        else: \n",
        "          pred_t = (1-k)*pred_EMA[s,d-1-N,t] + k*data[s,d,t]\n",
        "          pred_EMA[s,d-N,t] = pred_t\n",
        "  \n",
        "  loss = ModelLoss(data, pred_EMA, N)\n",
        "  \n",
        "  return pred_EMA, loss \n",
        "          "
      ],
      "execution_count": 0,
      "outputs": []
    },
    {
      "cell_type": "code",
      "metadata": {
        "id": "hP3noIx4rEZa",
        "colab_type": "code",
        "outputId": "5fc2a1d3-4393-4007-f93e-20a07b5a381e",
        "colab": {
          "base_uri": "https://localhost:8080/",
          "height": 34
        }
      },
      "source": [
        "ExpMovingAverage(train_ratios, 30)[1]"
      ],
      "execution_count": 0,
      "outputs": [
        {
          "output_type": "execute_result",
          "data": {
            "text/plain": [
              "0.00017348341437292046"
            ]
          },
          "metadata": {
            "tags": []
          },
          "execution_count": 9
        }
      ]
    },
    {
      "cell_type": "code",
      "metadata": {
        "id": "YxxeRyK7vVdV",
        "colab_type": "code",
        "colab": {}
      },
      "source": [
        "#now do an LSTM \n",
        "\n",
        "#train LSTM on each individual time series or on all time series together? doesn't make sense to do on all - should do on each individual one \n",
        "#have to choose N time steps to predict using, and split the data into sequences \n",
        "#also need to keep constraints.... \n",
        "#and do I split the series like we did above, using the same bin each day to predict that bin for hte next day and ignring the rest?\n",
        "\n",
        "\n",
        "#split the data for input into the LSTM: \n",
        "\n",
        "def split_data(N, data): \n",
        "  \n"
      ],
      "execution_count": 0,
      "outputs": []
    },
    {
      "cell_type": "code",
      "metadata": {
        "id": "idPWCJBI4Yep",
        "colab_type": "code",
        "outputId": "5c460b84-fe78-4f6b-a85e-5215490093f4",
        "colab": {
          "base_uri": "https://localhost:8080/",
          "height": 1092
        }
      },
      "source": [
        "pip install gluonts"
      ],
      "execution_count": 0,
      "outputs": [
        {
          "output_type": "stream",
          "text": [
            "Collecting gluonts\n",
            "\u001b[?25l  Downloading https://files.pythonhosted.org/packages/23/4a/f736941b23d639270121f0db30e2f1eed8d6986be5dd7166d396eecfd6ea/gluonts-0.1.4-py3-none-any.whl (222kB)\n",
            "\u001b[K     |████████████████████████████████| 225kB 2.8MB/s \n",
            "\u001b[?25hRequirement already satisfied: tqdm>=4.23.0 in /usr/local/lib/python3.6/dist-packages (from gluonts) (4.28.1)\n",
            "Requirement already satisfied: holidays==0.9.* in /usr/local/lib/python3.6/dist-packages (from gluonts) (0.9.10)\n",
            "Requirement already satisfied: matplotlib==3.* in /usr/local/lib/python3.6/dist-packages (from gluonts) (3.0.3)\n",
            "Requirement already satisfied: pandas>=0.22.0 in /usr/local/lib/python3.6/dist-packages (from gluonts) (0.24.2)\n",
            "Collecting mxnet>=1.3.1 (from gluonts)\n",
            "\u001b[?25l  Downloading https://files.pythonhosted.org/packages/58/f4/bc147a1ba7175f9890523ff8f1a928a43ac8a79d5897a067158cac4d092f/mxnet-1.4.1-py2.py3-none-manylinux1_x86_64.whl (28.4MB)\n",
            "\u001b[K     |████████████████████████████████| 28.4MB 45.6MB/s \n",
            "\u001b[?25hCollecting pydantic==0.28.* (from gluonts)\n",
            "\u001b[?25l  Downloading https://files.pythonhosted.org/packages/0a/bc/fe7d98f0b4b1e72d0c444f343a798461c1f9d8656fb1c335416dbb8b7976/pydantic-0.28-cp36-cp36m-manylinux1_x86_64.whl (4.8MB)\n",
            "\u001b[K     |████████████████████████████████| 4.8MB 41.4MB/s \n",
            "\u001b[?25hCollecting numpy==1.14.* (from gluonts)\n",
            "\u001b[?25l  Downloading https://files.pythonhosted.org/packages/e5/c4/395ebb218053ba44d64935b3729bc88241ec279915e72100c5979db10945/numpy-1.14.6-cp36-cp36m-manylinux1_x86_64.whl (13.8MB)\n",
            "\u001b[K     |████████████████████████████████| 13.8MB 33.3MB/s \n",
            "\u001b[?25hCollecting ujson>=1.35 (from gluonts)\n",
            "\u001b[?25l  Downloading https://files.pythonhosted.org/packages/16/c4/79f3409bc710559015464e5f49b9879430d8f87498ecdc335899732e5377/ujson-1.35.tar.gz (192kB)\n",
            "\u001b[K     |████████████████████████████████| 194kB 40.8MB/s \n",
            "\u001b[?25hRequirement already satisfied: boto3==1.* in /usr/local/lib/python3.6/dist-packages (from gluonts) (1.9.165)\n",
            "Requirement already satisfied: six in /usr/local/lib/python3.6/dist-packages (from holidays==0.9.*->gluonts) (1.12.0)\n",
            "Requirement already satisfied: python-dateutil in /usr/local/lib/python3.6/dist-packages (from holidays==0.9.*->gluonts) (2.5.3)\n",
            "Requirement already satisfied: cycler>=0.10 in /usr/local/lib/python3.6/dist-packages (from matplotlib==3.*->gluonts) (0.10.0)\n",
            "Requirement already satisfied: pyparsing!=2.0.4,!=2.1.2,!=2.1.6,>=2.0.1 in /usr/local/lib/python3.6/dist-packages (from matplotlib==3.*->gluonts) (2.4.0)\n",
            "Requirement already satisfied: kiwisolver>=1.0.1 in /usr/local/lib/python3.6/dist-packages (from matplotlib==3.*->gluonts) (1.1.0)\n",
            "Requirement already satisfied: pytz>=2011k in /usr/local/lib/python3.6/dist-packages (from pandas>=0.22.0->gluonts) (2018.9)\n",
            "Requirement already satisfied: requests>=2.20.0 in /usr/local/lib/python3.6/dist-packages (from mxnet>=1.3.1->gluonts) (2.21.0)\n",
            "Collecting graphviz<0.9.0,>=0.8.1 (from mxnet>=1.3.1->gluonts)\n",
            "  Downloading https://files.pythonhosted.org/packages/53/39/4ab213673844e0c004bed8a0781a0721a3f6bb23eb8854ee75c236428892/graphviz-0.8.4-py2.py3-none-any.whl\n",
            "Requirement already satisfied: dataclasses>=0.6; python_version < \"3.7\" in /usr/local/lib/python3.6/dist-packages (from pydantic==0.28.*->gluonts) (0.6)\n",
            "Requirement already satisfied: s3transfer<0.3.0,>=0.2.0 in /usr/local/lib/python3.6/dist-packages (from boto3==1.*->gluonts) (0.2.1)\n",
            "Requirement already satisfied: botocore<1.13.0,>=1.12.165 in /usr/local/lib/python3.6/dist-packages (from boto3==1.*->gluonts) (1.12.165)\n",
            "Requirement already satisfied: jmespath<1.0.0,>=0.7.1 in /usr/local/lib/python3.6/dist-packages (from boto3==1.*->gluonts) (0.9.4)\n",
            "Requirement already satisfied: setuptools in /usr/local/lib/python3.6/dist-packages (from kiwisolver>=1.0.1->matplotlib==3.*->gluonts) (41.0.1)\n",
            "Requirement already satisfied: certifi>=2017.4.17 in /usr/local/lib/python3.6/dist-packages (from requests>=2.20.0->mxnet>=1.3.1->gluonts) (2019.3.9)\n",
            "Requirement already satisfied: chardet<3.1.0,>=3.0.2 in /usr/local/lib/python3.6/dist-packages (from requests>=2.20.0->mxnet>=1.3.1->gluonts) (3.0.4)\n",
            "Requirement already satisfied: urllib3<1.25,>=1.21.1 in /usr/local/lib/python3.6/dist-packages (from requests>=2.20.0->mxnet>=1.3.1->gluonts) (1.24.3)\n",
            "Requirement already satisfied: idna<2.9,>=2.5 in /usr/local/lib/python3.6/dist-packages (from requests>=2.20.0->mxnet>=1.3.1->gluonts) (2.8)\n",
            "Requirement already satisfied: docutils>=0.10 in /usr/local/lib/python3.6/dist-packages (from botocore<1.13.0,>=1.12.165->boto3==1.*->gluonts) (0.14)\n",
            "Building wheels for collected packages: ujson\n",
            "  Building wheel for ujson (setup.py) ... \u001b[?25l\u001b[?25hdone\n",
            "  Stored in directory: /root/.cache/pip/wheels/28/77/e4/0311145b9c2e2f01470e744855131f9e34d6919687550f87d1\n",
            "Successfully built ujson\n",
            "\u001b[31mERROR: spacy 2.1.4 has requirement numpy>=1.15.0, but you'll have numpy 1.14.6 which is incompatible.\u001b[0m\n",
            "\u001b[31mERROR: imgaug 0.2.9 has requirement numpy>=1.15.0, but you'll have numpy 1.14.6 which is incompatible.\u001b[0m\n",
            "\u001b[31mERROR: fastai 1.0.52 has requirement numpy>=1.15, but you'll have numpy 1.14.6 which is incompatible.\u001b[0m\n",
            "\u001b[31mERROR: datascience 0.10.6 has requirement folium==0.2.1, but you'll have folium 0.8.3 which is incompatible.\u001b[0m\n",
            "\u001b[31mERROR: blis 0.2.4 has requirement numpy>=1.15.0, but you'll have numpy 1.14.6 which is incompatible.\u001b[0m\n",
            "\u001b[31mERROR: albumentations 0.1.12 has requirement imgaug<0.2.7,>=0.2.5, but you'll have imgaug 0.2.9 which is incompatible.\u001b[0m\n",
            "Installing collected packages: numpy, graphviz, mxnet, pydantic, ujson, gluonts\n",
            "  Found existing installation: numpy 1.16.4\n",
            "    Uninstalling numpy-1.16.4:\n",
            "      Successfully uninstalled numpy-1.16.4\n",
            "  Found existing installation: graphviz 0.10.1\n",
            "    Uninstalling graphviz-0.10.1:\n",
            "      Successfully uninstalled graphviz-0.10.1\n",
            "Successfully installed gluonts-0.1.4 graphviz-0.8.4 mxnet-1.4.1 numpy-1.14.6 pydantic-0.28 ujson-1.35\n"
          ],
          "name": "stdout"
        },
        {
          "output_type": "display_data",
          "data": {
            "application/vnd.colab-display-data+json": {
              "pip_warning": {
                "packages": [
                  "numpy"
                ]
              }
            }
          },
          "metadata": {
            "tags": []
          }
        }
      ]
    },
    {
      "cell_type": "code",
      "metadata": {
        "id": "DDZBNSzb5h6r",
        "colab_type": "code",
        "colab": {}
      },
      "source": [
        "from gluonts.model.deepar import DeepAREstimator\n",
        "from gluonts.trainer import Trainer\n"
      ],
      "execution_count": 0,
      "outputs": []
    },
    {
      "cell_type": "code",
      "metadata": {
        "id": "tHHnBBxV7-mR",
        "colab_type": "code",
        "colab": {}
      },
      "source": [
        "estimator = DeepAREstimator(freq)"
      ],
      "execution_count": 0,
      "outputs": []
    }
  ]
}