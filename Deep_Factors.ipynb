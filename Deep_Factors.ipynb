{
  "nbformat": 4,
  "nbformat_minor": 0,
  "metadata": {
    "colab": {
      "name": "Deep_Factors.ipynb",
      "version": "0.3.2",
      "provenance": [],
      "collapsed_sections": [],
      "include_colab_link": true
    },
    "kernelspec": {
      "name": "python3",
      "display_name": "Python 3"
    }
  },
  "cells": [
    {
      "cell_type": "markdown",
      "metadata": {
        "id": "view-in-github",
        "colab_type": "text"
      },
      "source": [
        "<a href=\"https://colab.research.google.com/github/emilyj19/TS/blob/master/Deep_Factors.ipynb\" target=\"_parent\"><img src=\"https://colab.research.google.com/assets/colab-badge.svg\" alt=\"Open In Colab\"/></a>"
      ]
    },
    {
      "cell_type": "code",
      "metadata": {
        "id": "UxHpi6CjWlg8",
        "colab_type": "code",
        "colab": {
          "base_uri": "https://localhost:8080/",
          "height": 51
        },
        "outputId": "dc9db48d-0951-47ab-c365-76c5b4eed73b"
      },
      "source": [
        "pip install torch"
      ],
      "execution_count": 1,
      "outputs": [
        {
          "output_type": "stream",
          "text": [
            "Requirement already satisfied: torch in /usr/local/lib/python3.6/dist-packages (1.1.0)\n",
            "Requirement already satisfied: numpy in /usr/local/lib/python3.6/dist-packages (from torch) (1.16.4)\n"
          ],
          "name": "stdout"
        }
      ]
    },
    {
      "cell_type": "code",
      "metadata": {
        "id": "63MFgpVHUb5y",
        "colab_type": "code",
        "colab": {}
      },
      "source": [
        "import numpy as np \n",
        "import tensorflow as tf\n",
        "import matplotlib\n",
        "import matplotlib.pyplot as plt \n",
        "import pandas as pd\n",
        "import torch\n",
        "from torch import nn\n",
        "from torch.utils.data import DataLoader, TensorDataset\n",
        "from torch.autograd import Variable"
      ],
      "execution_count": 0,
      "outputs": []
    },
    {
      "cell_type": "code",
      "metadata": {
        "id": "lB_-DYtEUfH2",
        "colab_type": "code",
        "colab": {
          "base_uri": "https://localhost:8080/",
          "height": 122
        },
        "outputId": "00ec8e2c-0e06-400d-f778-38ee310d9688"
      },
      "source": [
        "from google.colab import drive\n",
        "drive.mount('/content/gdrive')"
      ],
      "execution_count": 3,
      "outputs": [
        {
          "output_type": "stream",
          "text": [
            "Go to this URL in a browser: https://accounts.google.com/o/oauth2/auth?client_id=947318989803-6bn6qk8qdgf4n4g3pfee6491hc0brc4i.apps.googleusercontent.com&redirect_uri=urn%3Aietf%3Awg%3Aoauth%3A2.0%3Aoob&scope=email%20https%3A%2F%2Fwww.googleapis.com%2Fauth%2Fdocs.test%20https%3A%2F%2Fwww.googleapis.com%2Fauth%2Fdrive%20https%3A%2F%2Fwww.googleapis.com%2Fauth%2Fdrive.photos.readonly%20https%3A%2F%2Fwww.googleapis.com%2Fauth%2Fpeopleapi.readonly&response_type=code\n",
            "\n",
            "Enter your authorization code:\n",
            "··········\n",
            "Mounted at /content/gdrive\n"
          ],
          "name": "stdout"
        }
      ]
    },
    {
      "cell_type": "code",
      "metadata": {
        "id": "hbAw0rtMUhZf",
        "colab_type": "code",
        "colab": {
          "base_uri": "https://localhost:8080/",
          "height": 34
        },
        "outputId": "4517a09b-761c-4d01-d4fd-8b70d3731eac"
      },
      "source": [
        "root_path = 'gdrive/My Drive/FinancialTS/JPmarket_dataset.npz' \n",
        "data = np.load(root_path)\n",
        "data.files"
      ],
      "execution_count": 4,
      "outputs": [
        {
          "output_type": "execute_result",
          "data": {
            "text/plain": [
              "['train_ratios', 'test_ratios', 'train_volumes', 'test_volumes']"
            ]
          },
          "metadata": {
            "tags": []
          },
          "execution_count": 4
        }
      ]
    },
    {
      "cell_type": "code",
      "metadata": {
        "id": "MzIcj78GVk8L",
        "colab_type": "code",
        "colab": {}
      },
      "source": [
        "train_ratios = data['train_ratios']\n",
        "test_ratios = data['test_ratios']\n",
        "train_vols = data['train_volumes']\n",
        "test_vols = data['test_volumes']"
      ],
      "execution_count": 0,
      "outputs": []
    },
    {
      "cell_type": "code",
      "metadata": {
        "id": "Dyk_YlK6VrE3",
        "colab_type": "code",
        "colab": {}
      },
      "source": [
        "av_vols = np.mean(train_vols[3], axis = 0)"
      ],
      "execution_count": 0,
      "outputs": []
    },
    {
      "cell_type": "code",
      "metadata": {
        "id": "4DKkWxWhOkne",
        "colab_type": "code",
        "colab": {
          "base_uri": "https://localhost:8080/",
          "height": 286
        },
        "outputId": "b24ddaa0-b2f2-4bac-ffb7-d809a261ec85"
      },
      "source": [
        "plt.plot(av_vols)"
      ],
      "execution_count": 7,
      "outputs": [
        {
          "output_type": "execute_result",
          "data": {
            "text/plain": [
              "[<matplotlib.lines.Line2D at 0x7f4a694f9ba8>]"
            ]
          },
          "metadata": {
            "tags": []
          },
          "execution_count": 7
        },
        {
          "output_type": "display_data",
          "data": {
            "image/png": "[encoded data removed]",
            "text/plain": [
              "<Figure size 432x288 with 1 Axes>"
            ]
          },
          "metadata": {
            "tags": []
          }
        }
      ]
    },
    {
      "cell_type": "code",
      "metadata": {
        "id": "mC2J6fvWqn8A",
        "colab_type": "code",
        "colab": {}
      },
      "source": [
        "#create covariates - currently one hot vector 64 dims but experiment with different ideas \n",
        "def create_covariate_data(input_data, freq = 64): #this is assuming that data starts at beginning of day and ends at last bin of the day \n",
        "  num_series, len_series = input_data.shape\n",
        "  days = int(len_series/freq)\n",
        "  covariate_vectors = np.zeros((num_series, len_series, freq+1))\n",
        "  \n",
        "  for n in range(num_series):\n",
        "    for d in range(days): \n",
        "      for t in range(freq): \n",
        "        one_hot = np.zeros(freq)\n",
        "        one_hot[t] = 1\n",
        "        covariate_vectors[n, d*freq + t, 0] = input_data[n, d*freq + t]\n",
        "        covariate_vectors[n, d*freq + t, 1:] = one_hot\n",
        "        \n",
        "  return covariate_vectors"
      ],
      "execution_count": 0,
      "outputs": []
    },
    {
      "cell_type": "code",
      "metadata": {
        "id": "SOQe6RfNOx7H",
        "colab_type": "code",
        "colab": {}
      },
      "source": [
        "#alternative covariate function \n",
        "#inputs - input_data of shape [number of time series, length of each time series], freq of data i.e. number of bins per day, and position of special bins as a vector\n",
        "#returns - data and covariate vector of shape [number of series, length of series, number of special bins + 2] where covariate_vectors[:,:,0] is the input data, \n",
        "#covariate_vectors[:,:,1] is the scaled time of day and covariate_vectors[:,:,2:] is the one hot vector for the special bins\n",
        "#therefore covariate_vectors[:,:,0] is the data and covariate_vectors[:,:,1:] is the actual covariate vector \n",
        "\n",
        "def new_create_covariate_data(input_data, freq, pos_of_special_bins): \n",
        "  num_series, len_series = input_data.shape\n",
        "  days = int(len_series/freq)\n",
        "  num_special_bins = len(pos_of_special_bins)\n",
        "  covariate_vectors = np.zeros((num_series, len_series, num_special_bins+2))\n",
        "  \n",
        "  for n in range(num_series): \n",
        "    for d in range(days): \n",
        "      for t in range(freq): \n",
        "        x = np.zeros(num_special_bins + 1)\n",
        "        #x[0] is the scaled time of day \n",
        "        x[0] = t/freq\n",
        "        \n",
        "        check = t in pos_of_special_bins\n",
        "        \n",
        "        if check == True: \n",
        "          index = pos_of_special_bins.index(t)\n",
        "          x[index+1] = 1\n",
        "          \n",
        "        covariate_vectors[n, d*freq + t, 0] = input_data[n, d*freq + t]\n",
        "        covariate_vectors[n, d*freq + t, 1:] = x\n",
        "        \n",
        "  return covariate_vectors\n",
        "        "
      ],
      "execution_count": 0,
      "outputs": []
    },
    {
      "cell_type": "code",
      "metadata": {
        "id": "VMl5hXU41NDr",
        "colab_type": "code",
        "colab": {}
      },
      "source": [
        "train_volume = train_vols[0:50].reshape((50,-1))\n",
        "\n",
        "norm_train_vols = np.zeros(train_volume.shape)\n",
        "for i in range(50): \n",
        "  norm_train_vols[i] = train_volume[i]/np.amax(train_vols[i])\n",
        "  \n",
        "T = 64*3\n",
        "new_train_data = norm_train_vols[:,:T]\n",
        "\n",
        "covars_data = new_create_covariate_data(new_train_data, 64, [0,31,32,63])\n",
        "\n",
        "covars_data = torch.FloatTensor(covars_data)"
      ],
      "execution_count": 0,
      "outputs": []
    },
    {
      "cell_type": "code",
      "metadata": {
        "id": "Q1O5qrgbY_f-",
        "colab_type": "code",
        "colab": {}
      },
      "source": [
        "test_volume = train_vols[0:50].reshape((50,-1))\n",
        "\n",
        "norm_test_vols = np.zeros(test_volume.shape)\n",
        "for i in range(50): \n",
        "  norm_test_vols[i] = test_volume[i]/np.amax(train_vols[i])\n",
        "  \n",
        "T = 64*3\n",
        "new_test_data = norm_test_vols[:,T:2*T]\n",
        "\n",
        "covars_test_data = new_create_covariate_data(new_test_data, 64, [0,31,32,63])\n",
        "\n",
        "covars_test_data = torch.FloatTensor(covars_test_data)"
      ],
      "execution_count": 0,
      "outputs": []
    },
    {
      "cell_type": "code",
      "metadata": {
        "id": "kKdgN_J2QQq8",
        "colab_type": "code",
        "colab": {}
      },
      "source": [
        "#class for the global model \n",
        "#forward pass - input data of shape [num_series, length of each series, length of covariate vector + 1]\n",
        "#forward pass outputs fixed effects of shape [num_series, len_series]\n",
        "\n",
        "class GlobalEffects(nn.Module): \n",
        "  def __init__(self, input_size, num_factors, hidden_size, batch_size, output_size = 1, num_layers = 1): \n",
        "    super().__init__()\n",
        "    self.input_size = input_size\n",
        "    self.num_factors = num_factors\n",
        "    self.hidden_size = hidden_size\n",
        "    self.batch_size = batch_size\n",
        "    self.output_size = output_size\n",
        "    self.num_layers = num_layers\n",
        "    \n",
        "    self.linears = nn.ModuleList([nn.Linear(self.hidden_size, self.output_size, bias = False) for i in range(self.num_factors)])\n",
        "    self.lstms = nn.ModuleList([nn.LSTM(input_size = self.input_size, hidden_size = self.hidden_size, num_layers = self.num_layers) for i in range(self.num_factors)])\n",
        "    \n",
        "    self.w = torch.nn.Parameter(torch.zeros(batch_size, num_factors))\n",
        "    \n",
        "  def init_hidden(self): \n",
        "    hidden = [torch.zeros(self.num_layers, self.batch_size, self.hidden_size) for i in range(self.num_factors)]\n",
        "    return hidden\n",
        "    \n",
        "  def forward(self, input_data, hidden): \n",
        "    x = input_data[:,:,1:]\n",
        "    for i in range(self.num_factors): \n",
        "      lstm_out, hidden[i] = self.lstms[i](x.view(x.shape[1], self.batch_size, -1))\n",
        "      g_i = self.linears[i](lstm_out).view(1, self.batch_size, -1) #shape of g_i = [1, batch_size, seq_len]\n",
        "      \n",
        "      if i == 0: \n",
        "        g = g_i\n",
        "      else:\n",
        "        g = torch.cat((g,g_i), dim=0)\n",
        "\n",
        "    fixed_effects = torch.zeros((self.batch_size, g.shape[2]))\n",
        "    \n",
        "    for i in range(self.batch_size): \n",
        "      for j in range(g.shape[2]): \n",
        "        fixed_effects[i,j] = torch.dot(self.w[i], g[:,i,j])\n",
        "      \n",
        "    return fixed_effects\n",
        "     \n",
        "      "
      ],
      "execution_count": 0,
      "outputs": []
    },
    {
      "cell_type": "code",
      "metadata": {
        "id": "z2ZvLZ9aUqw0",
        "colab_type": "code",
        "colab": {}
      },
      "source": [
        "#class for the DF-RNN local model \n",
        "#parameters to define: input_size = number of elements in covariates vector, num_series = number of time series in the data\n",
        "#forward pass inputs: fixed effects output from global model, input data of shape [num_series, length of each series, length of covariate vector + 1] and whether or not to assume a gaussian likelihood \n",
        "#forward pass outputs total log likelihood for the given data and sigma of shape [num_series, len_series]\n",
        "\n",
        "class DF_RNN(nn.Module): \n",
        "  def __init__(self, input_size, hidden_size, batch_size, num_series, output_size):\n",
        "    super().__init__()\n",
        "    self.input_size = input_size\n",
        "    self.hidden_size = hidden_size\n",
        "    self.batch_size = batch_size\n",
        "    self.output_size = output_size\n",
        "    self.num_series = num_series\n",
        "    \n",
        "    self.rnns = nn.ModuleList([nn.RNN(input_size = self.input_size, hidden_size = self.hidden_size, num_layers = 1) for i in range(self.num_series)])\n",
        "    self.linears = nn.ModuleList([nn.Linear(self.hidden_size, self.output_size) for i in range(self.num_series)])\n",
        "    \n",
        "  def init_hidden(self): \n",
        "    hidden = [torch.zeros(1, self.batch_size, self.hidden_size) for i in range(self.num_series)]\n",
        "    return hidden\n",
        "    \n",
        "  def forward(self, input_data, hidden, fixed_effects, gaussian_likelihood, prediction): \n",
        "    z = input_data[:,:,0]\n",
        "    x = input_data[:,:,1:]\n",
        "    \n",
        "    sigma = torch.zeros((self.num_series, x.shape[1]))\n",
        "    r = torch.zeros(sigma.shape)\n",
        "    \n",
        "    for i in range(self.num_series): \n",
        "      data = x[i]\n",
        "      rnn_out, hidden[i] = self.rnns[i](data.view(data.shape[0], self.batch_size, -1))\n",
        "      sig = self.linears[i](rnn_out).view(-1)\n",
        "      \n",
        "      sigma[i] = torch.abs(sig)\n",
        "      \n",
        "      for j in range(sigma.shape[1]):\n",
        "        r[i,j] = torch.distributions.normal.Normal(0, sigma[i,j]).rsample()\n",
        "        \n",
        "    u = fixed_effects + r\n",
        "        \n",
        "    if prediction == False: \n",
        "    \n",
        "      if gaussian_likelihood == True: \n",
        "        log_lik = self.log_likelihood_Gaussian(z, fixed_effects, sigma)\n",
        "\n",
        "      else: \n",
        "        pass\n",
        "      \n",
        "      return log_lik, sigma\n",
        "    \n",
        "    else: \n",
        "      return sigma\n",
        "   \n",
        "  \n",
        "  def log_likelihood_Gaussian(self, z, f, sigma):\n",
        "    log_p = torch.zeros(sigma.shape)\n",
        "    \n",
        "    for i in range(sigma.shape[0]):\n",
        "      for j in range(sigma.shape[1]): \n",
        "        log_pdf = torch.distributions.normal.Normal(0, sigma[i,j]).log_prob(z[i,j] - f[i,j])\n",
        "        #scale the likelihood to 0-1\n",
        "        log_norm_constant = torch.distributions.normal.Normal(0, sigma[i,j]).log_prob(0)\n",
        "        log_p[i,j] = log_pdf - log_norm_constant\n",
        "    \n",
        "    log_lik = torch.sum(log_p)\n",
        "\n",
        "    return log_lik\n",
        "  \n",
        "  \n",
        "  def log_likelihood_nonGaussian(self, ): #to do \n",
        "    pass"
      ],
      "execution_count": 0,
      "outputs": []
    },
    {
      "cell_type": "code",
      "metadata": {
        "id": "MGd_qELTtqx2",
        "colab_type": "code",
        "colab": {}
      },
      "source": [
        "learning_rate = 0.001\n",
        "batch_size = 50 #??????\n",
        "num_epochs = 200\n",
        "hidden_units_global = 50\n",
        "hidden_units_local = 5\n",
        "n_factors = 10 "
      ],
      "execution_count": 0,
      "outputs": []
    },
    {
      "cell_type": "code",
      "metadata": {
        "id": "KiQ17VDHigR6",
        "colab_type": "code",
        "colab": {
          "base_uri": "https://localhost:8080/",
          "height": 34
        },
        "outputId": "40e47f73-88ef-4220-dbae-e2be1057cadd"
      },
      "source": [
        "torch.autograd.set_detect_anomaly(False)"
      ],
      "execution_count": 40,
      "outputs": [
        {
          "output_type": "execute_result",
          "data": {
            "text/plain": [
              "<torch.autograd.anomaly_mode.set_detect_anomaly at 0x7f4a65b3b240>"
            ]
          },
          "metadata": {
            "tags": []
          },
          "execution_count": 40
        }
      ]
    },
    {
      "cell_type": "code",
      "metadata": {
        "id": "FnaiB4RyWtVy",
        "colab_type": "code",
        "colab": {}
      },
      "source": [
        "global_model = GlobalEffects(input_size = 5, num_factors = n_factors , hidden_size = hidden_units_global, batch_size= 50)  \n",
        "local_model = DF_RNN(5, hidden_size = hidden_units_local, batch_size = 1, num_series = 50, output_size = 1)"
      ],
      "execution_count": 0,
      "outputs": []
    },
    {
      "cell_type": "code",
      "metadata": {
        "id": "NWZumPtm7ZCX",
        "colab_type": "code",
        "colab": {
          "base_uri": "https://localhost:8080/",
          "height": 1000
        },
        "outputId": "5cddaf5f-8070-4fca-b81e-5aa3c5267d76"
      },
      "source": [
        "## TRAINING ##\n",
        "\n",
        "optimiser = torch.optim.SGD(list(global_model.parameters()) + list(local_model.parameters()), lr = learning_rate)\n",
        "\n",
        "train_loss = []\n",
        "test_loss = []\n",
        " \n",
        "for t in range(num_epochs): \n",
        "  global_model.zero_grad()\n",
        "  global_hidden = global_model.init_hidden()\n",
        "  \n",
        "  local_model.zero_grad()\n",
        "  local_hidden = local_model.init_hidden()\n",
        "  \n",
        "  data_batch = covars_data\n",
        "  \n",
        "  fixed_effects = global_model(data_batch, global_hidden)\n",
        "\n",
        "  log_lik, sigma = local_model(data_batch, local_hidden, fixed_effects, gaussian_likelihood = True, prediction = False)\n",
        "\n",
        "  batch_loss = -1*log_lik\n",
        "    \n",
        "  optimiser.zero_grad()\n",
        "  \n",
        "  batch_loss.backward()\n",
        "\n",
        "  optimiser.step()\n",
        "  \n",
        "  train_loss.append(batch_loss.item())\n",
        "  \n",
        "  with torch.no_grad():\n",
        "    test_data_batch = covars_test_data\n",
        "    fixed_effects = global_model(test_data_batch, global_hidden)\n",
        "    \n",
        "    data = test_data_batch\n",
        "    log_lik, sigma = local_model(data, local_hidden, fixed_effects, gaussian_likelihood = True, prediction = False)\n",
        "      \n",
        "    test_batch_loss = -1*log_lik\n",
        "      \n",
        "    test_loss.append(test_batch_loss.item())\n",
        "  \n",
        "  print(\"Epoch: \", t, \"loss: \", batch_loss.item(), \"test loss: \", test_batch_loss.item())"
      ],
      "execution_count": 43,
      "outputs": [
        {
          "output_type": "stream",
          "text": [
            "Epoch:  0 loss:  19.4547061920166 test loss:  25.409961700439453\n",
            "Epoch:  1 loss:  17.498416900634766 test loss:  22.83856201171875\n",
            "Epoch:  2 loss:  15.623854637145996 test loss:  21.304685592651367\n",
            "Epoch:  3 loss:  14.540726661682129 test loss:  20.06385612487793\n",
            "Epoch:  4 loss:  13.663296699523926 test loss:  19.02426528930664\n",
            "Epoch:  5 loss:  12.926297187805176 test loss:  18.132244110107422\n",
            "Epoch:  6 loss:  12.291900634765625 test loss:  17.353649139404297\n",
            "Epoch:  7 loss:  11.736023902893066 test loss:  16.665538787841797\n",
            "Epoch:  8 loss:  11.242565155029297 test loss:  16.051769256591797\n",
            "Epoch:  9 loss:  10.800057411193848 test loss:  15.500452041625977\n",
            "Epoch:  10 loss:  10.40011978149414 test loss:  15.002532005310059\n",
            "Epoch:  11 loss:  10.03640365600586 test loss:  14.550653457641602\n",
            "Epoch:  12 loss:  9.703789710998535 test loss:  14.138912200927734\n",
            "Epoch:  13 loss:  9.398290634155273 test loss:  13.76230239868164\n",
            "Epoch:  14 loss:  9.116729736328125 test loss:  13.416430473327637\n",
            "Epoch:  15 loss:  8.856437683105469 test loss:  13.09738540649414\n",
            "Epoch:  16 loss:  8.61514949798584 test loss:  12.801578521728516\n",
            "Epoch:  17 loss:  8.390838623046875 test loss:  12.526065826416016\n",
            "Epoch:  18 loss:  8.181967735290527 test loss:  12.268157958984375\n",
            "Epoch:  19 loss:  7.986989974975586 test loss:  12.025814056396484\n",
            "Epoch:  20 loss:  7.804675102233887 test loss:  11.797382354736328\n",
            "Epoch:  21 loss:  7.633936882019043 test loss:  11.581476211547852\n",
            "Epoch:  22 loss:  7.473657608032227 test loss:  11.37720775604248\n",
            "Epoch:  23 loss:  7.323115348815918 test loss:  11.18368911743164\n",
            "Epoch:  24 loss:  7.181472301483154 test loss:  11.000221252441406\n",
            "Epoch:  25 loss:  7.048020839691162 test loss:  10.826173782348633\n",
            "Epoch:  26 loss:  6.922113418579102 test loss:  10.660892486572266\n",
            "Epoch:  27 loss:  6.803081512451172 test loss:  10.50387191772461\n",
            "Epoch:  28 loss:  6.690456867218018 test loss:  10.354574203491211\n",
            "Epoch:  29 loss:  6.583693027496338 test loss:  10.212586402893066\n",
            "Epoch:  30 loss:  6.482456207275391 test loss:  10.077482223510742\n",
            "Epoch:  31 loss:  6.386322975158691 test loss:  9.948716163635254\n",
            "Epoch:  32 loss:  6.294825077056885 test loss:  9.825925827026367\n",
            "Epoch:  33 loss:  6.207675933837891 test loss:  9.708671569824219\n",
            "Epoch:  34 loss:  6.124475479125977 test loss:  9.596759796142578\n",
            "Epoch:  35 loss:  6.045093059539795 test loss:  9.489779472351074\n",
            "Epoch:  36 loss:  5.969233512878418 test loss:  9.387353897094727\n",
            "Epoch:  37 loss:  5.896563529968262 test loss:  9.28921890258789\n",
            "Epoch:  38 loss:  5.826900482177734 test loss:  9.195167541503906\n",
            "Epoch:  39 loss:  5.760079860687256 test loss:  9.10489559173584\n",
            "Epoch:  40 loss:  5.695903778076172 test loss:  9.018230438232422\n",
            "Epoch:  41 loss:  5.634223937988281 test loss:  8.934840202331543\n",
            "Epoch:  42 loss:  5.5748162269592285 test loss:  8.854552268981934\n",
            "Epoch:  43 loss:  5.517524242401123 test loss:  8.777265548706055\n",
            "Epoch:  44 loss:  5.462345123291016 test loss:  8.70277214050293\n",
            "Epoch:  45 loss:  5.40907096862793 test loss:  8.630914688110352\n",
            "Epoch:  46 loss:  5.357659339904785 test loss:  8.561519622802734\n",
            "Epoch:  47 loss:  5.307914733886719 test loss:  8.49438762664795\n",
            "Epoch:  48 loss:  5.259734153747559 test loss:  8.429513931274414\n",
            "Epoch:  49 loss:  5.213153839111328 test loss:  8.366764068603516\n",
            "Epoch:  50 loss:  5.168033599853516 test loss:  8.305886268615723\n",
            "Epoch:  51 loss:  5.124215602874756 test loss:  8.246947288513184\n",
            "Epoch:  52 loss:  5.08175802230835 test loss:  8.189796447753906\n",
            "Epoch:  53 loss:  5.040567398071289 test loss:  8.134294509887695\n",
            "Epoch:  54 loss:  5.0005292892456055 test loss:  8.080350875854492\n",
            "Epoch:  55 loss:  4.961565017700195 test loss:  8.027982711791992\n",
            "Epoch:  56 loss:  4.92371940612793 test loss:  7.977105140686035\n",
            "Epoch:  57 loss:  4.8869476318359375 test loss:  7.9275054931640625\n",
            "Epoch:  58 loss:  4.851069450378418 test loss:  7.879261016845703\n",
            "Epoch:  59 loss:  4.816169261932373 test loss:  7.832330226898193\n",
            "Epoch:  60 loss:  4.782210350036621 test loss:  7.786502838134766\n",
            "Epoch:  61 loss:  4.749008655548096 test loss:  7.741890907287598\n",
            "Epoch:  62 loss:  4.716723442077637 test loss:  7.6983771324157715\n",
            "Epoch:  63 loss:  4.685220718383789 test loss:  7.65585994720459\n",
            "Epoch:  64 loss:  4.654429912567139 test loss:  7.6142964363098145\n"
          ],
          "name": "stdout"
        },
        {
          "output_type": "error",
          "ename": "KeyboardInterrupt",
          "evalue": "ignored",
          "traceback": [
            "\u001b[0;31m---------------------------------------------------------------------------\u001b[0m",
            "\u001b[0;31mKeyboardInterrupt\u001b[0m                         Traceback (most recent call last)",
            "\u001b[0;32m<ipython-input-43-4d57dcfbec55>\u001b[0m in \u001b[0;36m<module>\u001b[0;34m()\u001b[0m\n\u001b[1;32m     22\u001b[0m   \u001b[0moptimiser\u001b[0m\u001b[0;34m.\u001b[0m\u001b[0mzero_grad\u001b[0m\u001b[0;34m(\u001b[0m\u001b[0;34m)\u001b[0m\u001b[0;34m\u001b[0m\u001b[0;34m\u001b[0m\u001b[0m\n\u001b[1;32m     23\u001b[0m \u001b[0;34m\u001b[0m\u001b[0m\n\u001b[0;32m---> 24\u001b[0;31m   \u001b[0mbatch_loss\u001b[0m\u001b[0;34m.\u001b[0m\u001b[0mbackward\u001b[0m\u001b[0;34m(\u001b[0m\u001b[0;34m)\u001b[0m\u001b[0;34m\u001b[0m\u001b[0;34m\u001b[0m\u001b[0m\n\u001b[0m\u001b[1;32m     25\u001b[0m \u001b[0;34m\u001b[0m\u001b[0m\n\u001b[1;32m     26\u001b[0m   \u001b[0moptimiser\u001b[0m\u001b[0;34m.\u001b[0m\u001b[0mstep\u001b[0m\u001b[0;34m(\u001b[0m\u001b[0;34m)\u001b[0m\u001b[0;34m\u001b[0m\u001b[0;34m\u001b[0m\u001b[0m\n",
            "\u001b[0;32m/usr/local/lib/python3.6/dist-packages/torch/tensor.py\u001b[0m in \u001b[0;36mbackward\u001b[0;34m(self, gradient, retain_graph, create_graph)\u001b[0m\n\u001b[1;32m    105\u001b[0m                 \u001b[0mproducts\u001b[0m\u001b[0;34m.\u001b[0m \u001b[0mDefaults\u001b[0m \u001b[0mto\u001b[0m\u001b[0;31m \u001b[0m\u001b[0;31m`\u001b[0m\u001b[0;31m`\u001b[0m\u001b[0;32mFalse\u001b[0m\u001b[0;31m`\u001b[0m\u001b[0;31m`\u001b[0m\u001b[0;34m.\u001b[0m\u001b[0;34m\u001b[0m\u001b[0;34m\u001b[0m\u001b[0m\n\u001b[1;32m    106\u001b[0m         \"\"\"\n\u001b[0;32m--> 107\u001b[0;31m         \u001b[0mtorch\u001b[0m\u001b[0;34m.\u001b[0m\u001b[0mautograd\u001b[0m\u001b[0;34m.\u001b[0m\u001b[0mbackward\u001b[0m\u001b[0;34m(\u001b[0m\u001b[0mself\u001b[0m\u001b[0;34m,\u001b[0m \u001b[0mgradient\u001b[0m\u001b[0;34m,\u001b[0m \u001b[0mretain_graph\u001b[0m\u001b[0;34m,\u001b[0m \u001b[0mcreate_graph\u001b[0m\u001b[0;34m)\u001b[0m\u001b[0;34m\u001b[0m\u001b[0;34m\u001b[0m\u001b[0m\n\u001b[0m\u001b[1;32m    108\u001b[0m \u001b[0;34m\u001b[0m\u001b[0m\n\u001b[1;32m    109\u001b[0m     \u001b[0;32mdef\u001b[0m \u001b[0mregister_hook\u001b[0m\u001b[0;34m(\u001b[0m\u001b[0mself\u001b[0m\u001b[0;34m,\u001b[0m \u001b[0mhook\u001b[0m\u001b[0;34m)\u001b[0m\u001b[0;34m:\u001b[0m\u001b[0;34m\u001b[0m\u001b[0;34m\u001b[0m\u001b[0m\n",
            "\u001b[0;32m/usr/local/lib/python3.6/dist-packages/torch/autograd/__init__.py\u001b[0m in \u001b[0;36mbackward\u001b[0;34m(tensors, grad_tensors, retain_graph, create_graph, grad_variables)\u001b[0m\n\u001b[1;32m     91\u001b[0m     Variable._execution_engine.run_backward(\n\u001b[1;32m     92\u001b[0m         \u001b[0mtensors\u001b[0m\u001b[0;34m,\u001b[0m \u001b[0mgrad_tensors\u001b[0m\u001b[0;34m,\u001b[0m \u001b[0mretain_graph\u001b[0m\u001b[0;34m,\u001b[0m \u001b[0mcreate_graph\u001b[0m\u001b[0;34m,\u001b[0m\u001b[0;34m\u001b[0m\u001b[0;34m\u001b[0m\u001b[0m\n\u001b[0;32m---> 93\u001b[0;31m         allow_unreachable=True)  # allow_unreachable flag\n\u001b[0m\u001b[1;32m     94\u001b[0m \u001b[0;34m\u001b[0m\u001b[0m\n\u001b[1;32m     95\u001b[0m \u001b[0;34m\u001b[0m\u001b[0m\n",
            "\u001b[0;31mKeyboardInterrupt\u001b[0m: "
          ]
        }
      ]
    },
    {
      "cell_type": "code",
      "metadata": {
        "colab_type": "code",
        "outputId": "5a4a8eb6-fa1b-4b69-8e82-05a31e10973d",
        "id": "ITTS-hEfXfqA",
        "colab": {
          "base_uri": "https://localhost:8080/",
          "height": 286
        }
      },
      "source": [
        "plt.plot(train_loss)"
      ],
      "execution_count": 44,
      "outputs": [
        {
          "output_type": "execute_result",
          "data": {
            "text/plain": [
              "[<matplotlib.lines.Line2D at 0x7f4a65a0c320>]"
            ]
          },
          "metadata": {
            "tags": []
          },
          "execution_count": 44
        },
        {
          "output_type": "display_data",
          "data": {
            "image/png": "[encoded data removed]",
            "text/plain": [
              "<Figure size 432x288 with 1 Axes>"
            ]
          },
          "metadata": {
            "tags": []
          }
        }
      ]
    },
    {
      "cell_type": "code",
      "metadata": {
        "id": "zBiAyg9zksxO",
        "colab_type": "code",
        "colab": {
          "base_uri": "https://localhost:8080/",
          "height": 286
        },
        "outputId": "266a8896-db3b-4974-c9bd-595d29940e03"
      },
      "source": [
        "plt.plot(test_loss)"
      ],
      "execution_count": 45,
      "outputs": [
        {
          "output_type": "execute_result",
          "data": {
            "text/plain": [
              "[<matplotlib.lines.Line2D at 0x7f4a6596bf60>]"
            ]
          },
          "metadata": {
            "tags": []
          },
          "execution_count": 45
        },
        {
          "output_type": "display_data",
          "data": {
            "image/png": "[encoded data removed]",
            "text/plain": [
              "<Figure size 432x288 with 1 Axes>"
            ]
          },
          "metadata": {
            "tags": []
          }
        }
      ]
    },
    {
      "cell_type": "code",
      "metadata": {
        "id": "-hbUW-WJyPZ1",
        "colab_type": "code",
        "colab": {}
      },
      "source": [
        "num_series = 50\n",
        "num_paths = 10 \n",
        "pred_length = 64 \n",
        "T = 64*3"
      ],
      "execution_count": 0,
      "outputs": []
    },
    {
      "cell_type": "code",
      "metadata": {
        "id": "C1eZV6ovsj3J",
        "colab_type": "code",
        "colab": {}
      },
      "source": [
        "test_vol = test_vols[0:50].reshape((50,-1))\n",
        "\n",
        "norm_test_vols = np.zeros(test_vol.shape)\n",
        "for i in range(50): \n",
        "  norm_test_vols[i] = test_vol[i]/np.amax(test_vols[i])\n",
        "  \n",
        "new_test_data = norm_test_vols[:,:pred_length]\n",
        "\n",
        "covars_test_data = new_create_covariate_data(new_test_data, 64, [0,31,32,63])\n",
        "\n",
        "covars_test_data = torch.FloatTensor(covars_test_data)"
      ],
      "execution_count": 0,
      "outputs": []
    },
    {
      "cell_type": "code",
      "metadata": {
        "id": "-eqhZU9ZAHou",
        "colab_type": "code",
        "colab": {
          "base_uri": "https://localhost:8080/",
          "height": 34
        },
        "outputId": "2c860c05-0628-491b-8939-ba88cc9a954c"
      },
      "source": [
        "new_test_data.shape"
      ],
      "execution_count": 58,
      "outputs": [
        {
          "output_type": "execute_result",
          "data": {
            "text/plain": [
              "(50, 64)"
            ]
          },
          "metadata": {
            "tags": []
          },
          "execution_count": 58
        }
      ]
    },
    {
      "cell_type": "code",
      "metadata": {
        "id": "m_itPTSux6ZC",
        "colab_type": "code",
        "colab": {}
      },
      "source": [
        "## PREDICTION ##\n",
        "paths = np.zeros((num_series, num_paths, pred_length))\n",
        "\n",
        "with torch.no_grad(): \n",
        "  \n",
        "  test_data = covars_test_data\n",
        "  \n",
        "  for n in range(num_paths): \n",
        "    \n",
        "    fixed_effects = global_model(test_data, global_hidden)\n",
        "    sigma = local_model(test_data, local_hidden, fixed_effects, gaussian_likelihood = True, prediction = True)\n",
        "    \n",
        "    for i in range(num_series):\n",
        "      z = torch.zeros(sigma.shape[1])\n",
        "      for t in range(sigma.shape[1]):\n",
        "        z[t] = torch.distributions.normal.Normal(0, sigma[i,t]).rsample() #OR \n",
        "        #z[t] = torch.distributions.normal.Normal(fixed_effects[i,t], sigma[i,t]).rsample() \n",
        "\n",
        "    #paths[n,:T] = input_test_data[:,0]\n",
        "      paths[i,n] = z"
      ],
      "execution_count": 0,
      "outputs": []
    },
    {
      "cell_type": "code",
      "metadata": {
        "id": "x4We87nx_-ym",
        "colab_type": "code",
        "colab": {
          "base_uri": "https://localhost:8080/",
          "height": 286
        },
        "outputId": "4787ff32-d44e-49b5-c68d-4d99fe3f70a2"
      },
      "source": [
        "plt.plot(new_train_data[1])"
      ],
      "execution_count": 73,
      "outputs": [
        {
          "output_type": "execute_result",
          "data": {
            "text/plain": [
              "[<matplotlib.lines.Line2D at 0x7f4a6554e4e0>]"
            ]
          },
          "metadata": {
            "tags": []
          },
          "execution_count": 73
        },
        {
          "output_type": "display_data",
          "data": {
            "image/png": "[encoded data removed]",
            "text/plain": [
              "<Figure size 432x288 with 1 Axes>"
            ]
          },
          "metadata": {
            "tags": []
          }
        }
      ]
    },
    {
      "cell_type": "code",
      "metadata": {
        "id": "Tl48IeZGAO9d",
        "colab_type": "code",
        "colab": {
          "base_uri": "https://localhost:8080/",
          "height": 286
        },
        "outputId": "aab6246f-c20f-4d84-851a-37de3c70dde6"
      },
      "source": [
        "plt.plot(new_test_data[1])\n",
        "#plt.plot(paths[1,0])"
      ],
      "execution_count": 74,
      "outputs": [
        {
          "output_type": "execute_result",
          "data": {
            "text/plain": [
              "[<matplotlib.lines.Line2D at 0x7f4a654e3c88>]"
            ]
          },
          "metadata": {
            "tags": []
          },
          "execution_count": 74
        },
        {
          "output_type": "display_data",
          "data": {
            "image/png": "[encoded data removed]",
            "text/plain": [
              "<Figure size 432x288 with 1 Axes>"
            ]
          },
          "metadata": {
            "tags": []
          }
        }
      ]
    },
    {
      "cell_type": "code",
      "metadata": {
        "id": "YuL4Kvv_A16L",
        "colab_type": "code",
        "colab": {
          "base_uri": "https://localhost:8080/",
          "height": 286
        },
        "outputId": "045d1ffb-5fb1-48c6-8fa8-90d5ea297327"
      },
      "source": [
        "plt.plot(paths[1,0])"
      ],
      "execution_count": 80,
      "outputs": [
        {
          "output_type": "execute_result",
          "data": {
            "text/plain": [
              "[<matplotlib.lines.Line2D at 0x7f4a654a0908>]"
            ]
          },
          "metadata": {
            "tags": []
          },
          "execution_count": 80
        },
        {
          "output_type": "display_data",
          "data": {
            "image/png": "[encoded data removed]",
            "text/plain": [
              "<Figure size 432x288 with 1 Axes>"
            ]
          },
          "metadata": {
            "tags": []
          }
        }
      ]
    },
    {
      "cell_type": "code",
      "metadata": {
        "id": "jWbcMtlYBYPl",
        "colab_type": "code",
        "colab": {
          "base_uri": "https://localhost:8080/",
          "height": 136
        },
        "outputId": "e8faaf58-9e83-4281-9342-39d7baa8ec98"
      },
      "source": [
        "sigma"
      ],
      "execution_count": 78,
      "outputs": [
        {
          "output_type": "execute_result",
          "data": {
            "text/plain": [
              "tensor([[0.6561, 0.7354, 0.8171,  ..., 0.8645, 0.8647, 0.9063],\n",
              "        [0.6411, 0.4536, 0.4115,  ..., 0.5134, 0.5147, 0.3465],\n",
              "        [0.5056, 0.4519, 0.4249,  ..., 0.4491, 0.4496, 0.4409],\n",
              "        ...,\n",
              "        [0.4844, 0.4557, 0.4637,  ..., 0.4983, 0.4991, 0.4638],\n",
              "        [0.4602, 0.4026, 0.3507,  ..., 0.5097, 0.5118, 0.3752],\n",
              "        [0.2628, 0.3900, 0.3391,  ..., 0.4423, 0.4440, 0.3959]])"
            ]
          },
          "metadata": {
            "tags": []
          },
          "execution_count": 78
        }
      ]
    }
  ]
}