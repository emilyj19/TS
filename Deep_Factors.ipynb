{
  "nbformat": 4,
  "nbformat_minor": 0,
  "metadata": {
    "colab": {
      "name": "Deep_Factors.ipynb",
      "version": "0.3.2",
      "provenance": [],
      "collapsed_sections": [],
      "include_colab_link": true
    },
    "kernelspec": {
      "name": "python3",
      "display_name": "Python 3"
    }
  },
  "cells": [
    {
      "cell_type": "markdown",
      "metadata": {
        "id": "view-in-github",
        "colab_type": "text"
      },
      "source": [
        "<a href=\"https://colab.research.google.com/github/emilyj19/TS/blob/master/Deep_Factors.ipynb\" target=\"_parent\"><img src=\"https://colab.research.google.com/assets/colab-badge.svg\" alt=\"Open In Colab\"/></a>"
      ]
    },
    {
      "cell_type": "code",
      "metadata": {
        "id": "UxHpi6CjWlg8",
        "colab_type": "code",
        "colab": {
          "base_uri": "https://localhost:8080/",
          "height": 51
        },
        "outputId": "6d78d7be-e720-40d1-e6ae-9be15426027b"
      },
      "source": [
        "pip install torch"
      ],
      "execution_count": 1,
      "outputs": [
        {
          "output_type": "stream",
          "text": [
            "Requirement already satisfied: torch in /usr/local/lib/python3.6/dist-packages (1.1.0)\n",
            "Requirement already satisfied: numpy in /usr/local/lib/python3.6/dist-packages (from torch) (1.16.4)\n"
          ],
          "name": "stdout"
        }
      ]
    },
    {
      "cell_type": "code",
      "metadata": {
        "id": "63MFgpVHUb5y",
        "colab_type": "code",
        "colab": {}
      },
      "source": [
        "import numpy as np \n",
        "import tensorflow as tf\n",
        "import matplotlib\n",
        "import matplotlib.pyplot as plt \n",
        "import pandas as pd\n",
        "import torch\n",
        "from torch import nn\n",
        "from torch.utils.data import DataLoader, TensorDataset\n",
        "from torch.autograd import Variable"
      ],
      "execution_count": 0,
      "outputs": []
    },
    {
      "cell_type": "code",
      "metadata": {
        "id": "lB_-DYtEUfH2",
        "colab_type": "code",
        "colab": {
          "base_uri": "https://localhost:8080/",
          "height": 122
        },
        "outputId": "1b36f309-26fd-48a1-c49d-97815ca5fd70"
      },
      "source": [
        "from google.colab import drive\n",
        "drive.mount('/content/gdrive')"
      ],
      "execution_count": 3,
      "outputs": [
        {
          "output_type": "stream",
          "text": [
            "Go to this URL in a browser: https://accounts.google.com/o/oauth2/auth?client_id=947318989803-6bn6qk8qdgf4n4g3pfee6491hc0brc4i.apps.googleusercontent.com&redirect_uri=urn%3Aietf%3Awg%3Aoauth%3A2.0%3Aoob&scope=email%20https%3A%2F%2Fwww.googleapis.com%2Fauth%2Fdocs.test%20https%3A%2F%2Fwww.googleapis.com%2Fauth%2Fdrive%20https%3A%2F%2Fwww.googleapis.com%2Fauth%2Fdrive.photos.readonly%20https%3A%2F%2Fwww.googleapis.com%2Fauth%2Fpeopleapi.readonly&response_type=code\n",
            "\n",
            "Enter your authorization code:\n",
            "··········\n",
            "Mounted at /content/gdrive\n"
          ],
          "name": "stdout"
        }
      ]
    },
    {
      "cell_type": "code",
      "metadata": {
        "id": "hbAw0rtMUhZf",
        "colab_type": "code",
        "colab": {
          "base_uri": "https://localhost:8080/",
          "height": 34
        },
        "outputId": "8902075b-9c84-40fc-81d0-a0b472f2c7e1"
      },
      "source": [
        "root_path = 'gdrive/My Drive/FinancialTS/JPmarket_dataset.npz' \n",
        "data = np.load(root_path)\n",
        "data.files"
      ],
      "execution_count": 4,
      "outputs": [
        {
          "output_type": "execute_result",
          "data": {
            "text/plain": [
              "['train_ratios', 'test_ratios', 'train_volumes', 'test_volumes']"
            ]
          },
          "metadata": {
            "tags": []
          },
          "execution_count": 4
        }
      ]
    },
    {
      "cell_type": "code",
      "metadata": {
        "id": "MzIcj78GVk8L",
        "colab_type": "code",
        "colab": {}
      },
      "source": [
        "train_ratios = data['train_ratios']\n",
        "test_ratios = data['test_ratios']\n",
        "train_vols = data['train_volumes']\n",
        "test_vols = data['test_volumes']"
      ],
      "execution_count": 0,
      "outputs": []
    },
    {
      "cell_type": "code",
      "metadata": {
        "id": "Dyk_YlK6VrE3",
        "colab_type": "code",
        "colab": {}
      },
      "source": [
        "av_vols = np.mean(train_vols[3], axis = 0)"
      ],
      "execution_count": 0,
      "outputs": []
    },
    {
      "cell_type": "code",
      "metadata": {
        "id": "4DKkWxWhOkne",
        "colab_type": "code",
        "colab": {
          "base_uri": "https://localhost:8080/",
          "height": 286
        },
        "outputId": "42b6dae3-8bba-4f7b-eb53-d40d9f56e7f7"
      },
      "source": [
        "plt.plot(av_vols)"
      ],
      "execution_count": 7,
      "outputs": [
        {
          "output_type": "execute_result",
          "data": {
            "text/plain": [
              "[<matplotlib.lines.Line2D at 0x7f98f34d4ba8>]"
            ]
          },
          "metadata": {
            "tags": []
          },
          "execution_count": 7
        },
        {
          "output_type": "display_data",
          "data": {
            "image/png": "[encoded data removed]",
            "text/plain": [
              "<Figure size 432x288 with 1 Axes>"
            ]
          },
          "metadata": {
            "tags": []
          }
        }
      ]
    },
    {
      "cell_type": "code",
      "metadata": {
        "id": "mC2J6fvWqn8A",
        "colab_type": "code",
        "colab": {}
      },
      "source": [
        "#create covariates - currently one hot vector 64 dims but experiment with different ideas \n",
        "def create_covariate_data(input_data, freq = 64): #this is assuming that data starts at beginning of day and ends at last bin of the day \n",
        "  num_series, len_series = input_data.shape\n",
        "  days = int(len_series/freq)\n",
        "  covariate_vectors = np.zeros((num_series, len_series, freq+1))\n",
        "  \n",
        "  for n in range(num_series):\n",
        "    for d in range(days): \n",
        "      for t in range(freq): \n",
        "        one_hot = np.zeros(freq)\n",
        "        one_hot[t] = 1\n",
        "        covariate_vectors[n, d*64 + t, 0] = input_data[n, d*64 + t]\n",
        "        covariate_vectors[n, d*64 + t, 1:] = one_hot\n",
        "        \n",
        "  return covariate_vectors"
      ],
      "execution_count": 0,
      "outputs": []
    },
    {
      "cell_type": "code",
      "metadata": {
        "id": "VMl5hXU41NDr",
        "colab_type": "code",
        "colab": {}
      },
      "source": [
        "train_volume = train_vols[0:10].reshape((10,-1))\n",
        "\n",
        "norm_train_vols = np.zeros((10, 29568))\n",
        "for i in range(10): \n",
        "  norm_train_vols[i] = train_volume[i]/np.amax(train_vols[i])\n",
        "  \n",
        "T = 64*3\n",
        "new_train_data = norm_train_vols[:,:T]\n",
        "\n",
        "covars_data = create_covariate_data(new_train_data)\n",
        "\n",
        "covars_data = torch.FloatTensor(covars_data)"
      ],
      "execution_count": 0,
      "outputs": []
    },
    {
      "cell_type": "code",
      "metadata": {
        "id": "qBv4MeQbt9mU",
        "colab_type": "code",
        "colab": {}
      },
      "source": [
        "class GlobalEffects(nn.Module): \n",
        "  def __init__(self, input_size, num_factors, hidden_size, batch_size = 1, output_size = 1, num_layers = 1): \n",
        "    super().__init__()\n",
        "    self.input_size = input_size\n",
        "    self.hidden_size = hidden_size\n",
        "    self.batch_size = batch_size\n",
        "    self.output_size = output_size\n",
        "    self.num_layers = num_layers\n",
        "    \n",
        "    self.lstm1 = nn.LSTM(input_size = self.input_size, hidden_size = self.hidden_size, num_layers = self.num_layers)\n",
        "    self.lstm2 = nn.LSTM(input_size = self.input_size, hidden_size = self.hidden_size, num_layers = self.num_layers)\n",
        "    self.lstm3 = nn.LSTM(input_size = self.input_size, hidden_size = self.hidden_size, num_layers = self.num_layers)\n",
        "    self.lstm4 = nn.LSTM(input_size = self.input_size, hidden_size = self.hidden_size, num_layers = self.num_layers)\n",
        "    self.lstm5 = nn.LSTM(input_size = self.input_size, hidden_size = self.hidden_size, num_layers = self.num_layers)\n",
        "    self.lstm6 = nn.LSTM(input_size = self.input_size, hidden_size = self.hidden_size, num_layers = self.num_layers)\n",
        "    self.lstm7 = nn.LSTM(input_size = self.input_size, hidden_size = self.hidden_size, num_layers = self.num_layers)\n",
        "    self.lstm8 = nn.LSTM(input_size = self.input_size, hidden_size = self.hidden_size, num_layers = self.num_layers)\n",
        "    self.lstm9 = nn.LSTM(input_size = self.input_size, hidden_size = self.hidden_size, num_layers = self.num_layers)\n",
        "    self.lstm10 = nn.LSTM(input_size = self.input_size, hidden_size = self.hidden_size, num_layers = self.num_layers)\n",
        "    \n",
        "    self.w = torch.nn.Parameter(torch.zeros(batch_size, num_factors))\n",
        "    \n",
        "  def init_hidden(self): \n",
        "    return torch.zeros(self.num_layers, self.batch_size, self.hidden_size)\n",
        "\n",
        "  def forward(self, input_data, hidden): \n",
        "    x = input_data[:,1:]\n",
        "    g1, hidden = self.lstm1(x.view(len(x), self.batch_size, -1))\n",
        "    g2, hidden = self.lstm2(x.view(len(x), self.batch_size, -1))\n",
        "    g3, hidden = self.lstm3(x.view(len(x), self.batch_size, -1))\n",
        "    g4, hidden = self.lstm4(x.view(len(x), self.batch_size, -1))\n",
        "    g5, hidden = self.lstm5(x.view(len(x), self.batch_size, -1))\n",
        "    g6, hidden = self.lstm6(x.view(len(x), self.batch_size, -1))\n",
        "    g7, hidden = self.lstm7(x.view(len(x), self.batch_size, -1))\n",
        "    g8, hidden = self.lstm8(x.view(len(x), self.batch_size, -1))\n",
        "    g9, hidden = self.lstm9(x.view(len(x), self.batch_size, -1))\n",
        "    g10, hidden = self.lstm10(x.view(len(x), self.batch_size, -1))\n",
        "\n",
        "    g = torch.cat((g1.view(-1,1), g2.view(-1,1), g3.view(-1,1), g4.view(-1,1), g5.view(-1,1), g6.view(-1,1), g7.view(-1,1), g8.view(-1,1), g9.view(-1,1), g10.view(-1,1)), dim=1)\n",
        "    #fixed_effects = torch.sum(g.view(-1, 1) * self.w)\n",
        "    #print('f', fixed_effects.shape)\n",
        "    \n",
        "    fixed_effects = torch.zeros(g.shape[0])\n",
        "    for i in range(g.shape[0]): \n",
        "      fixed_effects[i] = torch.dot(self.w.view(-1), g[i])\n",
        "\n",
        "    return fixed_effects\n",
        "    \n",
        "    #NEED TO ADD AN ATTENTION LAYER HERE \n",
        "    #also, maybe should have more hidden layers and then a dense layer to get the dims down to 1\n",
        "      "
      ],
      "execution_count": 0,
      "outputs": []
    },
    {
      "cell_type": "code",
      "metadata": {
        "id": "zSSlj0dlw0pi",
        "colab_type": "code",
        "colab": {}
      },
      "source": [
        "class DF_RNN(nn.Module): \n",
        "  def __init__(self, input_size, hidden_size, batch_size, output_size):\n",
        "    super().__init__()\n",
        "    self.input_size = input_size\n",
        "    self.hidden_size = hidden_size\n",
        "    self.batch_size = batch_size\n",
        "    self.output_size = output_size\n",
        "\n",
        "    self.rnn = nn.RNN(input_size = self.input_size, hidden_size = self.hidden_size, num_layers = 1)\n",
        "    self.linear = nn.Linear(self.hidden_size, self.output_size)\n",
        "    \n",
        "  def init_hidden(self): \n",
        "      return torch.zeros(1, self.batch_size, self.hidden_size)\n",
        "    \n",
        "  def forward(self, input_data, hidden, fixed_effects, gaussian_likelihood): \n",
        "    z = input_data[:,0]\n",
        "    x = input_data[:,1:]\n",
        "    rnn_out, hidden = self.rnn(x.view(len(x), self.batch_size, -1))\n",
        "    sigma = self.linear(rnn_out).view(-1)\n",
        "    r = torch.zeros(sigma.shape[0])\n",
        "    for i in range(sigma.shape[0]):\n",
        "      r[i] = torch.distributions.normal.Normal(0, sigma[i]).rsample()\n",
        "    u = fixed_effects + r\n",
        "    \n",
        "    if gaussian_likelihood == True: \n",
        "      likelihood = self.log_likelihood_Gaussian(z, fixed_effects, sigma)#????\n",
        "    \n",
        "    else: \n",
        "      likelihood = self.log_likelihood_nonGaussian()\n",
        "    \n",
        "    log_lik = likelihood\n",
        "    \n",
        "    return log_lik\n",
        "   \n",
        "  def log_likelihood_Gaussian(self, z, f, sigma):\n",
        "    log_p = torch.zeros(len(z))\n",
        "    for i in range(len(z)): \n",
        "      log_p[i] = torch.distributions.normal.Normal(0, sigma[i]).log_prob(z[i] - f[i])\n",
        "      if torch.isnan(log_p[i]) == 1: \n",
        "        log_p[i] = -100\n",
        "     \n",
        "    log_likelihood = torch.sum(log_p)\n",
        "      \n",
        "    return log_likelihood \n",
        "  \n",
        "  \n",
        "  def log_likelihood_nonGaussian(self, ):\n",
        "    pass"
      ],
      "execution_count": 0,
      "outputs": []
    },
    {
      "cell_type": "code",
      "metadata": {
        "id": "1KpePhAU974O",
        "colab_type": "code",
        "colab": {}
      },
      "source": [
        "global_model = GlobalEffects(input_size = 64, num_factors = 10 , hidden_size = 1)  \n",
        "local_model = DF_RNN(64, hidden_size = 5, batch_size = 1, output_size = 1)"
      ],
      "execution_count": 0,
      "outputs": []
    },
    {
      "cell_type": "code",
      "metadata": {
        "id": "MGd_qELTtqx2",
        "colab_type": "code",
        "colab": {}
      },
      "source": [
        "learning_rate = 0.001\n",
        "batch_size = 10\n",
        "num_epochs = 100"
      ],
      "execution_count": 0,
      "outputs": []
    },
    {
      "cell_type": "code",
      "metadata": {
        "id": "NWZumPtm7ZCX",
        "colab_type": "code",
        "colab": {}
      },
      "source": [
        "#loss_function = torch.nn.NLLLoss()\n",
        "optimiser = torch.optim.SGD(list(global_model.parameters()) + list(local_model.parameters()), lr = learning_rate)\n",
        "\n",
        "#optimiser_global = torch.optim.SGD(global_model.parameters(), lr = learning_rate)\n",
        "#optimiser_local = torch.optim.SGD(local_model.parameters(), lr = learning_rate)\n",
        "\n",
        "train_loss = []\n",
        "\n",
        "for t in range(num_epochs): \n",
        "  global_model.zero_grad()\n",
        "  global_hidden = global_model.init_hidden()\n",
        "  \n",
        "  local_model.zero_grad()\n",
        "  local_hidden = local_model.init_hidden()\n",
        "  \n",
        "  data_batch = covars_data\n",
        "  \n",
        "  neg_batch_loss = 0 \n",
        "  \n",
        "  for i in range(batch_size): \n",
        "    data = data_batch[i]\n",
        "    \n",
        "    fixed_effects = global_model(data, global_hidden)\n",
        "    log_lik = local_model(data, local_hidden, fixed_effects, gaussian_likelihood = True)\n",
        "    \n",
        "    neg_batch_loss += log_lik\n",
        "    \n",
        "  batch_loss = -1*neg_batch_loss\n",
        "  \n",
        "  #loss = batch_loss\n",
        "    \n",
        "  optimiser.zero_grad()\n",
        "  \n",
        "  batch_loss.backward()\n",
        "\n",
        "  optimiser.step()\n",
        "\n",
        "  train_loss.append(batch_loss.item())\n",
        "  \n",
        "  print(\"Epoch: \", t, \"loss: \", batch_loss.item())"
      ],
      "execution_count": 0,
      "outputs": []
    },
    {
      "cell_type": "code",
      "metadata": {
        "id": "53UOowhFy3K7",
        "colab_type": "code",
        "colab": {
          "base_uri": "https://localhost:8080/",
          "height": 286
        },
        "outputId": "a6449431-56a2-4598-a053-c958228f48f5"
      },
      "source": [
        "plt.plot(train_loss)"
      ],
      "execution_count": 88,
      "outputs": [
        {
          "output_type": "execute_result",
          "data": {
            "text/plain": [
              "[<matplotlib.lines.Line2D at 0x7f98efa2ad68>]"
            ]
          },
          "metadata": {
            "tags": []
          },
          "execution_count": 88
        },
        {
          "output_type": "display_data",
          "data": {
            "image/png": "[encoded data removed]",
            "text/plain": [
              "<Figure size 432x288 with 1 Axes>"
            ]
          },
          "metadata": {
            "tags": []
          }
        }
      ]
    }
  ]
}