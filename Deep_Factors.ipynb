{
  "nbformat": 4,
  "nbformat_minor": 0,
  "metadata": {
    "colab": {
      "name": "Deep_Factors.ipynb",
      "version": "0.3.2",
      "provenance": [],
      "collapsed_sections": [],
      "include_colab_link": true
    },
    "kernelspec": {
      "name": "python3",
      "display_name": "Python 3"
    }
  },
  "cells": [
    {
      "cell_type": "markdown",
      "metadata": {
        "id": "view-in-github",
        "colab_type": "text"
      },
      "source": [
        "<a href=\"https://colab.research.google.com/github/emilyj19/TS/blob/master/Deep_Factors.ipynb\" target=\"_parent\"><img src=\"https://colab.research.google.com/assets/colab-badge.svg\" alt=\"Open In Colab\"/></a>"
      ]
    },
    {
      "cell_type": "code",
      "metadata": {
        "id": "UxHpi6CjWlg8",
        "colab_type": "code",
        "colab": {
          "base_uri": "https://localhost:8080/",
          "height": 51
        },
        "outputId": "a79e8565-3b47-4d86-dc19-eeef619bbfab"
      },
      "source": [
        "pip install torch"
      ],
      "execution_count": 1,
      "outputs": [
        {
          "output_type": "stream",
          "text": [
            "Requirement already satisfied: torch in /usr/local/lib/python3.6/dist-packages (1.1.0)\n",
            "Requirement already satisfied: numpy in /usr/local/lib/python3.6/dist-packages (from torch) (1.16.4)\n"
          ],
          "name": "stdout"
        }
      ]
    },
    {
      "cell_type": "code",
      "metadata": {
        "id": "63MFgpVHUb5y",
        "colab_type": "code",
        "colab": {}
      },
      "source": [
        "import numpy as np \n",
        "import tensorflow as tf\n",
        "import matplotlib\n",
        "import matplotlib.pyplot as plt \n",
        "import pandas as pd\n",
        "import torch\n",
        "from torch import nn\n",
        "from torch.utils.data import DataLoader, TensorDataset\n",
        "from torch.autograd import Variable"
      ],
      "execution_count": 0,
      "outputs": []
    },
    {
      "cell_type": "code",
      "metadata": {
        "id": "lB_-DYtEUfH2",
        "colab_type": "code",
        "colab": {
          "base_uri": "https://localhost:8080/",
          "height": 122
        },
        "outputId": "a7536a24-bbe6-4969-9775-918fd00b9cc9"
      },
      "source": [
        "from google.colab import drive\n",
        "drive.mount('/content/gdrive')"
      ],
      "execution_count": 3,
      "outputs": [
        {
          "output_type": "stream",
          "text": [
            "Go to this URL in a browser: https://accounts.google.com/o/oauth2/auth?client_id=947318989803-6bn6qk8qdgf4n4g3pfee6491hc0brc4i.apps.googleusercontent.com&redirect_uri=urn%3Aietf%3Awg%3Aoauth%3A2.0%3Aoob&scope=email%20https%3A%2F%2Fwww.googleapis.com%2Fauth%2Fdocs.test%20https%3A%2F%2Fwww.googleapis.com%2Fauth%2Fdrive%20https%3A%2F%2Fwww.googleapis.com%2Fauth%2Fdrive.photos.readonly%20https%3A%2F%2Fwww.googleapis.com%2Fauth%2Fpeopleapi.readonly&response_type=code\n",
            "\n",
            "Enter your authorization code:\n",
            "··········\n",
            "Mounted at /content/gdrive\n"
          ],
          "name": "stdout"
        }
      ]
    },
    {
      "cell_type": "code",
      "metadata": {
        "id": "hbAw0rtMUhZf",
        "colab_type": "code",
        "colab": {
          "base_uri": "https://localhost:8080/",
          "height": 34
        },
        "outputId": "71c6fe17-9639-4d7f-94ff-9e503b843888"
      },
      "source": [
        "root_path = 'gdrive/My Drive/FinancialTS/JPmarket_dataset.npz' \n",
        "data = np.load(root_path)\n",
        "data.files"
      ],
      "execution_count": 4,
      "outputs": [
        {
          "output_type": "execute_result",
          "data": {
            "text/plain": [
              "['train_ratios', 'test_ratios', 'train_volumes', 'test_volumes']"
            ]
          },
          "metadata": {
            "tags": []
          },
          "execution_count": 4
        }
      ]
    },
    {
      "cell_type": "code",
      "metadata": {
        "id": "MzIcj78GVk8L",
        "colab_type": "code",
        "colab": {}
      },
      "source": [
        "train_ratios = data['train_ratios']\n",
        "test_ratios = data['test_ratios']\n",
        "train_vols = data['train_volumes']\n",
        "test_vols = data['test_volumes']"
      ],
      "execution_count": 0,
      "outputs": []
    },
    {
      "cell_type": "code",
      "metadata": {
        "id": "Dyk_YlK6VrE3",
        "colab_type": "code",
        "colab": {}
      },
      "source": [
        "av_vols = np.mean(train_vols[3], axis = 0)"
      ],
      "execution_count": 0,
      "outputs": []
    },
    {
      "cell_type": "code",
      "metadata": {
        "id": "4DKkWxWhOkne",
        "colab_type": "code",
        "colab": {
          "base_uri": "https://localhost:8080/",
          "height": 286
        },
        "outputId": "0e7b75fa-3854-4246-b6f6-c4ba32d18ca5"
      },
      "source": [
        "plt.plot(av_vols)"
      ],
      "execution_count": 7,
      "outputs": [
        {
          "output_type": "execute_result",
          "data": {
            "text/plain": [
              "[<matplotlib.lines.Line2D at 0x7ff571ed5cc0>]"
            ]
          },
          "metadata": {
            "tags": []
          },
          "execution_count": 7
        },
        {
          "output_type": "display_data",
          "data": {
            "image/png": "[encoded data removed]",
            "text/plain": [
              "<Figure size 432x288 with 1 Axes>"
            ]
          },
          "metadata": {
            "tags": []
          }
        }
      ]
    },
    {
      "cell_type": "code",
      "metadata": {
        "id": "mC2J6fvWqn8A",
        "colab_type": "code",
        "colab": {}
      },
      "source": [
        "#create covariates - currently one hot vector 64 dims but experiment with different ideas \n",
        "def create_covariate_data(input_data, freq = 64): #this is assuming that data starts at beginning of day and ends at last bin of the day \n",
        "  num_series, len_series = input_data.shape\n",
        "  days = int(len_series/freq)\n",
        "  covariate_vectors = np.zeros((num_series, len_series, freq+1))\n",
        "  \n",
        "  for n in range(num_series):\n",
        "    for d in range(days): \n",
        "      for t in range(freq): \n",
        "        one_hot = np.zeros(freq)\n",
        "        one_hot[t] = 1\n",
        "        covariate_vectors[n, d*64 + t, 0] = input_data[n, d*64 + t]\n",
        "        covariate_vectors[n, d*64 + t, 1:] = one_hot\n",
        "        \n",
        "  return covariate_vectors"
      ],
      "execution_count": 0,
      "outputs": []
    },
    {
      "cell_type": "code",
      "metadata": {
        "id": "VMl5hXU41NDr",
        "colab_type": "code",
        "colab": {}
      },
      "source": [
        "train_volume = train_vols[0:50].reshape((50,-1))\n",
        "\n",
        "norm_train_vols = np.zeros((50, 29568))\n",
        "for i in range(50): \n",
        "  norm_train_vols[i] = train_volume[i]/np.amax(train_vols[i])\n",
        "  \n",
        "T = 64*3\n",
        "new_train_data = norm_train_vols[:,:T]\n",
        "\n",
        "covars_data = create_covariate_data(new_train_data)\n",
        "\n",
        "covars_data = torch.FloatTensor(covars_data)"
      ],
      "execution_count": 0,
      "outputs": []
    },
    {
      "cell_type": "code",
      "metadata": {
        "id": "Q1O5qrgbY_f-",
        "colab_type": "code",
        "colab": {}
      },
      "source": [
        "test_volume = train_vols[50:100].reshape((50,-1))\n",
        "\n",
        "norm_test_vols = np.zeros((50, 29568))\n",
        "for i in range(50): \n",
        "  norm_test_vols[i] = test_volume[i]/np.amax(train_vols[i])\n",
        "  \n",
        "T = 64*3\n",
        "new_test_data = norm_test_vols[:,:T]\n",
        "\n",
        "covars_test_data = create_covariate_data(new_test_data)\n",
        "\n",
        "covars_test_data = torch.FloatTensor(covars_test_data)"
      ],
      "execution_count": 0,
      "outputs": []
    },
    {
      "cell_type": "code",
      "metadata": {
        "id": "TVqDKWpYzc9x",
        "colab_type": "code",
        "colab": {}
      },
      "source": [
        "class GlobalEffects(nn.Module): \n",
        "  def __init__(self, input_size, num_factors, hidden_size, batch_size = 1, output_size = 1, num_layers = 1): \n",
        "    super().__init__()\n",
        "    self.input_size = input_size\n",
        "    self.num_factors = num_factors\n",
        "    self.hidden_size = hidden_size\n",
        "    self.batch_size = batch_size\n",
        "    self.output_size = output_size\n",
        "    self.num_layers = num_layers\n",
        "    \n",
        "    self.linears = nn.ModuleList([nn.Linear(self.hidden_size, self.output_size, bias = False) for i in range(self.num_factors)])\n",
        "    self.lstms = nn.ModuleList([nn.LSTM(input_size = self.input_size, hidden_size = self.hidden_size, num_layers = self.num_layers) for i in range(self.num_factors)])\n",
        "    \n",
        "    self.w = torch.nn.Parameter(torch.zeros(batch_size, num_factors))\n",
        "    \n",
        "  def init_hidden(self): \n",
        "    hidden = [torch.zeros(self.num_layers, self.batch_size, self.hidden_size) for i in range(self.num_factors)]\n",
        "    return hidden\n",
        "    \n",
        "  def forward(self, input_data, hidden): \n",
        "    x = input_data[:,1:]\n",
        "    for i in range(self.num_factors): \n",
        "      lstm_out, hidden[i] = self.lstms[i](x.view(len(x), self.batch_size, -1))\n",
        "      g_i = self.linears[i](lstm_out).view(-1,1)\n",
        "      \n",
        "      if i == 0: \n",
        "        g = g_i\n",
        "      else:\n",
        "        g = torch.cat((g,g_i), dim=1)\n",
        "\n",
        "    fixed_effects = torch.zeros(g.shape[0])\n",
        "    for i in range(g.shape[0]): \n",
        "      fixed_effects[i] = torch.dot(self.w.view(-1), g[i])\n",
        "      \n",
        "    return fixed_effects\n",
        "     \n",
        "      "
      ],
      "execution_count": 0,
      "outputs": []
    },
    {
      "cell_type": "code",
      "metadata": {
        "id": "zSSlj0dlw0pi",
        "colab_type": "code",
        "colab": {}
      },
      "source": [
        "class DF_RNN(nn.Module): \n",
        "  def __init__(self, input_size, hidden_size, batch_size, output_size):\n",
        "    super().__init__()\n",
        "    self.input_size = input_size\n",
        "    self.hidden_size = hidden_size\n",
        "    self.batch_size = batch_size\n",
        "    self.output_size = output_size\n",
        "\n",
        "    self.rnn = nn.RNN(input_size = self.input_size, hidden_size = self.hidden_size, num_layers = 1)\n",
        "    self.linear = nn.Linear(self.hidden_size, self.output_size)\n",
        "    \n",
        "  def init_hidden(self): \n",
        "      return torch.zeros(1, self.batch_size, self.hidden_size)\n",
        "    \n",
        "  def forward(self, input_data, hidden, fixed_effects, gaussian_likelihood): \n",
        "    z = input_data[:,0]\n",
        "    x = input_data[:,1:]\n",
        "    rnn_out, hidden = self.rnn(x.view(len(x), self.batch_size, -1))\n",
        "    sigma = self.linear(rnn_out).view(-1)\n",
        "    sigma = torch.abs(sigma)\n",
        "    r = torch.zeros(sigma.shape[0])\n",
        "    for i in range(sigma.shape[0]):\n",
        "      r[i] = torch.distributions.normal.Normal(0, sigma[i]).rsample()\n",
        "    u = fixed_effects + r\n",
        "    \n",
        "    if gaussian_likelihood == True: \n",
        "      log_lik = self.log_likelihood_Gaussian(z, fixed_effects, sigma)\n",
        "    \n",
        "    else: \n",
        "      log_lik = self.log_likelihood_nonGaussian()\n",
        "    \n",
        "    return log_lik\n",
        "   \n",
        "  def log_likelihood_Gaussian(self, z, f, sigma):\n",
        "    log_p = torch.zeros(len(z))\n",
        "    for i in range(len(z)): \n",
        "      log_pdf = torch.distributions.normal.Normal(0, sigma[i]).log_prob(z[i] - f[i])\n",
        "      #scale the likelihood to 0-1\n",
        "      log_norm_constant = torch.distributions.normal.Normal(0, sigma[i]).log_prob(0)\n",
        "      log_p[i] = log_pdf - log_norm_constant\n",
        "      \n",
        "    #set neg infinite values to -10 to avoid batch loss becoming infinite \n",
        "    log_p[log_p == -float(\"inf\")] = -10\n",
        "    \n",
        "    log_lik = torch.sum(log_p)\n",
        "\n",
        "    return log_lik\n",
        "  \n",
        "  \n",
        "  def log_likelihood_nonGaussian(self, ): #to do \n",
        "    pass"
      ],
      "execution_count": 0,
      "outputs": []
    },
    {
      "cell_type": "code",
      "metadata": {
        "id": "MGd_qELTtqx2",
        "colab_type": "code",
        "colab": {}
      },
      "source": [
        "learning_rate = 0.0001\n",
        "batch_size = 50 #??????\n",
        "num_epochs = 200\n",
        "hidden_units_global = 50\n",
        "hidden_units_local = 5\n",
        "n_factors = 10 "
      ],
      "execution_count": 0,
      "outputs": []
    },
    {
      "cell_type": "code",
      "metadata": {
        "id": "FnaiB4RyWtVy",
        "colab_type": "code",
        "colab": {}
      },
      "source": [
        "global_model = GlobalEffects(input_size = 64, num_factors = n_factors , hidden_size = hidden_units_global)  \n",
        "local_model = DF_RNN(64, hidden_size = hidden_units_local, batch_size = 1, output_size = 1)"
      ],
      "execution_count": 0,
      "outputs": []
    },
    {
      "cell_type": "code",
      "metadata": {
        "id": "NWZumPtm7ZCX",
        "colab_type": "code",
        "colab": {
          "base_uri": "https://localhost:8080/",
          "height": 1000
        },
        "outputId": "0f874053-6add-4f08-eead-0a8e9b15680b"
      },
      "source": [
        "optimiser = torch.optim.SGD(list(global_model.parameters()) + list(local_model.parameters()), lr = learning_rate)\n",
        "\n",
        "train_loss = []\n",
        "test_loss = []\n",
        "\n",
        "for t in range(num_epochs): \n",
        "  global_model.zero_grad()\n",
        "  global_hidden = global_model.init_hidden()\n",
        "  \n",
        "  local_model.zero_grad()\n",
        "  local_hidden = local_model.init_hidden()\n",
        "  \n",
        "  data_batch = covars_data\n",
        "  \n",
        "  neg_batch_loss = 0 \n",
        "  fixed_effects = global_model(data_batch[0], global_hidden)\n",
        "  \n",
        "  for i in range(batch_size): \n",
        "    data = data_batch[i]\n",
        "    \n",
        "    #fixed_effects = global_model(data, global_hidden) # this could be taken out of the for loop as if we keep the same covariate structure for  every series then g will be the same for each TS\n",
        "    log_lik = local_model(data, local_hidden, fixed_effects, gaussian_likelihood = True)\n",
        "    \n",
        "    neg_batch_loss += log_lik\n",
        "    \n",
        "  batch_loss = -1*neg_batch_loss\n",
        "    \n",
        "  optimiser.zero_grad()\n",
        "  \n",
        "  batch_loss.backward()\n",
        "\n",
        "  optimiser.step()\n",
        "  \n",
        "  train_loss.append(batch_loss.item())\n",
        "  \n",
        "  with torch.no_grad():\n",
        "    test_data_batch = covars_test_data\n",
        "    neg_test_batch_loss = 0\n",
        "    fixed_effects = global_model(test_data_batch[0], global_hidden)\n",
        "    \n",
        "    for i in range(batch_size): \n",
        "      data = test_data_batch[i]\n",
        "      log_lik = local_model(data, local_hidden, fixed_effects, gaussian_likelihood = True)\n",
        "      neg_test_batch_loss += log_lik\n",
        "      \n",
        "    test_batch_loss = -1*neg_test_batch_loss\n",
        "      \n",
        "    test_loss.append(test_batch_loss.item())\n",
        "  \n",
        "  print(\"Epoch: \", t, \"loss: \", batch_loss.item(), \"test loss: \", test_batch_loss.item())"
      ],
      "execution_count": 137,
      "outputs": [
        {
          "output_type": "stream",
          "text": [
            "Epoch:  0 loss:  20.211185455322266 test loss:  555.57275390625\n",
            "Epoch:  1 loss:  18.09853744506836 test loss:  520.681884765625\n",
            "Epoch:  2 loss:  16.552371978759766 test loss:  492.9171142578125\n",
            "Epoch:  3 loss:  15.349940299987793 test loss:  469.98883056640625\n",
            "Epoch:  4 loss:  14.377050399780273 test loss:  450.5509338378906\n",
            "Epoch:  5 loss:  13.567485809326172 test loss:  433.7442321777344\n",
            "Epoch:  6 loss:  12.879396438598633 test loss:  418.9884948730469\n",
            "Epoch:  7 loss:  12.2850341796875 test loss:  405.8724060058594\n",
            "Epoch:  8 loss:  11.764684677124023 test loss:  394.0953369140625\n",
            "Epoch:  9 loss:  11.304254531860352 test loss:  383.4305114746094\n",
            "Epoch:  10 loss:  10.893139839172363 test loss:  373.7029113769531\n",
            "Epoch:  11 loss:  10.523167610168457 test loss:  364.77490234375\n",
            "Epoch:  12 loss:  10.188117980957031 test loss:  356.53619384765625\n",
            "Epoch:  13 loss:  9.882806777954102 test loss:  348.897216796875\n",
            "Epoch:  14 loss:  9.60323429107666 test loss:  341.7844543457031\n",
            "Epoch:  15 loss:  9.346062660217285 test loss:  335.13677978515625\n",
            "Epoch:  16 loss:  9.108511924743652 test loss:  328.9024658203125\n",
            "Epoch:  17 loss:  8.888306617736816 test loss:  323.03814697265625\n",
            "Epoch:  18 loss:  8.683527946472168 test loss:  317.50628662109375\n",
            "Epoch:  19 loss:  8.492444038391113 test loss:  312.2749328613281\n",
            "Epoch:  20 loss:  8.313645362854004 test loss:  307.31622314453125\n",
            "Epoch:  21 loss:  8.145944595336914 test loss:  302.60589599609375\n",
            "Epoch:  22 loss:  7.988293647766113 test loss:  298.12274169921875\n",
            "Epoch:  23 loss:  7.8397064208984375 test loss:  293.8479309082031\n",
            "Epoch:  24 loss:  7.699400901794434 test loss:  289.76507568359375\n",
            "Epoch:  25 loss:  7.5666728019714355 test loss:  285.8592834472656\n",
            "Epoch:  26 loss:  7.440812110900879 test loss:  282.1173095703125\n",
            "Epoch:  27 loss:  7.32138204574585 test loss:  278.52740478515625\n",
            "Epoch:  28 loss:  7.207693099975586 test loss:  275.07904052734375\n",
            "Epoch:  29 loss:  7.099461078643799 test loss:  271.7626647949219\n",
            "Epoch:  30 loss:  6.9962158203125 test loss:  268.5694580078125\n",
            "Epoch:  31 loss:  6.897555828094482 test loss:  265.4916076660156\n",
            "Epoch:  32 loss:  6.803218841552734 test loss:  262.5220642089844\n",
            "Epoch:  33 loss:  6.712849140167236 test loss:  259.65411376953125\n",
            "Epoch:  34 loss:  6.626180648803711 test loss:  256.8818664550781\n",
            "Epoch:  35 loss:  6.5429840087890625 test loss:  254.19969177246094\n",
            "Epoch:  36 loss:  6.462998867034912 test loss:  251.60287475585938\n",
            "Epoch:  37 loss:  6.386111736297607 test loss:  249.0864715576172\n",
            "Epoch:  38 loss:  6.311982154846191 test loss:  246.6462860107422\n",
            "Epoch:  39 loss:  6.240603923797607 test loss:  244.27833557128906\n",
            "Epoch:  40 loss:  6.171709060668945 test loss:  241.97906494140625\n",
            "Epoch:  41 loss:  6.1051506996154785 test loss:  239.74484252929688\n",
            "Epoch:  42 loss:  6.040867805480957 test loss:  237.5725860595703\n",
            "Epoch:  43 loss:  5.97861385345459 test loss:  235.45944213867188\n",
            "Epoch:  44 loss:  5.918407917022705 test loss:  233.40261840820312\n",
            "Epoch:  45 loss:  5.860057830810547 test loss:  231.39935302734375\n",
            "Epoch:  46 loss:  5.803474426269531 test loss:  229.44752502441406\n",
            "Epoch:  47 loss:  5.748581886291504 test loss:  227.5447235107422\n",
            "Epoch:  48 loss:  5.695324897766113 test loss:  225.68878173828125\n",
            "Epoch:  49 loss:  5.643499851226807 test loss:  223.87779235839844\n",
            "Epoch:  50 loss:  5.593207359313965 test loss:  222.1099395751953\n",
            "Epoch:  51 loss:  5.544276714324951 test loss:  220.38345336914062\n",
            "Epoch:  52 loss:  5.496619701385498 test loss:  218.69668579101562\n",
            "Epoch:  53 loss:  5.450254917144775 test loss:  217.04788208007812\n",
            "Epoch:  54 loss:  5.405014514923096 test loss:  215.43585205078125\n",
            "Epoch:  55 loss:  5.360994815826416 test loss:  213.859130859375\n",
            "Epoch:  56 loss:  5.318030834197998 test loss:  212.3162078857422\n",
            "Epoch:  57 loss:  5.276064872741699 test loss:  210.80601501464844\n",
            "Epoch:  58 loss:  5.2351579666137695 test loss:  209.32737731933594\n",
            "Epoch:  59 loss:  5.19514799118042 test loss:  207.879150390625\n",
            "Epoch:  60 loss:  5.156184673309326 test loss:  206.46014404296875\n",
            "Epoch:  61 loss:  5.117945671081543 test loss:  205.069580078125\n",
            "Epoch:  62 loss:  5.080661773681641 test loss:  203.7063446044922\n",
            "Epoch:  63 loss:  5.044127464294434 test loss:  202.3694305419922\n",
            "Epoch:  64 loss:  5.008395195007324 test loss:  201.05819702148438\n",
            "Epoch:  65 loss:  4.9734063148498535 test loss:  199.77174377441406\n",
            "Epoch:  66 loss:  4.939167022705078 test loss:  198.50909423828125\n",
            "Epoch:  67 loss:  4.905604362487793 test loss:  197.2697296142578\n",
            "Epoch:  68 loss:  4.872724533081055 test loss:  196.05279541015625\n",
            "Epoch:  69 loss:  4.840531349182129 test loss:  194.8575897216797\n",
            "Epoch:  70 loss:  4.808876991271973 test loss:  193.68350219726562\n",
            "Epoch:  71 loss:  4.777892112731934 test loss:  192.5299530029297\n",
            "Epoch:  72 loss:  4.747472286224365 test loss:  191.39617919921875\n",
            "Epoch:  73 loss:  4.717615127563477 test loss:  190.28175354003906\n",
            "Epoch:  74 loss:  4.688294410705566 test loss:  189.1861114501953\n",
            "Epoch:  75 loss:  4.659536361694336 test loss:  188.1086883544922\n",
            "Epoch:  76 loss:  4.631312847137451 test loss:  187.048828125\n",
            "Epoch:  77 loss:  4.603516101837158 test loss:  186.00625610351562\n",
            "Epoch:  78 loss:  4.576223850250244 test loss:  184.98037719726562\n",
            "Epoch:  79 loss:  4.549386501312256 test loss:  183.97076416015625\n",
            "Epoch:  80 loss:  4.523046493530273 test loss:  182.97706604003906\n",
            "Epoch:  81 loss:  4.497108459472656 test loss:  181.998779296875\n",
            "Epoch:  82 loss:  4.47162389755249 test loss:  181.0354766845703\n",
            "Epoch:  83 loss:  4.446585178375244 test loss:  180.08673095703125\n",
            "Epoch:  84 loss:  4.421856880187988 test loss:  179.15223693847656\n",
            "Epoch:  85 loss:  4.397526741027832 test loss:  178.2318115234375\n",
            "Epoch:  86 loss:  4.373711585998535 test loss:  177.32470703125\n",
            "Epoch:  87 loss:  4.350107669830322 test loss:  176.4309539794922\n",
            "Epoch:  88 loss:  4.326938152313232 test loss:  175.55003356933594\n",
            "Epoch:  89 loss:  4.304098606109619 test loss:  174.68170166015625\n",
            "Epoch:  90 loss:  4.281635284423828 test loss:  173.8256378173828\n",
            "Epoch:  91 loss:  4.259485721588135 test loss:  172.9815216064453\n",
            "Epoch:  92 loss:  4.237659454345703 test loss:  172.14903259277344\n",
            "Epoch:  93 loss:  4.216146945953369 test loss:  171.3280029296875\n",
            "Epoch:  94 loss:  4.194896697998047 test loss:  170.5182647705078\n",
            "Epoch:  95 loss:  4.174018383026123 test loss:  169.71926879882812\n",
            "Epoch:  96 loss:  4.153396129608154 test loss:  168.9310302734375\n",
            "Epoch:  97 loss:  4.133064270019531 test loss:  168.1531982421875\n",
            "Epoch:  98 loss:  4.113040447235107 test loss:  167.3854522705078\n",
            "Epoch:  99 loss:  4.093242168426514 test loss:  166.62771606445312\n",
            "Epoch:  100 loss:  4.073740005493164 test loss:  165.87979125976562\n",
            "Epoch:  101 loss:  4.054515361785889 test loss:  165.141357421875\n",
            "Epoch:  102 loss:  4.035547256469727 test loss:  164.41217041015625\n",
            "Epoch:  103 loss:  4.016714572906494 test loss:  163.6922149658203\n",
            "Epoch:  104 loss:  3.9982364177703857 test loss:  162.98114013671875\n",
            "Epoch:  105 loss:  3.9799692630767822 test loss:  162.2788848876953\n",
            "Epoch:  106 loss:  3.9619526863098145 test loss:  161.585205078125\n",
            "Epoch:  107 loss:  3.944182872772217 test loss:  160.89993286132812\n",
            "Epoch:  108 loss:  3.9265787601470947 test loss:  160.2227325439453\n",
            "Epoch:  109 loss:  3.9091804027557373 test loss:  159.5537872314453\n",
            "Epoch:  110 loss:  3.892054319381714 test loss:  158.89276123046875\n",
            "Epoch:  111 loss:  3.8751327991485596 test loss:  158.2393035888672\n",
            "Epoch:  112 loss:  3.8583736419677734 test loss:  157.5935516357422\n",
            "Epoch:  113 loss:  3.8418686389923096 test loss:  156.95521545410156\n",
            "Epoch:  114 loss:  3.8254849910736084 test loss:  156.3241424560547\n",
            "Epoch:  115 loss:  3.809333562850952 test loss:  155.70025634765625\n",
            "Epoch:  116 loss:  3.7933874130249023 test loss:  155.08346557617188\n",
            "Epoch:  117 loss:  3.7776074409484863 test loss:  154.4735107421875\n",
            "Epoch:  118 loss:  3.762040853500366 test loss:  153.8702850341797\n",
            "Epoch:  119 loss:  3.7466049194335938 test loss:  153.2737274169922\n",
            "Epoch:  120 loss:  3.731332778930664 test loss:  152.68373107910156\n",
            "Epoch:  121 loss:  3.7162926197052 test loss:  152.1000518798828\n",
            "Epoch:  122 loss:  3.7013602256774902 test loss:  151.52268981933594\n",
            "Epoch:  123 loss:  3.6866157054901123 test loss:  150.9514923095703\n",
            "Epoch:  124 loss:  3.6720473766326904 test loss:  150.38638305664062\n",
            "Epoch:  125 loss:  3.657578706741333 test loss:  149.82725524902344\n",
            "Epoch:  126 loss:  3.64337420463562 test loss:  149.2738494873047\n",
            "Epoch:  127 loss:  3.6292009353637695 test loss:  148.72625732421875\n",
            "Epoch:  128 loss:  3.6152849197387695 test loss:  148.18434143066406\n",
            "Epoch:  129 loss:  3.601433753967285 test loss:  147.64801025390625\n",
            "Epoch:  130 loss:  3.5878069400787354 test loss:  147.11700439453125\n",
            "Epoch:  131 loss:  3.574242115020752 test loss:  146.5914306640625\n",
            "Epoch:  132 loss:  3.5608410835266113 test loss:  146.07110595703125\n",
            "Epoch:  133 loss:  3.5475587844848633 test loss:  145.55599975585938\n",
            "Epoch:  134 loss:  3.534459352493286 test loss:  145.04595947265625\n",
            "Epoch:  135 loss:  3.5214548110961914 test loss:  144.54092407226562\n",
            "Epoch:  136 loss:  3.508618116378784 test loss:  144.0408935546875\n",
            "Epoch:  137 loss:  3.495889663696289 test loss:  143.54559326171875\n",
            "Epoch:  138 loss:  3.4832844734191895 test loss:  143.05514526367188\n",
            "Epoch:  139 loss:  3.4708168506622314 test loss:  142.56932067871094\n",
            "Epoch:  140 loss:  3.4584076404571533 test loss:  142.0882568359375\n",
            "Epoch:  141 loss:  3.4462461471557617 test loss:  141.61158752441406\n",
            "Epoch:  142 loss:  3.434047222137451 test loss:  141.1395721435547\n",
            "Epoch:  143 loss:  3.4221394062042236 test loss:  140.67178344726562\n",
            "Epoch:  144 loss:  3.410200834274292 test loss:  140.20834350585938\n",
            "Epoch:  145 loss:  3.3983893394470215 test loss:  139.74928283691406\n",
            "Epoch:  146 loss:  3.3867831230163574 test loss:  139.2943572998047\n",
            "Epoch:  147 loss:  3.375187635421753 test loss:  138.84365844726562\n",
            "Epoch:  148 loss:  3.363799810409546 test loss:  138.39686584472656\n",
            "Epoch:  149 loss:  3.352398633956909 test loss:  137.9542236328125\n",
            "Epoch:  150 loss:  3.3411965370178223 test loss:  137.5155487060547\n",
            "Epoch:  151 loss:  3.330078125 test loss:  137.0806884765625\n",
            "Epoch:  152 loss:  3.3190131187438965 test loss:  136.64967346191406\n",
            "Epoch:  153 loss:  3.30808162689209 test loss:  136.22242736816406\n",
            "Epoch:  154 loss:  3.2971928119659424 test loss:  135.7989501953125\n",
            "Epoch:  155 loss:  3.286426067352295 test loss:  135.37905883789062\n",
            "Epoch:  156 loss:  3.275707244873047 test loss:  134.96295166015625\n",
            "Epoch:  157 loss:  3.265263080596924 test loss:  134.55035400390625\n",
            "Epoch:  158 loss:  3.2548210620880127 test loss:  134.14114379882812\n",
            "Epoch:  159 loss:  3.2443673610687256 test loss:  133.73553466796875\n",
            "Epoch:  160 loss:  3.234128952026367 test loss:  133.33334350585938\n",
            "Epoch:  161 loss:  3.223978042602539 test loss:  132.93453979492188\n",
            "Epoch:  162 loss:  3.213869571685791 test loss:  132.53904724121094\n",
            "Epoch:  163 loss:  3.2038612365722656 test loss:  132.14669799804688\n",
            "Epoch:  164 loss:  3.193847179412842 test loss:  131.7577667236328\n",
            "Epoch:  165 loss:  3.184032440185547 test loss:  131.37191772460938\n",
            "Epoch:  166 loss:  3.174217700958252 test loss:  130.98924255371094\n",
            "Epoch:  167 loss:  3.1645545959472656 test loss:  130.6096954345703\n",
            "Epoch:  168 loss:  3.154912233352661 test loss:  130.23316955566406\n",
            "Epoch:  169 loss:  3.145359754562378 test loss:  129.8596954345703\n",
            "Epoch:  170 loss:  3.1359708309173584 test loss:  129.48922729492188\n",
            "Epoch:  171 loss:  3.126612901687622 test loss:  129.1216583251953\n",
            "Epoch:  172 loss:  3.1173338890075684 test loss:  128.75692749023438\n",
            "Epoch:  173 loss:  3.1080169677734375 test loss:  128.3951416015625\n",
            "Epoch:  174 loss:  3.09889817237854 test loss:  128.0362091064453\n",
            "Epoch:  175 loss:  3.089846611022949 test loss:  127.68002319335938\n",
            "Epoch:  176 loss:  3.0808420181274414 test loss:  127.32655334472656\n",
            "Epoch:  177 loss:  3.0718674659729004 test loss:  126.97589111328125\n",
            "Epoch:  178 loss:  3.0630414485931396 test loss:  126.62779998779297\n",
            "Epoch:  179 loss:  3.0541954040527344 test loss:  126.282470703125\n",
            "Epoch:  180 loss:  3.0454986095428467 test loss:  125.93966674804688\n",
            "Epoch:  181 loss:  3.0368776321411133 test loss:  125.59947204589844\n",
            "Epoch:  182 loss:  3.0282483100891113 test loss:  125.26183319091797\n",
            "Epoch:  183 loss:  3.01967716217041 test loss:  124.92669677734375\n",
            "Epoch:  184 loss:  3.011230230331421 test loss:  124.59402465820312\n",
            "Epoch:  185 loss:  3.002765655517578 test loss:  124.26385498046875\n",
            "Epoch:  186 loss:  2.9944658279418945 test loss:  123.93617248535156\n",
            "Epoch:  187 loss:  2.98625111579895 test loss:  123.61080932617188\n"
          ],
          "name": "stdout"
        },
        {
          "output_type": "error",
          "ename": "KeyboardInterrupt",
          "evalue": "ignored",
          "traceback": [
            "\u001b[0;31m---------------------------------------------------------------------------\u001b[0m",
            "\u001b[0;31mKeyboardInterrupt\u001b[0m                         Traceback (most recent call last)",
            "\u001b[0;32m<ipython-input-137-2b74ca5ef0a9>\u001b[0m in \u001b[0;36m<module>\u001b[0;34m()\u001b[0m\n\u001b[1;32m     41\u001b[0m     \u001b[0;32mfor\u001b[0m \u001b[0mi\u001b[0m \u001b[0;32min\u001b[0m \u001b[0mrange\u001b[0m\u001b[0;34m(\u001b[0m\u001b[0mbatch_size\u001b[0m\u001b[0;34m)\u001b[0m\u001b[0;34m:\u001b[0m\u001b[0;34m\u001b[0m\u001b[0;34m\u001b[0m\u001b[0m\n\u001b[1;32m     42\u001b[0m       \u001b[0mdata\u001b[0m \u001b[0;34m=\u001b[0m \u001b[0mtest_data_batch\u001b[0m\u001b[0;34m[\u001b[0m\u001b[0mi\u001b[0m\u001b[0;34m]\u001b[0m\u001b[0;34m\u001b[0m\u001b[0;34m\u001b[0m\u001b[0m\n\u001b[0;32m---> 43\u001b[0;31m       \u001b[0mlog_lik\u001b[0m \u001b[0;34m=\u001b[0m \u001b[0mlocal_model\u001b[0m\u001b[0;34m(\u001b[0m\u001b[0mdata\u001b[0m\u001b[0;34m,\u001b[0m \u001b[0mlocal_hidden\u001b[0m\u001b[0;34m,\u001b[0m \u001b[0mfixed_effects\u001b[0m\u001b[0;34m,\u001b[0m \u001b[0mgaussian_likelihood\u001b[0m \u001b[0;34m=\u001b[0m \u001b[0;32mTrue\u001b[0m\u001b[0;34m)\u001b[0m\u001b[0;34m\u001b[0m\u001b[0;34m\u001b[0m\u001b[0m\n\u001b[0m\u001b[1;32m     44\u001b[0m       \u001b[0mneg_test_batch_loss\u001b[0m \u001b[0;34m+=\u001b[0m \u001b[0mlog_lik\u001b[0m\u001b[0;34m\u001b[0m\u001b[0;34m\u001b[0m\u001b[0m\n\u001b[1;32m     45\u001b[0m \u001b[0;34m\u001b[0m\u001b[0m\n",
            "\u001b[0;32m/usr/local/lib/python3.6/dist-packages/torch/nn/modules/module.py\u001b[0m in \u001b[0;36m__call__\u001b[0;34m(self, *input, **kwargs)\u001b[0m\n\u001b[1;32m    491\u001b[0m             \u001b[0mresult\u001b[0m \u001b[0;34m=\u001b[0m \u001b[0mself\u001b[0m\u001b[0;34m.\u001b[0m\u001b[0m_slow_forward\u001b[0m\u001b[0;34m(\u001b[0m\u001b[0;34m*\u001b[0m\u001b[0minput\u001b[0m\u001b[0;34m,\u001b[0m \u001b[0;34m**\u001b[0m\u001b[0mkwargs\u001b[0m\u001b[0;34m)\u001b[0m\u001b[0;34m\u001b[0m\u001b[0;34m\u001b[0m\u001b[0m\n\u001b[1;32m    492\u001b[0m         \u001b[0;32melse\u001b[0m\u001b[0;34m:\u001b[0m\u001b[0;34m\u001b[0m\u001b[0;34m\u001b[0m\u001b[0m\n\u001b[0;32m--> 493\u001b[0;31m             \u001b[0mresult\u001b[0m \u001b[0;34m=\u001b[0m \u001b[0mself\u001b[0m\u001b[0;34m.\u001b[0m\u001b[0mforward\u001b[0m\u001b[0;34m(\u001b[0m\u001b[0;34m*\u001b[0m\u001b[0minput\u001b[0m\u001b[0;34m,\u001b[0m \u001b[0;34m**\u001b[0m\u001b[0mkwargs\u001b[0m\u001b[0;34m)\u001b[0m\u001b[0;34m\u001b[0m\u001b[0;34m\u001b[0m\u001b[0m\n\u001b[0m\u001b[1;32m    494\u001b[0m         \u001b[0;32mfor\u001b[0m \u001b[0mhook\u001b[0m \u001b[0;32min\u001b[0m \u001b[0mself\u001b[0m\u001b[0;34m.\u001b[0m\u001b[0m_forward_hooks\u001b[0m\u001b[0;34m.\u001b[0m\u001b[0mvalues\u001b[0m\u001b[0;34m(\u001b[0m\u001b[0;34m)\u001b[0m\u001b[0;34m:\u001b[0m\u001b[0;34m\u001b[0m\u001b[0;34m\u001b[0m\u001b[0m\n\u001b[1;32m    495\u001b[0m             \u001b[0mhook_result\u001b[0m \u001b[0;34m=\u001b[0m \u001b[0mhook\u001b[0m\u001b[0;34m(\u001b[0m\u001b[0mself\u001b[0m\u001b[0;34m,\u001b[0m \u001b[0minput\u001b[0m\u001b[0;34m,\u001b[0m \u001b[0mresult\u001b[0m\u001b[0;34m)\u001b[0m\u001b[0;34m\u001b[0m\u001b[0;34m\u001b[0m\u001b[0m\n",
            "\u001b[0;32m<ipython-input-134-5181c4a207aa>\u001b[0m in \u001b[0;36mforward\u001b[0;34m(self, input_data, hidden, fixed_effects, gaussian_likelihood)\u001b[0m\n\u001b[1;32m     25\u001b[0m \u001b[0;34m\u001b[0m\u001b[0m\n\u001b[1;32m     26\u001b[0m     \u001b[0;32mif\u001b[0m \u001b[0mgaussian_likelihood\u001b[0m \u001b[0;34m==\u001b[0m \u001b[0;32mTrue\u001b[0m\u001b[0;34m:\u001b[0m\u001b[0;34m\u001b[0m\u001b[0;34m\u001b[0m\u001b[0m\n\u001b[0;32m---> 27\u001b[0;31m       \u001b[0mlog_lik\u001b[0m \u001b[0;34m=\u001b[0m \u001b[0mself\u001b[0m\u001b[0;34m.\u001b[0m\u001b[0mlog_likelihood_Gaussian\u001b[0m\u001b[0;34m(\u001b[0m\u001b[0mz\u001b[0m\u001b[0;34m,\u001b[0m \u001b[0mfixed_effects\u001b[0m\u001b[0;34m,\u001b[0m \u001b[0msigma\u001b[0m\u001b[0;34m)\u001b[0m\u001b[0;34m\u001b[0m\u001b[0;34m\u001b[0m\u001b[0m\n\u001b[0m\u001b[1;32m     28\u001b[0m \u001b[0;34m\u001b[0m\u001b[0m\n\u001b[1;32m     29\u001b[0m     \u001b[0;32melse\u001b[0m\u001b[0;34m:\u001b[0m\u001b[0;34m\u001b[0m\u001b[0;34m\u001b[0m\u001b[0m\n",
            "\u001b[0;32m<ipython-input-134-5181c4a207aa>\u001b[0m in \u001b[0;36mlog_likelihood_Gaussian\u001b[0;34m(self, z, f, sigma)\u001b[0m\n\u001b[1;32m     35\u001b[0m     \u001b[0mlog_p\u001b[0m \u001b[0;34m=\u001b[0m \u001b[0mtorch\u001b[0m\u001b[0;34m.\u001b[0m\u001b[0mzeros\u001b[0m\u001b[0;34m(\u001b[0m\u001b[0mlen\u001b[0m\u001b[0;34m(\u001b[0m\u001b[0mz\u001b[0m\u001b[0;34m)\u001b[0m\u001b[0;34m)\u001b[0m\u001b[0;34m\u001b[0m\u001b[0;34m\u001b[0m\u001b[0m\n\u001b[1;32m     36\u001b[0m     \u001b[0;32mfor\u001b[0m \u001b[0mi\u001b[0m \u001b[0;32min\u001b[0m \u001b[0mrange\u001b[0m\u001b[0;34m(\u001b[0m\u001b[0mlen\u001b[0m\u001b[0;34m(\u001b[0m\u001b[0mz\u001b[0m\u001b[0;34m)\u001b[0m\u001b[0;34m)\u001b[0m\u001b[0;34m:\u001b[0m\u001b[0;34m\u001b[0m\u001b[0;34m\u001b[0m\u001b[0m\n\u001b[0;32m---> 37\u001b[0;31m       \u001b[0mlog_pdf\u001b[0m \u001b[0;34m=\u001b[0m \u001b[0mtorch\u001b[0m\u001b[0;34m.\u001b[0m\u001b[0mdistributions\u001b[0m\u001b[0;34m.\u001b[0m\u001b[0mnormal\u001b[0m\u001b[0;34m.\u001b[0m\u001b[0mNormal\u001b[0m\u001b[0;34m(\u001b[0m\u001b[0;36m0\u001b[0m\u001b[0;34m,\u001b[0m \u001b[0msigma\u001b[0m\u001b[0;34m[\u001b[0m\u001b[0mi\u001b[0m\u001b[0;34m]\u001b[0m\u001b[0;34m)\u001b[0m\u001b[0;34m.\u001b[0m\u001b[0mlog_prob\u001b[0m\u001b[0;34m(\u001b[0m\u001b[0mz\u001b[0m\u001b[0;34m[\u001b[0m\u001b[0mi\u001b[0m\u001b[0;34m]\u001b[0m \u001b[0;34m-\u001b[0m \u001b[0mf\u001b[0m\u001b[0;34m[\u001b[0m\u001b[0mi\u001b[0m\u001b[0;34m]\u001b[0m\u001b[0;34m)\u001b[0m\u001b[0;34m\u001b[0m\u001b[0;34m\u001b[0m\u001b[0m\n\u001b[0m\u001b[1;32m     38\u001b[0m       \u001b[0;31m#scale the likelihood to 0-1\u001b[0m\u001b[0;34m\u001b[0m\u001b[0;34m\u001b[0m\u001b[0;34m\u001b[0m\u001b[0m\n\u001b[1;32m     39\u001b[0m       \u001b[0mlog_norm_constant\u001b[0m \u001b[0;34m=\u001b[0m \u001b[0mtorch\u001b[0m\u001b[0;34m.\u001b[0m\u001b[0mdistributions\u001b[0m\u001b[0;34m.\u001b[0m\u001b[0mnormal\u001b[0m\u001b[0;34m.\u001b[0m\u001b[0mNormal\u001b[0m\u001b[0;34m(\u001b[0m\u001b[0;36m0\u001b[0m\u001b[0;34m,\u001b[0m \u001b[0msigma\u001b[0m\u001b[0;34m[\u001b[0m\u001b[0mi\u001b[0m\u001b[0;34m]\u001b[0m\u001b[0;34m)\u001b[0m\u001b[0;34m.\u001b[0m\u001b[0mlog_prob\u001b[0m\u001b[0;34m(\u001b[0m\u001b[0;36m0\u001b[0m\u001b[0;34m)\u001b[0m\u001b[0;34m\u001b[0m\u001b[0;34m\u001b[0m\u001b[0m\n",
            "\u001b[0;32m/usr/local/lib/python3.6/dist-packages/torch/distributions/normal.py\u001b[0m in \u001b[0;36m__init__\u001b[0;34m(self, loc, scale, validate_args)\u001b[0m\n\u001b[1;32m     42\u001b[0m \u001b[0;34m\u001b[0m\u001b[0m\n\u001b[1;32m     43\u001b[0m     \u001b[0;32mdef\u001b[0m \u001b[0m__init__\u001b[0m\u001b[0;34m(\u001b[0m\u001b[0mself\u001b[0m\u001b[0;34m,\u001b[0m \u001b[0mloc\u001b[0m\u001b[0;34m,\u001b[0m \u001b[0mscale\u001b[0m\u001b[0;34m,\u001b[0m \u001b[0mvalidate_args\u001b[0m\u001b[0;34m=\u001b[0m\u001b[0;32mNone\u001b[0m\u001b[0;34m)\u001b[0m\u001b[0;34m:\u001b[0m\u001b[0;34m\u001b[0m\u001b[0;34m\u001b[0m\u001b[0m\n\u001b[0;32m---> 44\u001b[0;31m         \u001b[0mself\u001b[0m\u001b[0;34m.\u001b[0m\u001b[0mloc\u001b[0m\u001b[0;34m,\u001b[0m \u001b[0mself\u001b[0m\u001b[0;34m.\u001b[0m\u001b[0mscale\u001b[0m \u001b[0;34m=\u001b[0m \u001b[0mbroadcast_all\u001b[0m\u001b[0;34m(\u001b[0m\u001b[0mloc\u001b[0m\u001b[0;34m,\u001b[0m \u001b[0mscale\u001b[0m\u001b[0;34m)\u001b[0m\u001b[0;34m\u001b[0m\u001b[0;34m\u001b[0m\u001b[0m\n\u001b[0m\u001b[1;32m     45\u001b[0m         \u001b[0;32mif\u001b[0m \u001b[0misinstance\u001b[0m\u001b[0;34m(\u001b[0m\u001b[0mloc\u001b[0m\u001b[0;34m,\u001b[0m \u001b[0mNumber\u001b[0m\u001b[0;34m)\u001b[0m \u001b[0;32mand\u001b[0m \u001b[0misinstance\u001b[0m\u001b[0;34m(\u001b[0m\u001b[0mscale\u001b[0m\u001b[0;34m,\u001b[0m \u001b[0mNumber\u001b[0m\u001b[0;34m)\u001b[0m\u001b[0;34m:\u001b[0m\u001b[0;34m\u001b[0m\u001b[0;34m\u001b[0m\u001b[0m\n\u001b[1;32m     46\u001b[0m             \u001b[0mbatch_shape\u001b[0m \u001b[0;34m=\u001b[0m \u001b[0mtorch\u001b[0m\u001b[0;34m.\u001b[0m\u001b[0mSize\u001b[0m\u001b[0;34m(\u001b[0m\u001b[0;34m)\u001b[0m\u001b[0;34m\u001b[0m\u001b[0;34m\u001b[0m\u001b[0m\n",
            "\u001b[0;32m/usr/local/lib/python3.6/dist-packages/torch/distributions/utils.py\u001b[0m in \u001b[0;36mbroadcast_all\u001b[0;34m(*values)\u001b[0m\n\u001b[1;32m     26\u001b[0m             \u001b[0;31m`\u001b[0m\u001b[0mtorch\u001b[0m\u001b[0;34m.\u001b[0m\u001b[0;34m*\u001b[0m\u001b[0mTensor\u001b[0m\u001b[0;31m`\u001b[0m \u001b[0minstance\u001b[0m\u001b[0;34m\u001b[0m\u001b[0;34m\u001b[0m\u001b[0m\n\u001b[1;32m     27\u001b[0m     \"\"\"\n\u001b[0;32m---> 28\u001b[0;31m     \u001b[0;32mif\u001b[0m \u001b[0;32mnot\u001b[0m \u001b[0mall\u001b[0m\u001b[0;34m(\u001b[0m\u001b[0mtorch\u001b[0m\u001b[0;34m.\u001b[0m\u001b[0mis_tensor\u001b[0m\u001b[0;34m(\u001b[0m\u001b[0mv\u001b[0m\u001b[0;34m)\u001b[0m \u001b[0;32mor\u001b[0m \u001b[0misinstance\u001b[0m\u001b[0;34m(\u001b[0m\u001b[0mv\u001b[0m\u001b[0;34m,\u001b[0m \u001b[0mNumber\u001b[0m\u001b[0;34m)\u001b[0m \u001b[0;32mfor\u001b[0m \u001b[0mv\u001b[0m \u001b[0;32min\u001b[0m \u001b[0mvalues\u001b[0m\u001b[0;34m)\u001b[0m\u001b[0;34m:\u001b[0m\u001b[0;34m\u001b[0m\u001b[0;34m\u001b[0m\u001b[0m\n\u001b[0m\u001b[1;32m     29\u001b[0m         \u001b[0;32mraise\u001b[0m \u001b[0mValueError\u001b[0m\u001b[0;34m(\u001b[0m\u001b[0;34m'Input arguments must all be instances of numbers.Number or torch.tensor.'\u001b[0m\u001b[0;34m)\u001b[0m\u001b[0;34m\u001b[0m\u001b[0;34m\u001b[0m\u001b[0m\n\u001b[1;32m     30\u001b[0m     \u001b[0;32mif\u001b[0m \u001b[0;32mnot\u001b[0m \u001b[0mall\u001b[0m\u001b[0;34m(\u001b[0m\u001b[0mmap\u001b[0m\u001b[0;34m(\u001b[0m\u001b[0mtorch\u001b[0m\u001b[0;34m.\u001b[0m\u001b[0mis_tensor\u001b[0m\u001b[0;34m,\u001b[0m \u001b[0mvalues\u001b[0m\u001b[0;34m)\u001b[0m\u001b[0;34m)\u001b[0m\u001b[0;34m:\u001b[0m\u001b[0;34m\u001b[0m\u001b[0;34m\u001b[0m\u001b[0m\n",
            "\u001b[0;32m/usr/local/lib/python3.6/dist-packages/torch/distributions/utils.py\u001b[0m in \u001b[0;36m<genexpr>\u001b[0;34m(.0)\u001b[0m\n\u001b[1;32m     26\u001b[0m             \u001b[0;31m`\u001b[0m\u001b[0mtorch\u001b[0m\u001b[0;34m.\u001b[0m\u001b[0;34m*\u001b[0m\u001b[0mTensor\u001b[0m\u001b[0;31m`\u001b[0m \u001b[0minstance\u001b[0m\u001b[0;34m\u001b[0m\u001b[0;34m\u001b[0m\u001b[0m\n\u001b[1;32m     27\u001b[0m     \"\"\"\n\u001b[0;32m---> 28\u001b[0;31m     \u001b[0;32mif\u001b[0m \u001b[0;32mnot\u001b[0m \u001b[0mall\u001b[0m\u001b[0;34m(\u001b[0m\u001b[0mtorch\u001b[0m\u001b[0;34m.\u001b[0m\u001b[0mis_tensor\u001b[0m\u001b[0;34m(\u001b[0m\u001b[0mv\u001b[0m\u001b[0;34m)\u001b[0m \u001b[0;32mor\u001b[0m \u001b[0misinstance\u001b[0m\u001b[0;34m(\u001b[0m\u001b[0mv\u001b[0m\u001b[0;34m,\u001b[0m \u001b[0mNumber\u001b[0m\u001b[0;34m)\u001b[0m \u001b[0;32mfor\u001b[0m \u001b[0mv\u001b[0m \u001b[0;32min\u001b[0m \u001b[0mvalues\u001b[0m\u001b[0;34m)\u001b[0m\u001b[0;34m:\u001b[0m\u001b[0;34m\u001b[0m\u001b[0;34m\u001b[0m\u001b[0m\n\u001b[0m\u001b[1;32m     29\u001b[0m         \u001b[0;32mraise\u001b[0m \u001b[0mValueError\u001b[0m\u001b[0;34m(\u001b[0m\u001b[0;34m'Input arguments must all be instances of numbers.Number or torch.tensor.'\u001b[0m\u001b[0;34m)\u001b[0m\u001b[0;34m\u001b[0m\u001b[0;34m\u001b[0m\u001b[0m\n\u001b[1;32m     30\u001b[0m     \u001b[0;32mif\u001b[0m \u001b[0;32mnot\u001b[0m \u001b[0mall\u001b[0m\u001b[0;34m(\u001b[0m\u001b[0mmap\u001b[0m\u001b[0;34m(\u001b[0m\u001b[0mtorch\u001b[0m\u001b[0;34m.\u001b[0m\u001b[0mis_tensor\u001b[0m\u001b[0;34m,\u001b[0m \u001b[0mvalues\u001b[0m\u001b[0;34m)\u001b[0m\u001b[0;34m)\u001b[0m\u001b[0;34m:\u001b[0m\u001b[0;34m\u001b[0m\u001b[0;34m\u001b[0m\u001b[0m\n",
            "\u001b[0;32m/usr/local/lib/python3.6/dist-packages/torch/__init__.py\u001b[0m in \u001b[0;36mis_tensor\u001b[0;34m(obj)\u001b[0m\n\u001b[1;32m    118\u001b[0m         \u001b[0mobj\u001b[0m \u001b[0;34m(\u001b[0m\u001b[0mObject\u001b[0m\u001b[0;34m)\u001b[0m\u001b[0;34m:\u001b[0m \u001b[0mObject\u001b[0m \u001b[0mto\u001b[0m \u001b[0mtest\u001b[0m\u001b[0;34m\u001b[0m\u001b[0;34m\u001b[0m\u001b[0m\n\u001b[1;32m    119\u001b[0m     \"\"\"\n\u001b[0;32m--> 120\u001b[0;31m     \u001b[0;32mreturn\u001b[0m \u001b[0misinstance\u001b[0m\u001b[0;34m(\u001b[0m\u001b[0mobj\u001b[0m\u001b[0;34m,\u001b[0m \u001b[0mtorch\u001b[0m\u001b[0;34m.\u001b[0m\u001b[0mTensor\u001b[0m\u001b[0;34m)\u001b[0m\u001b[0;34m\u001b[0m\u001b[0;34m\u001b[0m\u001b[0m\n\u001b[0m\u001b[1;32m    121\u001b[0m \u001b[0;34m\u001b[0m\u001b[0m\n\u001b[1;32m    122\u001b[0m \u001b[0;34m\u001b[0m\u001b[0m\n",
            "\u001b[0;31mKeyboardInterrupt\u001b[0m: "
          ]
        }
      ]
    },
    {
      "cell_type": "code",
      "metadata": {
        "colab_type": "code",
        "outputId": "9111929b-657e-48eb-e7d2-94a841fbea72",
        "id": "ITTS-hEfXfqA",
        "colab": {
          "base_uri": "https://localhost:8080/",
          "height": 286
        }
      },
      "source": [
        "plt.plot(train_loss[1:])"
      ],
      "execution_count": 138,
      "outputs": [
        {
          "output_type": "execute_result",
          "data": {
            "text/plain": [
              "[<matplotlib.lines.Line2D at 0x7ff56e012978>]"
            ]
          },
          "metadata": {
            "tags": []
          },
          "execution_count": 138
        },
        {
          "output_type": "display_data",
          "data": {
            "image/png": "[encoded data removed]",
            "text/plain": [
              "<Figure size 432x288 with 1 Axes>"
            ]
          },
          "metadata": {
            "tags": []
          }
        }
      ]
    },
    {
      "cell_type": "code",
      "metadata": {
        "id": "zBiAyg9zksxO",
        "colab_type": "code",
        "colab": {
          "base_uri": "https://localhost:8080/",
          "height": 286
        },
        "outputId": "bcf5edba-4649-43ec-c2a1-6ac81b26cea8"
      },
      "source": [
        "plt.plot(test_loss)"
      ],
      "execution_count": 139,
      "outputs": [
        {
          "output_type": "execute_result",
          "data": {
            "text/plain": [
              "[<matplotlib.lines.Line2D at 0x7ff56df732b0>]"
            ]
          },
          "metadata": {
            "tags": []
          },
          "execution_count": 139
        },
        {
          "output_type": "display_data",
          "data": {
            "image/png": "[encoded data removed]",
            "text/plain": [
              "<Figure size 432x288 with 1 Axes>"
            ]
          },
          "metadata": {
            "tags": []
          }
        }
      ]
    }
  ]
}