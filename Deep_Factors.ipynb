{
  "nbformat": 4,
  "nbformat_minor": 0,
  "metadata": {
    "colab": {
      "name": "Deep_Factors.ipynb",
      "version": "0.3.2",
      "provenance": [],
      "collapsed_sections": [],
      "include_colab_link": true
    },
    "kernelspec": {
      "name": "python3",
      "display_name": "Python 3"
    }
  },
  "cells": [
    {
      "cell_type": "markdown",
      "metadata": {
        "id": "view-in-github",
        "colab_type": "text"
      },
      "source": [
        "<a href=\"https://colab.research.google.com/github/emilyj19/TS/blob/master/Deep_Factors.ipynb\" target=\"_parent\"><img src=\"https://colab.research.google.com/assets/colab-badge.svg\" alt=\"Open In Colab\"/></a>"
      ]
    },
    {
      "cell_type": "code",
      "metadata": {
        "id": "UxHpi6CjWlg8",
        "colab_type": "code",
        "colab": {
          "base_uri": "https://localhost:8080/",
          "height": 51
        },
        "outputId": "c5b5ea94-2baa-4359-bd28-4061fc7c367a"
      },
      "source": [
        "pip install torch"
      ],
      "execution_count": 1,
      "outputs": [
        {
          "output_type": "stream",
          "text": [
            "Requirement already satisfied: torch in /usr/local/lib/python3.6/dist-packages (1.1.0)\n",
            "Requirement already satisfied: numpy in /usr/local/lib/python3.6/dist-packages (from torch) (1.16.4)\n"
          ],
          "name": "stdout"
        }
      ]
    },
    {
      "cell_type": "code",
      "metadata": {
        "id": "63MFgpVHUb5y",
        "colab_type": "code",
        "colab": {}
      },
      "source": [
        "import numpy as np \n",
        "import tensorflow as tf\n",
        "import matplotlib\n",
        "import matplotlib.pyplot as plt \n",
        "import pandas as pd\n",
        "import torch\n",
        "from torch import nn\n",
        "from torch.utils.data import DataLoader, TensorDataset\n",
        "from torch.autograd import Variable"
      ],
      "execution_count": 0,
      "outputs": []
    },
    {
      "cell_type": "code",
      "metadata": {
        "id": "lB_-DYtEUfH2",
        "colab_type": "code",
        "colab": {
          "base_uri": "https://localhost:8080/",
          "height": 122
        },
        "outputId": "a27dd762-77f9-42ee-848c-41f7a170e422"
      },
      "source": [
        "from google.colab import drive\n",
        "drive.mount('/content/gdrive')"
      ],
      "execution_count": 3,
      "outputs": [
        {
          "output_type": "stream",
          "text": [
            "Go to this URL in a browser: https://accounts.google.com/o/oauth2/auth?client_id=947318989803-6bn6qk8qdgf4n4g3pfee6491hc0brc4i.apps.googleusercontent.com&redirect_uri=urn%3Aietf%3Awg%3Aoauth%3A2.0%3Aoob&scope=email%20https%3A%2F%2Fwww.googleapis.com%2Fauth%2Fdocs.test%20https%3A%2F%2Fwww.googleapis.com%2Fauth%2Fdrive%20https%3A%2F%2Fwww.googleapis.com%2Fauth%2Fdrive.photos.readonly%20https%3A%2F%2Fwww.googleapis.com%2Fauth%2Fpeopleapi.readonly&response_type=code\n",
            "\n",
            "Enter your authorization code:\n",
            "··········\n",
            "Mounted at /content/gdrive\n"
          ],
          "name": "stdout"
        }
      ]
    },
    {
      "cell_type": "code",
      "metadata": {
        "id": "hbAw0rtMUhZf",
        "colab_type": "code",
        "colab": {
          "base_uri": "https://localhost:8080/",
          "height": 34
        },
        "outputId": "a46857af-9666-4fcd-a30e-c9cf0ea35f11"
      },
      "source": [
        "root_path = 'gdrive/My Drive/FinancialTS/JPmarket_dataset.npz' \n",
        "data = np.load(root_path)\n",
        "data.files"
      ],
      "execution_count": 4,
      "outputs": [
        {
          "output_type": "execute_result",
          "data": {
            "text/plain": [
              "['train_ratios', 'test_ratios', 'train_volumes', 'test_volumes']"
            ]
          },
          "metadata": {
            "tags": []
          },
          "execution_count": 4
        }
      ]
    },
    {
      "cell_type": "code",
      "metadata": {
        "id": "MzIcj78GVk8L",
        "colab_type": "code",
        "colab": {}
      },
      "source": [
        "train_ratios = data['train_ratios']\n",
        "test_ratios = data['test_ratios']\n",
        "train_vols = data['train_volumes']\n",
        "test_vols = data['test_volumes']"
      ],
      "execution_count": 0,
      "outputs": []
    },
    {
      "cell_type": "code",
      "metadata": {
        "id": "Dyk_YlK6VrE3",
        "colab_type": "code",
        "colab": {}
      },
      "source": [
        "av_vols = np.mean(train_vols[3], axis = 0)"
      ],
      "execution_count": 0,
      "outputs": []
    },
    {
      "cell_type": "code",
      "metadata": {
        "id": "4DKkWxWhOkne",
        "colab_type": "code",
        "colab": {
          "base_uri": "https://localhost:8080/",
          "height": 286
        },
        "outputId": "363e69dd-2638-48fe-8fa6-41821d37cb31"
      },
      "source": [
        "plt.plot(av_vols)"
      ],
      "execution_count": 11,
      "outputs": [
        {
          "output_type": "execute_result",
          "data": {
            "text/plain": [
              "[<matplotlib.lines.Line2D at 0x7efc69682400>]"
            ]
          },
          "metadata": {
            "tags": []
          },
          "execution_count": 11
        },
        {
          "output_type": "display_data",
          "data": {
            "image/png": "[encoded data removed]",
            "text/plain": [
              "<Figure size 432x288 with 1 Axes>"
            ]
          },
          "metadata": {
            "tags": []
          }
        }
      ]
    },
    {
      "cell_type": "code",
      "metadata": {
        "id": "mC2J6fvWqn8A",
        "colab_type": "code",
        "colab": {}
      },
      "source": [
        "#create covariates - currently one hot vector 64 dims but experiment with different ideas \n",
        "def create_covariate_data(input_data, freq = 64): #this is assuming that data starts at beginning of day and ends at last bin of the day \n",
        "  num_series, len_series = input_data.shape\n",
        "  days = int(len_series/freq)\n",
        "  covariate_vectors = np.zeros((num_series, len_series, freq+1))\n",
        "  \n",
        "  for n in range(num_series):\n",
        "    for d in range(days): \n",
        "      for t in range(freq): \n",
        "        one_hot = np.zeros(freq)\n",
        "        one_hot[t] = 1\n",
        "        covariate_vectors[n, d*freq + t, 0] = input_data[n, d*freq + t]\n",
        "        covariate_vectors[n, d*freq + t, 1:] = one_hot\n",
        "        \n",
        "  return covariate_vectors"
      ],
      "execution_count": 0,
      "outputs": []
    },
    {
      "cell_type": "code",
      "metadata": {
        "id": "SOQe6RfNOx7H",
        "colab_type": "code",
        "colab": {}
      },
      "source": [
        "#alternative covariate function \n",
        "#inputs - input_data of shape [number of time series, length of each time series], freq of data i.e. number of bins per day, and position of special bins as a vector\n",
        "#returns - data and covariate vector of shape [number of series, length of series, number of special bins + 2] where covariate_vectors[:,:,0] is the input data, \n",
        "#covariate_vectors[:,:,1] is the scaled time of day and covariate_vectors[:,:,2:] is the one hot vector for the special bins\n",
        "#therefore covariate_vectors[:,:,0] is the data and covariate_vectors[:,:,1:] is the actual covariate vector \n",
        "\n",
        "def new_create_covariate_data(input_data, freq, pos_of_special_bins): \n",
        "  num_series, len_series = input_data.shape\n",
        "  days = int(len_series/freq)\n",
        "  num_special_bins = len(pos_of_special_bins)\n",
        "  covariate_vectors = np.zeros((num_series, len_series, num_special_bins+2))\n",
        "  \n",
        "  for n in range(num_series): \n",
        "    for d in range(days): \n",
        "      for t in range(freq): \n",
        "        x = np.zeros(num_special_bins + 1)\n",
        "        #x[0] is the scaled time of day \n",
        "        x[0] = t/freq\n",
        "        \n",
        "        check = t in pos_of_special_bins\n",
        "        \n",
        "        if check == True: \n",
        "          index = pos_of_special_bins.index(t)\n",
        "          x[index+1] = 1\n",
        "          \n",
        "        covariate_vectors[n, d*freq + t, 0] = input_data[n, d*freq + t]\n",
        "        covariate_vectors[n, d*freq + t, 1:] = x\n",
        "        \n",
        "  return covariate_vectors\n",
        "        "
      ],
      "execution_count": 0,
      "outputs": []
    },
    {
      "cell_type": "code",
      "metadata": {
        "id": "VMl5hXU41NDr",
        "colab_type": "code",
        "colab": {}
      },
      "source": [
        "train_volume = train_vols[0:50].reshape((50,-1))\n",
        "\n",
        "norm_train_vols = np.zeros(train_volume.shape)\n",
        "for i in range(50): \n",
        "  norm_train_vols[i] = train_volume[i]/np.amax(train_vols[i])\n",
        "  \n",
        "T = 64*3\n",
        "new_train_data = norm_train_vols[:,:T]\n",
        "\n",
        "covars_data = new_create_covariate_data(new_train_data, 64, [0,31,32,63])\n",
        "\n",
        "covars_data = torch.FloatTensor(covars_data)"
      ],
      "execution_count": 0,
      "outputs": []
    },
    {
      "cell_type": "code",
      "metadata": {
        "id": "Q1O5qrgbY_f-",
        "colab_type": "code",
        "colab": {}
      },
      "source": [
        "test_volume = train_vols[50:100].reshape((50,-1))\n",
        "\n",
        "norm_test_vols = np.zeros(test_volume.shape)\n",
        "for i in range(50): \n",
        "  norm_test_vols[i] = test_volume[i]/np.amax(train_vols[i])\n",
        "  \n",
        "T = 64*3\n",
        "new_test_data = norm_test_vols[:,:T]\n",
        "\n",
        "covars_test_data = new_create_covariate_data(new_test_data, 64, [0,31,32,63])\n",
        "\n",
        "covars_test_data = torch.FloatTensor(covars_test_data)"
      ],
      "execution_count": 0,
      "outputs": []
    },
    {
      "cell_type": "code",
      "metadata": {
        "id": "kKdgN_J2QQq8",
        "colab_type": "code",
        "colab": {}
      },
      "source": [
        "#class for the global model \n",
        "#forward pass - input data of shape []\n",
        "#forward pass outputs fixed effects of shape []\n",
        "\n",
        "class GlobalEffects(nn.Module): \n",
        "  def __init__(self, input_size, num_factors, hidden_size, batch_size, output_size = 1, num_layers = 1): \n",
        "    super().__init__()\n",
        "    self.input_size = input_size\n",
        "    self.num_factors = num_factors\n",
        "    self.hidden_size = hidden_size\n",
        "    self.batch_size = batch_size\n",
        "    self.output_size = output_size\n",
        "    self.num_layers = num_layers\n",
        "    \n",
        "    self.linears = nn.ModuleList([nn.Linear(self.hidden_size, self.output_size, bias = False) for i in range(self.num_factors)])\n",
        "    self.lstms = nn.ModuleList([nn.LSTM(input_size = self.input_size, hidden_size = self.hidden_size, num_layers = self.num_layers) for i in range(self.num_factors)])\n",
        "    \n",
        "    self.w = torch.nn.Parameter(torch.zeros(batch_size, num_factors))\n",
        "    \n",
        "  def init_hidden(self): \n",
        "    hidden = [torch.zeros(self.num_layers, self.batch_size, self.hidden_size) for i in range(self.num_factors)]\n",
        "    return hidden\n",
        "    \n",
        "  def forward(self, input_data, hidden): \n",
        "    x = input_data[:,:,1:]\n",
        "    for i in range(self.num_factors): \n",
        "      lstm_out, hidden[i] = self.lstms[i](x.view(x.shape[1], self.batch_size, -1))\n",
        "      g_i = self.linears[i](lstm_out).view(1, self.batch_size, -1) #shape of g_i = [1, batch_size, seq_len]\n",
        "      \n",
        "      if i == 0: \n",
        "        g = g_i\n",
        "      else:\n",
        "        g = torch.cat((g,g_i), dim=0)\n",
        "\n",
        "    fixed_effects = torch.zeros((self.batch_size, g.shape[2]))\n",
        "    \n",
        "    for i in range(self.batch_size): \n",
        "      for j in range(g.shape[2]): \n",
        "        fixed_effects[i,j] = torch.dot(self.w[i], g[:,i,j])\n",
        "      \n",
        "    return fixed_effects\n",
        "     \n",
        "      "
      ],
      "execution_count": 0,
      "outputs": []
    },
    {
      "cell_type": "code",
      "metadata": {
        "id": "z2ZvLZ9aUqw0",
        "colab_type": "code",
        "colab": {}
      },
      "source": [
        "#class for the DF-RNN local model \n",
        "#forward pass inputs: fixed effects output from global model, input data of shape [] and whether or not to assume a gaussian likelihood \n",
        "#forward pass outputs log likelihood for the given data\n",
        "\n",
        "class DF_RNN(nn.Module): \n",
        "  def __init__(self, input_size, hidden_size, batch_size, num_series, output_size):\n",
        "    super().__init__()\n",
        "    self.input_size = input_size\n",
        "    self.hidden_size = hidden_size\n",
        "    self.batch_size = batch_size\n",
        "    self.output_size = output_size\n",
        "    self.num_series = num_series\n",
        "    \n",
        "    self.rnns = nn.ModuleList([nn.RNN(input_size = self.input_size, hidden_size = self.hidden_size, num_layers = 1) for i in range(self.num_series)])\n",
        "    self.linears = nn.ModuleList([nn.Linear(self.hidden_size, self.output_size) for i in range(self.num_series)])\n",
        "    \n",
        "  def init_hidden(self): \n",
        "    hidden = [torch.zeros(1, self.batch_size, self.hidden_size) for i in range(self.num_series)]\n",
        "    return hidden\n",
        "    \n",
        "  def forward(self, input_data, hidden, fixed_effects, gaussian_likelihood): \n",
        "    z = input_data[:,:,0]\n",
        "    x = input_data[:,:,1:]\n",
        "    \n",
        "    sigma = torch.zeros((self.num_series, x.shape[1]))\n",
        "    r = torch.zeros(sigma.shape)\n",
        "    \n",
        "    #log_lik = torch.zeros(self.num_series)\n",
        "    \n",
        "    for i in range(self.num_series): \n",
        "      data = x[i]\n",
        "      rnn_out, hidden[i] = self.rnns[i](data.view(data.shape[0], self.batch_size, -1))\n",
        "      sig = self.linears[i](rnn_out).view(-1)\n",
        "      \n",
        "      sigma[i] = torch.abs(sig)\n",
        "      \n",
        "      for j in range(sigma.shape[1]):\n",
        "        r[i,j] = torch.distributions.normal.Normal(0, sigma[i,j]).rsample()\n",
        "    \n",
        "    if gaussian_likelihood == True: \n",
        "      log_lik = self.log_likelihood_Gaussian(z, fixed_effects, sigma)\n",
        "\n",
        "    else: \n",
        "      pass\n",
        "\n",
        "      #log_lik[i] = log_likelihood\n",
        "      \n",
        "    u = fixed_effects + r\n",
        "    \n",
        "    return log_lik, sigma\n",
        "   \n",
        "  def log_likelihood_Gaussian(self, z, f, sigma):\n",
        "    log_p = torch.zeros(sigma.shape)\n",
        "    \n",
        "    for i in range(sigma.shape[0]):\n",
        "      for j in range(sigma.shape[1]): \n",
        "        log_pdf = torch.distributions.normal.Normal(0, sigma[i,j]).log_prob(z[i,j] - f[i,j])\n",
        "        #scale the likelihood to 0-1\n",
        "        log_norm_constant = torch.distributions.normal.Normal(0, sigma[i,j]).log_prob(0)\n",
        "        log_p[i,j] = log_pdf - log_norm_constant\n",
        "    \n",
        "    log_lik = torch.sum(log_p)\n",
        "\n",
        "    return log_lik\n",
        "  \n",
        "  \n",
        "  \n",
        "  def log_likelihood_nonGaussian(self, ): #to do \n",
        "    pass"
      ],
      "execution_count": 0,
      "outputs": []
    },
    {
      "cell_type": "code",
      "metadata": {
        "id": "MGd_qELTtqx2",
        "colab_type": "code",
        "colab": {}
      },
      "source": [
        "learning_rate = 0.001\n",
        "batch_size = 50 #??????\n",
        "num_epochs = 200\n",
        "hidden_units_global = 50\n",
        "hidden_units_local = 5\n",
        "n_factors = 10 "
      ],
      "execution_count": 0,
      "outputs": []
    },
    {
      "cell_type": "code",
      "metadata": {
        "id": "KiQ17VDHigR6",
        "colab_type": "code",
        "colab": {
          "base_uri": "https://localhost:8080/",
          "height": 34
        },
        "outputId": "7d31e3b4-bceb-4a4d-f965-5773b8addbe4"
      },
      "source": [
        "torch.autograd.set_detect_anomaly(False)"
      ],
      "execution_count": 208,
      "outputs": [
        {
          "output_type": "execute_result",
          "data": {
            "text/plain": [
              "<torch.autograd.anomaly_mode.set_detect_anomaly at 0x7efc69605b38>"
            ]
          },
          "metadata": {
            "tags": []
          },
          "execution_count": 208
        }
      ]
    },
    {
      "cell_type": "code",
      "metadata": {
        "id": "FnaiB4RyWtVy",
        "colab_type": "code",
        "colab": {}
      },
      "source": [
        "global_model = GlobalEffects(input_size = 5, num_factors = n_factors , hidden_size = hidden_units_global, batch_size= 50)  \n",
        "local_model = DF_RNN(5, hidden_size = hidden_units_local, batch_size = 1, num_series = 50, output_size = 1)"
      ],
      "execution_count": 0,
      "outputs": []
    },
    {
      "cell_type": "code",
      "metadata": {
        "id": "NWZumPtm7ZCX",
        "colab_type": "code",
        "colab": {
          "base_uri": "https://localhost:8080/",
          "height": 1000
        },
        "outputId": "a7ee2fa4-d113-4a82-9836-eadac3cf8d5f"
      },
      "source": [
        "## TRAINING ##\n",
        "\n",
        "optimiser = torch.optim.SGD(list(global_model.parameters()) + list(local_model.parameters()), lr = learning_rate)\n",
        "\n",
        "train_loss = []\n",
        "test_loss = []\n",
        " \n",
        "for t in range(num_epochs): \n",
        "  global_model.zero_grad()\n",
        "  global_hidden = global_model.init_hidden()\n",
        "  \n",
        "  local_model.zero_grad()\n",
        "  local_hidden = local_model.init_hidden()\n",
        "  \n",
        "  data_batch = covars_data\n",
        "  \n",
        "  fixed_effects = global_model(data_batch, global_hidden)\n",
        "\n",
        "  log_lik, sigma = local_model(data_batch, local_hidden, fixed_effects, gaussian_likelihood = True)\n",
        "\n",
        "  batch_loss = -1*log_lik\n",
        "    \n",
        "  optimiser.zero_grad()\n",
        "  \n",
        "  batch_loss.backward()\n",
        "\n",
        "  optimiser.step()\n",
        "  \n",
        "  train_loss.append(batch_loss.item())\n",
        "  \n",
        "  with torch.no_grad():\n",
        "    test_data_batch = covars_test_data\n",
        "    fixed_effects = global_model(test_data_batch, global_hidden)\n",
        "    \n",
        "    data = test_data_batch\n",
        "    log_lik, sigma = local_model(data, local_hidden, fixed_effects, gaussian_likelihood = True)\n",
        "      \n",
        "    test_batch_loss = -1*log_lik\n",
        "      \n",
        "    test_loss.append(test_batch_loss.item())\n",
        "  \n",
        "  print(\"Epoch: \", t, \"loss: \", batch_loss.item(), \"test loss: \", test_batch_loss.item())"
      ],
      "execution_count": 0,
      "outputs": [
        {
          "output_type": "stream",
          "text": [
            "Epoch:  0 loss:  368373.9375 test loss:  6421.89501953125\n",
            "Epoch:  1 loss:  511.3743591308594 test loss:  771.5874633789062\n",
            "Epoch:  2 loss:  16.113447189331055 test loss:  750.0118408203125\n",
            "Epoch:  3 loss:  14.33482551574707 test loss:  737.8549194335938\n",
            "Epoch:  4 loss:  13.268628120422363 test loss:  734.8265991210938\n",
            "Epoch:  5 loss:  12.432352066040039 test loss:  741.7972412109375\n",
            "Epoch:  6 loss:  11.741040229797363 test loss:  761.1307983398438\n",
            "Epoch:  7 loss:  11.155841827392578 test loss:  797.894287109375\n",
            "Epoch:  8 loss:  10.652003288269043 test loss:  862.6184692382812\n",
            "Epoch:  9 loss:  10.212528228759766 test loss:  978.7911376953125\n",
            "Epoch:  10 loss:  9.825209617614746 test loss:  1206.7852783203125\n",
            "Epoch:  11 loss:  9.481022834777832 test loss:  1744.0838623046875\n",
            "Epoch:  12 loss:  9.173032760620117 test loss:  3587.584716796875\n",
            "Epoch:  13 loss:  8.895734786987305 test loss:  21177.689453125\n",
            "Epoch:  14 loss:  8.644830703735352 test loss:  94487.4296875\n",
            "Epoch:  15 loss:  8.435237884521484 test loss:  566.3483276367188\n",
            "Epoch:  16 loss:  8.42359733581543 test loss:  525.77587890625\n",
            "Epoch:  17 loss:  8.054119110107422 test loss:  518.5778198242188\n",
            "Epoch:  18 loss:  7.852956295013428 test loss:  512.8525390625\n",
            "Epoch:  19 loss:  7.673341751098633 test loss:  507.8206787109375\n",
            "Epoch:  20 loss:  7.510156154632568 test loss:  503.20233154296875\n",
            "Epoch:  21 loss:  7.360471725463867 test loss:  498.8708801269531\n",
            "Epoch:  22 loss:  7.222269535064697 test loss:  494.7609558105469\n",
            "Epoch:  23 loss:  7.0940961837768555 test loss:  490.8333740234375\n",
            "Epoch:  24 loss:  6.974669933319092 test loss:  487.06439208984375\n",
            "Epoch:  25 loss:  6.863004207611084 test loss:  483.4382019042969\n",
            "Epoch:  26 loss:  6.758194923400879 test loss:  479.943359375\n",
            "Epoch:  27 loss:  6.659552574157715 test loss:  476.5716857910156\n",
            "Epoch:  28 loss:  6.566478252410889 test loss:  473.31591796875\n",
            "Epoch:  29 loss:  6.478366374969482 test loss:  470.1700439453125\n",
            "Epoch:  30 loss:  6.394743919372559 test loss:  467.1293640136719\n",
            "Epoch:  31 loss:  6.315224647521973 test loss:  464.1874694824219\n",
            "Epoch:  32 loss:  6.239457130432129 test loss:  461.3406677246094\n",
            "Epoch:  33 loss:  6.167089462280273 test loss:  458.58428955078125\n",
            "Epoch:  34 loss:  6.09785270690918 test loss:  455.91363525390625\n",
            "Epoch:  35 loss:  6.03154182434082 test loss:  453.324951171875\n",
            "Epoch:  36 loss:  5.967861175537109 test loss:  450.81414794921875\n",
            "Epoch:  37 loss:  5.906684875488281 test loss:  448.37786865234375\n",
            "Epoch:  38 loss:  5.847749710083008 test loss:  446.0118713378906\n",
            "Epoch:  39 loss:  5.790960311889648 test loss:  443.7132263183594\n",
            "Epoch:  40 loss:  5.7361040115356445 test loss:  441.4785461425781\n",
            "Epoch:  41 loss:  5.683187961578369 test loss:  439.30450439453125\n",
            "Epoch:  42 loss:  5.631964683532715 test loss:  437.18896484375\n",
            "Epoch:  43 loss:  5.582359313964844 test loss:  435.1288757324219\n",
            "Epoch:  44 loss:  5.53427791595459 test loss:  433.12139892578125\n",
            "Epoch:  45 loss:  5.487639427185059 test loss:  431.1645202636719\n",
            "Epoch:  46 loss:  5.442384719848633 test loss:  429.2555847167969\n",
            "Epoch:  47 loss:  5.398469924926758 test loss:  427.3929138183594\n",
            "Epoch:  48 loss:  5.355716705322266 test loss:  425.5741271972656\n",
            "Epoch:  49 loss:  5.314121723175049 test loss:  423.7970275878906\n",
            "Epoch:  50 loss:  5.273629188537598 test loss:  422.06048583984375\n",
            "Epoch:  51 loss:  5.234172821044922 test loss:  420.36279296875\n",
            "Epoch:  52 loss:  5.195725440979004 test loss:  418.7019958496094\n",
            "Epoch:  53 loss:  5.158230781555176 test loss:  417.0767517089844\n",
            "Epoch:  54 loss:  5.121644973754883 test loss:  415.4854736328125\n",
            "Epoch:  55 loss:  5.085878849029541 test loss:  413.9271545410156\n",
            "Epoch:  56 loss:  5.050982475280762 test loss:  412.4002380371094\n",
            "Epoch:  57 loss:  5.016875267028809 test loss:  410.90399169921875\n",
            "Epoch:  58 loss:  4.9835638999938965 test loss:  409.4365234375\n",
            "Epoch:  59 loss:  4.950944423675537 test loss:  407.99761962890625\n",
            "Epoch:  60 loss:  4.9189958572387695 test loss:  406.5858154296875\n",
            "Epoch:  61 loss:  4.88776969909668 test loss:  405.19976806640625\n",
            "Epoch:  62 loss:  4.857180118560791 test loss:  403.83935546875\n",
            "Epoch:  63 loss:  4.827188491821289 test loss:  402.5034484863281\n",
            "Epoch:  64 loss:  4.797857284545898 test loss:  401.1908874511719\n",
            "Epoch:  65 loss:  4.7690205574035645 test loss:  399.9012145996094\n",
            "Epoch:  66 loss:  4.740807056427002 test loss:  398.63336181640625\n",
            "Epoch:  67 loss:  4.7130632400512695 test loss:  397.38726806640625\n",
            "Epoch:  68 loss:  4.685911178588867 test loss:  396.16180419921875\n",
            "Epoch:  69 loss:  4.659191608428955 test loss:  394.956298828125\n",
            "Epoch:  70 loss:  4.63301420211792 test loss:  393.7701721191406\n",
            "Epoch:  71 loss:  4.607264518737793 test loss:  392.60296630859375\n",
            "Epoch:  72 loss:  4.582019805908203 test loss:  391.4539794921875\n",
            "Epoch:  73 loss:  4.5572099685668945 test loss:  390.3227233886719\n",
            "Epoch:  74 loss:  4.532793045043945 test loss:  389.20867919921875\n",
            "Epoch:  75 loss:  4.508817672729492 test loss:  388.1114807128906\n",
            "Epoch:  76 loss:  4.485184669494629 test loss:  387.0303955078125\n",
            "Epoch:  77 loss:  4.461970806121826 test loss:  385.9652099609375\n",
            "Epoch:  78 loss:  4.439191818237305 test loss:  384.9156799316406\n",
            "Epoch:  79 loss:  4.4166998863220215 test loss:  383.8807373046875\n",
            "Epoch:  80 loss:  4.3946003913879395 test loss:  382.86029052734375\n",
            "Epoch:  81 loss:  4.3728790283203125 test loss:  381.854248046875\n",
            "Epoch:  82 loss:  4.351443290710449 test loss:  380.8619689941406\n",
            "Epoch:  83 loss:  4.3303632736206055 test loss:  379.8832092285156\n",
            "Epoch:  84 loss:  4.3095808029174805 test loss:  378.9173889160156\n",
            "Epoch:  85 loss:  4.28908634185791 test loss:  377.964599609375\n",
            "Epoch:  86 loss:  4.268927097320557 test loss:  377.0241394042969\n",
            "Epoch:  87 loss:  4.249059677124023 test loss:  376.0959167480469\n",
            "Epoch:  88 loss:  4.229516983032227 test loss:  375.179443359375\n",
            "Epoch:  89 loss:  4.210208415985107 test loss:  374.2748718261719\n",
            "Epoch:  90 loss:  4.191137790679932 test loss:  373.38116455078125\n",
            "Epoch:  91 loss:  4.172368049621582 test loss:  372.49871826171875\n",
            "Epoch:  92 loss:  4.153879165649414 test loss:  371.62701416015625\n",
            "Epoch:  93 loss:  4.1356201171875 test loss:  370.7660827636719\n",
            "Epoch:  94 loss:  4.117608070373535 test loss:  369.9153137207031\n",
            "Epoch:  95 loss:  4.099849700927734 test loss:  369.07452392578125\n",
            "Epoch:  96 loss:  4.082301139831543 test loss:  368.2435302734375\n",
            "Epoch:  97 loss:  4.0649943351745605 test loss:  367.4225158691406\n",
            "Epoch:  98 loss:  4.047924041748047 test loss:  366.61053466796875\n",
            "Epoch:  99 loss:  4.031023025512695 test loss:  365.8080139160156\n",
            "Epoch:  100 loss:  4.014378070831299 test loss:  365.01446533203125\n",
            "Epoch:  101 loss:  3.9979429244995117 test loss:  364.2296142578125\n",
            "Epoch:  102 loss:  3.9817371368408203 test loss:  363.4536437988281\n",
            "Epoch:  103 loss:  3.9656972885131836 test loss:  362.68603515625\n",
            "Epoch:  104 loss:  3.9498291015625 test loss:  361.9266357421875\n",
            "Epoch:  105 loss:  3.9342236518859863 test loss:  361.17547607421875\n",
            "Epoch:  106 loss:  3.9187581539154053 test loss:  360.43218994140625\n",
            "Epoch:  107 loss:  3.903454065322876 test loss:  359.6968688964844\n",
            "Epoch:  108 loss:  3.8883872032165527 test loss:  358.9691467285156\n",
            "Epoch:  109 loss:  3.873448371887207 test loss:  358.2487487792969\n",
            "Epoch:  110 loss:  3.8586997985839844 test loss:  357.535888671875\n",
            "Epoch:  111 loss:  3.84413480758667 test loss:  356.8300476074219\n",
            "Epoch:  112 loss:  3.8297057151794434 test loss:  356.1315612792969\n",
            "Epoch:  113 loss:  3.8154850006103516 test loss:  355.43975830078125\n",
            "Epoch:  114 loss:  3.801356792449951 test loss:  354.7549743652344\n",
            "Epoch:  115 loss:  3.7874183654785156 test loss:  354.07659912109375\n",
            "Epoch:  116 loss:  3.773624897003174 test loss:  353.40509033203125\n",
            "Epoch:  117 loss:  3.759986400604248 test loss:  352.73968505859375\n",
            "Epoch:  118 loss:  3.7464959621429443 test loss:  352.08087158203125\n",
            "Epoch:  119 loss:  3.7331767082214355 test loss:  351.4280700683594\n",
            "Epoch:  120 loss:  3.719965696334839 test loss:  350.7816162109375\n",
            "Epoch:  121 loss:  3.7068867683410645 test loss:  350.140869140625\n",
            "Epoch:  122 loss:  3.69400954246521 test loss:  349.5060119628906\n",
            "Epoch:  123 loss:  3.681175708770752 test loss:  348.87713623046875\n",
            "Epoch:  124 loss:  3.668555736541748 test loss:  348.2537536621094\n",
            "Epoch:  125 loss:  3.6559860706329346 test loss:  347.6360778808594\n",
            "Epoch:  126 loss:  3.6435739994049072 test loss:  347.0238952636719\n",
            "Epoch:  127 loss:  3.6313300132751465 test loss:  346.417236328125\n",
            "Epoch:  128 loss:  3.6191420555114746 test loss:  345.8156433105469\n",
            "Epoch:  129 loss:  3.6071324348449707 test loss:  345.2193908691406\n",
            "Epoch:  130 loss:  3.5951907634735107 test loss:  344.628173828125\n",
            "Epoch:  131 loss:  3.58339786529541 test loss:  344.0420227050781\n",
            "Epoch:  132 loss:  3.5717244148254395 test loss:  343.4610290527344\n",
            "Epoch:  133 loss:  3.5601611137390137 test loss:  342.8848571777344\n",
            "Epoch:  134 loss:  3.5486559867858887 test loss:  342.31329345703125\n"
          ],
          "name": "stdout"
        }
      ]
    },
    {
      "cell_type": "code",
      "metadata": {
        "colab_type": "code",
        "id": "ITTS-hEfXfqA",
        "colab": {}
      },
      "source": [
        "plt.plot(train_loss[1:])"
      ],
      "execution_count": 0,
      "outputs": []
    },
    {
      "cell_type": "code",
      "metadata": {
        "id": "zBiAyg9zksxO",
        "colab_type": "code",
        "colab": {
          "base_uri": "https://localhost:8080/",
          "height": 286
        },
        "outputId": "a4c33141-b2e5-4083-bed2-eb4d7a42f565"
      },
      "source": [
        "plt.plot(test_loss)"
      ],
      "execution_count": 40,
      "outputs": [
        {
          "output_type": "execute_result",
          "data": {
            "text/plain": [
              "[<matplotlib.lines.Line2D at 0x7efc68502080>]"
            ]
          },
          "metadata": {
            "tags": []
          },
          "execution_count": 40
        },
        {
          "output_type": "display_data",
          "data": {
            "image/png": "[encoded data removed]",
            "text/plain": [
              "<Figure size 432x288 with 1 Axes>"
            ]
          },
          "metadata": {
            "tags": []
          }
        }
      ]
    },
    {
      "cell_type": "code",
      "metadata": {
        "id": "-hbUW-WJyPZ1",
        "colab_type": "code",
        "colab": {}
      },
      "source": [
        "num_paths = 100 \n",
        "pred_length = 64 \n",
        "T = ??"
      ],
      "execution_count": 0,
      "outputs": []
    },
    {
      "cell_type": "code",
      "metadata": {
        "id": "m_itPTSux6ZC",
        "colab_type": "code",
        "colab": {}
      },
      "source": [
        "## PREDICTION ## for one example\n",
        "paths = np.zeros((num_paths, T + pred_length))\n",
        "\n",
        "with torch.no_grad(): \n",
        "  \n",
        "  test_data = ...\n",
        "  \n",
        "  for n in range(num_paths): \n",
        "    \n",
        "    fixed_effects = global_model(test_data, global_hidden)\n",
        "    log_lik, sigma = local_model(data, local_hidden, fixed_effects, gaussian_likelihood = True)\n",
        "    \n",
        "    z = torch.zeros(sigma.shape[0])\n",
        "    for t in range(sigma.shape[0]):\n",
        "      z[t] = torch.distributions.normal.Normal(0, sigma[t]).rsample() #OR z = torch.distributions.normal.Normal(fixed_effects[t], sigma[t]).rsample() \n",
        "      \n",
        "    paths[n,:T] = input_test_data[:,0]\n",
        "    paths[n, T:] = z"
      ],
      "execution_count": 0,
      "outputs": []
    }
  ]
}