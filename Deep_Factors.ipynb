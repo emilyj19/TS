{
  "nbformat": 4,
  "nbformat_minor": 0,
  "metadata": {
    "colab": {
      "name": "Deep_Factors.ipynb",
      "version": "0.3.2",
      "provenance": [],
      "collapsed_sections": [],
      "include_colab_link": true
    },
    "kernelspec": {
      "name": "python3",
      "display_name": "Python 3"
    }
  },
  "cells": [
    {
      "cell_type": "markdown",
      "metadata": {
        "id": "view-in-github",
        "colab_type": "text"
      },
      "source": [
        "<a href=\"https://colab.research.google.com/github/emilyj19/TS/blob/master/Deep_Factors.ipynb\" target=\"_parent\"><img src=\"https://colab.research.google.com/assets/colab-badge.svg\" alt=\"Open In Colab\"/></a>"
      ]
    },
    {
      "cell_type": "code",
      "metadata": {
        "id": "UxHpi6CjWlg8",
        "colab_type": "code",
        "colab": {
          "base_uri": "https://localhost:8080/",
          "height": 51
        },
        "outputId": "dc9db48d-0951-47ab-c365-76c5b4eed73b"
      },
      "source": [
        "pip install torch"
      ],
      "execution_count": 1,
      "outputs": [
        {
          "output_type": "stream",
          "text": [
            "Requirement already satisfied: torch in /usr/local/lib/python3.6/dist-packages (1.1.0)\n",
            "Requirement already satisfied: numpy in /usr/local/lib/python3.6/dist-packages (from torch) (1.16.4)\n"
          ],
          "name": "stdout"
        }
      ]
    },
    {
      "cell_type": "code",
      "metadata": {
        "id": "63MFgpVHUb5y",
        "colab_type": "code",
        "colab": {}
      },
      "source": [
        "import numpy as np \n",
        "import tensorflow as tf\n",
        "import matplotlib\n",
        "import matplotlib.pyplot as plt \n",
        "import pandas as pd\n",
        "import torch\n",
        "from torch import nn\n",
        "from torch.utils.data import DataLoader, TensorDataset\n",
        "from torch.autograd import Variable"
      ],
      "execution_count": 0,
      "outputs": []
    },
    {
      "cell_type": "code",
      "metadata": {
        "id": "lB_-DYtEUfH2",
        "colab_type": "code",
        "colab": {
          "base_uri": "https://localhost:8080/",
          "height": 122
        },
        "outputId": "00ec8e2c-0e06-400d-f778-38ee310d9688"
      },
      "source": [
        "from google.colab import drive\n",
        "drive.mount('/content/gdrive')"
      ],
      "execution_count": 3,
      "outputs": [
        {
          "output_type": "stream",
          "text": [
            "Go to this URL in a browser: https://accounts.google.com/o/oauth2/auth?client_id=947318989803-6bn6qk8qdgf4n4g3pfee6491hc0brc4i.apps.googleusercontent.com&redirect_uri=urn%3Aietf%3Awg%3Aoauth%3A2.0%3Aoob&scope=email%20https%3A%2F%2Fwww.googleapis.com%2Fauth%2Fdocs.test%20https%3A%2F%2Fwww.googleapis.com%2Fauth%2Fdrive%20https%3A%2F%2Fwww.googleapis.com%2Fauth%2Fdrive.photos.readonly%20https%3A%2F%2Fwww.googleapis.com%2Fauth%2Fpeopleapi.readonly&response_type=code\n",
            "\n",
            "Enter your authorization code:\n",
            "··········\n",
            "Mounted at /content/gdrive\n"
          ],
          "name": "stdout"
        }
      ]
    },
    {
      "cell_type": "code",
      "metadata": {
        "id": "hbAw0rtMUhZf",
        "colab_type": "code",
        "colab": {
          "base_uri": "https://localhost:8080/",
          "height": 34
        },
        "outputId": "4517a09b-761c-4d01-d4fd-8b70d3731eac"
      },
      "source": [
        "root_path = 'gdrive/My Drive/FinancialTS/JPmarket_dataset.npz' \n",
        "data = np.load(root_path)\n",
        "data.files"
      ],
      "execution_count": 4,
      "outputs": [
        {
          "output_type": "execute_result",
          "data": {
            "text/plain": [
              "['train_ratios', 'test_ratios', 'train_volumes', 'test_volumes']"
            ]
          },
          "metadata": {
            "tags": []
          },
          "execution_count": 4
        }
      ]
    },
    {
      "cell_type": "code",
      "metadata": {
        "id": "MzIcj78GVk8L",
        "colab_type": "code",
        "colab": {}
      },
      "source": [
        "train_ratios = data['train_ratios']\n",
        "test_ratios = data['test_ratios']\n",
        "train_vols = data['train_volumes']\n",
        "test_vols = data['test_volumes']"
      ],
      "execution_count": 0,
      "outputs": []
    },
    {
      "cell_type": "code",
      "metadata": {
        "id": "Dyk_YlK6VrE3",
        "colab_type": "code",
        "colab": {}
      },
      "source": [
        "av_vols = np.mean(train_vols[3], axis = 0)"
      ],
      "execution_count": 0,
      "outputs": []
    },
    {
      "cell_type": "code",
      "metadata": {
        "id": "4DKkWxWhOkne",
        "colab_type": "code",
        "colab": {
          "base_uri": "https://localhost:8080/",
          "height": 286
        },
        "outputId": "b24ddaa0-b2f2-4bac-ffb7-d809a261ec85"
      },
      "source": [
        "plt.plot(av_vols)"
      ],
      "execution_count": 7,
      "outputs": [
        {
          "output_type": "execute_result",
          "data": {
            "text/plain": [
              "[<matplotlib.lines.Line2D at 0x7f4a694f9ba8>]"
            ]
          },
          "metadata": {
            "tags": []
          },
          "execution_count": 7
        },
        {
          "output_type": "display_data",
          "data": {
            "image/png": "[encoded data removed]",
            "text/plain": [
              "<Figure size 432x288 with 1 Axes>"
            ]
          },
          "metadata": {
            "tags": []
          }
        }
      ]
    },
    {
      "cell_type": "code",
      "metadata": {
        "id": "WvUKXNgmCdYR",
        "colab_type": "code",
        "colab": {}
      },
      "source": [
        "#inputs: data of shape (num_series, num_days, num_bins), num_series = number of time series to use, len_series = length of series,  num_windows = number of series to create from each \n",
        "#output: data of shape (num_series, num_windows, len_series*bins)\n",
        "\n",
        "def create_train_vols_data(data, num_series, len_series, num_windows): \n",
        "  total_num_series, num_days, num_bins = data.shape \n",
        "  days_series = int(len_series/num_bins)\n",
        "  \n",
        "  train_data = np.zeros((num_series, num_windows, len_series))\n",
        "  \n",
        "  for i in range(num_series): \n",
        "    series_i = data[i]\n",
        "    norm_series_i = series_i/np.amax(series_i) #normalise series\n",
        "    for j in range(num_windows):\n",
        "      start_index = np.random.randint(0,num_days-days_series)\n",
        "      train_data[i,j] = norm_series_i[start_index:start_index + days_series].flatten()\n",
        " \n",
        "  return train_data\n",
        "  "
      ],
      "execution_count": 0,
      "outputs": []
    },
    {
      "cell_type": "code",
      "metadata": {
        "id": "opSiJuoDPB4-",
        "colab_type": "code",
        "colab": {}
      },
      "source": [
        "#alternative covariate function \n",
        "#inputs - input_data of shape [number of time series, length of each time series], freq of data i.e. number of bins per day, and position of special bins as a vector\n",
        "#returns - data and covariate vector of shape [number of series, length of series, number of special bins + 2] where covariate_vectors[:,:,0] is the input data, \n",
        "#covariate_vectors[:,:,1] is the scaled time of day and covariate_vectors[:,:,2:] is the one hot vector for the special bins\n",
        "#therefore covariate_vectors[:,:,0] is the data and covariate_vectors[:,:,1:] is the actual covariate vector \n",
        "\n",
        "def new_create_covariate_data(input_data, freq, pos_of_special_bins): \n",
        "  num_series, len_series = input_data.shape\n",
        "  days = int(len_series/freq)\n",
        "  num_special_bins = len(pos_of_special_bins)\n",
        "  covariate_vectors = np.zeros((num_series, len_series, num_special_bins+2))\n",
        "  \n",
        "  for n in range(num_series): \n",
        "    for d in range(days): \n",
        "      for t in range(freq): \n",
        "        x = np.zeros(num_special_bins + 1)\n",
        "        #x[0] is the scaled time of day \n",
        "        x[0] = t/freq\n",
        "        \n",
        "        check = t in pos_of_special_bins\n",
        "        \n",
        "        if check == True: \n",
        "          index = pos_of_special_bins.index(t)\n",
        "          x[index+1] = 1\n",
        "          \n",
        "        covariate_vectors[n, d*freq + t, 0] = input_data[n, d*freq + t]\n",
        "        covariate_vectors[n, d*freq + t, 1:] = x\n",
        "        \n",
        "  return covariate_vectors\n",
        "        "
      ],
      "execution_count": 0,
      "outputs": []
    },
    {
      "cell_type": "code",
      "metadata": {
        "id": "iz94MokCRKiB",
        "colab_type": "code",
        "colab": {}
      },
      "source": [
        "number_series = 10\n",
        "number_windows = 10\n",
        "T = 3*64\n",
        "special_bins = [0,31,32,63]"
      ],
      "execution_count": 0,
      "outputs": []
    },
    {
      "cell_type": "code",
      "metadata": {
        "id": "lqYtYOLRRUur",
        "colab_type": "code",
        "colab": {}
      },
      "source": [
        "training_vol = create_train_vols_data(train_vols, number_series, T, number_windows)\n",
        "covars_training_data = np.zeros((number_series, number_windows, T, len(special_bins)+2))\n",
        "\n",
        "for i in range(number_series): \n",
        "  covars = new_create_covariate_data(training_vol[i], 64, special_bins)\n",
        "  covars_training_data[i] = covars\n",
        "  \n",
        "  \n",
        "covars_train_data = torch.FloatTensor(covars_training_data)"
      ],
      "execution_count": 0,
      "outputs": []
    },
    {
      "cell_type": "code",
      "metadata": {
        "id": "Q1O5qrgbY_f-",
        "colab_type": "code",
        "colab": {}
      },
      "source": [
        "test_volume = train_vols[0:number_series].reshape((number_series,-1))\n",
        "\n",
        "norm_test_vols = np.zeros(test_volume.shape)\n",
        "for i in range(number_series): \n",
        "  norm_test_vols[i] = test_volume[i]/np.amax(train_vols[i])\n",
        "  \n",
        "new_test_data = norm_test_vols[:,T:2*T]\n",
        "\n",
        "covars_test_data = new_create_covariate_data(new_test_data, 64, [0,31,32,63])\n",
        "\n",
        "covars_test_data = torch.FloatTensor(covars_test_data)"
      ],
      "execution_count": 0,
      "outputs": []
    },
    {
      "cell_type": "code",
      "metadata": {
        "id": "kKdgN_J2QQq8",
        "colab_type": "code",
        "colab": {}
      },
      "source": [
        "#class for the global model \n",
        "#forward pass - input data of shape [num_series, length of each series, length of covariate vector + 1]\n",
        "#forward pass outputs fixed effects of shape [num_series, len_series]\n",
        "\n",
        "class GlobalEffects(nn.Module): \n",
        "  def __init__(self, input_size, num_factors, hidden_size, batch_size, output_size = 1, num_layers = 1): \n",
        "    super().__init__()\n",
        "    self.input_size = input_size\n",
        "    self.num_factors = num_factors\n",
        "    self.hidden_size = hidden_size\n",
        "    self.batch_size = batch_size\n",
        "    self.output_size = output_size\n",
        "    self.num_layers = num_layers\n",
        "    \n",
        "    self.linears = nn.ModuleList([nn.Linear(self.hidden_size, self.output_size, bias = False) for i in range(self.num_factors)])\n",
        "    self.lstms = nn.ModuleList([nn.LSTM(input_size = self.input_size, hidden_size = self.hidden_size, num_layers = self.num_layers) for i in range(self.num_factors)])\n",
        "    \n",
        "    self.w = torch.nn.Parameter(torch.zeros(batch_size, num_factors))\n",
        "    \n",
        "  def init_hidden(self): \n",
        "    hidden = [torch.zeros(self.num_layers, self.batch_size, self.hidden_size) for i in range(self.num_factors)]\n",
        "    return hidden\n",
        "    \n",
        "  def forward(self, input_data, hidden): \n",
        "    x = input_data[:,:,1:]\n",
        "    for i in range(self.num_factors): \n",
        "      lstm_out, hidden[i] = self.lstms[i](x.view(x.shape[1], self.batch_size, -1))\n",
        "      g_i = self.linears[i](lstm_out).view(1, self.batch_size, -1) #shape of g_i = [1, batch_size, seq_len]\n",
        "      \n",
        "      if i == 0: \n",
        "        g = g_i\n",
        "      else:\n",
        "        g = torch.cat((g,g_i), dim=0)\n",
        "\n",
        "    fixed_effects = torch.zeros((self.batch_size, g.shape[2]))\n",
        "    \n",
        "    for i in range(self.batch_size): \n",
        "      for j in range(g.shape[2]): \n",
        "        fixed_effects[i,j] = torch.dot(self.w[i], g[:,i,j])\n",
        "      \n",
        "    return fixed_effects\n",
        "     \n",
        "      "
      ],
      "execution_count": 0,
      "outputs": []
    },
    {
      "cell_type": "code",
      "metadata": {
        "id": "z2ZvLZ9aUqw0",
        "colab_type": "code",
        "colab": {}
      },
      "source": [
        "#class for the DF-RNN local model \n",
        "#parameters to define: input_size = number of elements in covariates vector, num_series = number of time series in the data\n",
        "#forward pass inputs: fixed effects output from global model, input data of shape [num_series, length of each series, length of covariate vector + 1] and whether or not to assume a gaussian likelihood \n",
        "#forward pass outputs total log likelihood for the given data and sigma of shape [num_series, len_series]\n",
        "\n",
        "class DF_RNN(nn.Module): \n",
        "  def __init__(self, input_size, hidden_size, batch_size, num_series, output_size):\n",
        "    super().__init__()\n",
        "    self.input_size = input_size\n",
        "    self.hidden_size = hidden_size\n",
        "    self.batch_size = batch_size\n",
        "    self.output_size = output_size\n",
        "    self.num_series = num_series\n",
        "    \n",
        "    self.rnns = nn.ModuleList([nn.RNN(input_size = self.input_size, hidden_size = self.hidden_size, num_layers = 1) for i in range(self.num_series)])\n",
        "    self.linears = nn.ModuleList([nn.Linear(self.hidden_size, self.output_size) for i in range(self.num_series)])\n",
        "    \n",
        "  def init_hidden(self): \n",
        "    hidden = [torch.zeros(1, self.batch_size, self.hidden_size) for i in range(self.num_series)]\n",
        "    return hidden\n",
        "    \n",
        "  def forward(self, input_data, hidden, fixed_effects, gaussian_likelihood, prediction): \n",
        "    z = input_data[:,:,0]\n",
        "    x = input_data[:,:,1:]\n",
        "    \n",
        "    sigma = torch.zeros((self.num_series, x.shape[1]))\n",
        "    r = torch.zeros(sigma.shape)\n",
        "    \n",
        "    for i in range(self.num_series): \n",
        "      data = x[i]\n",
        "      rnn_out, hidden[i] = self.rnns[i](data.view(data.shape[0], self.batch_size, -1))\n",
        "      sig = self.linears[i](rnn_out).view(-1)\n",
        "      \n",
        "      sigma[i] = torch.abs(sig)\n",
        "      \n",
        "      for j in range(sigma.shape[1]):\n",
        "        r[i,j] = torch.distributions.normal.Normal(0, sigma[i,j]).rsample()\n",
        "        \n",
        "    u = fixed_effects + r\n",
        "        \n",
        "    if prediction == False: \n",
        "    \n",
        "      if gaussian_likelihood == True: \n",
        "        log_lik = self.log_likelihood_Gaussian(z, fixed_effects, sigma)\n",
        "\n",
        "      else: \n",
        "        pass\n",
        "      \n",
        "      return log_lik, sigma\n",
        "    \n",
        "    else: \n",
        "      return sigma\n",
        "   \n",
        "  \n",
        "  def log_likelihood_Gaussian(self, z, f, sigma):\n",
        "    log_p = torch.zeros(sigma.shape)\n",
        "    \n",
        "    for i in range(sigma.shape[0]):\n",
        "      for j in range(sigma.shape[1]): \n",
        "        log_pdf = torch.distributions.normal.Normal(0, sigma[i,j]).log_prob(z[i,j] - f[i,j])\n",
        "        #scale the likelihood to 0-1\n",
        "        log_norm_constant = torch.distributions.normal.Normal(0, sigma[i,j]).log_prob(0)\n",
        "        log_p[i,j] = log_pdf - log_norm_constant\n",
        "    \n",
        "    log_lik = torch.sum(log_p)\n",
        "\n",
        "    return log_lik\n",
        "  \n",
        "  \n",
        "  def log_likelihood_nonGaussian(self, ): #to do \n",
        "    pass"
      ],
      "execution_count": 0,
      "outputs": []
    },
    {
      "cell_type": "code",
      "metadata": {
        "id": "MGd_qELTtqx2",
        "colab_type": "code",
        "colab": {}
      },
      "source": [
        "learning_rate = 0.005\n",
        "batch_size = number_series\n",
        "num_epochs = 200\n",
        "hidden_units_global = 50\n",
        "hidden_units_local = 5\n",
        "n_factors = 10 "
      ],
      "execution_count": 0,
      "outputs": []
    },
    {
      "cell_type": "code",
      "metadata": {
        "id": "FnaiB4RyWtVy",
        "colab_type": "code",
        "colab": {}
      },
      "source": [
        "global_model = GlobalEffects(input_size = 5, num_factors = n_factors , hidden_size = hidden_units_global, batch_size= number_series)  \n",
        "local_model = DF_RNN(5, hidden_size = hidden_units_local, batch_size = 1, num_series = number_series, output_size = 1)"
      ],
      "execution_count": 0,
      "outputs": []
    },
    {
      "cell_type": "code",
      "metadata": {
        "id": "NWZumPtm7ZCX",
        "colab_type": "code",
        "colab": {
          "base_uri": "https://localhost:8080/",
          "height": 102
        },
        "outputId": "699b2762-a63d-4942-dc00-b8062fea8584"
      },
      "source": [
        "## TRAINING ##\n",
        "\n",
        "optimiser = torch.optim.SGD(list(global_model.parameters()) + list(local_model.parameters()), lr = learning_rate)\n",
        "\n",
        "train_loss = []\n",
        "test_loss = []\n",
        " \n",
        "for t in range(num_epochs): \n",
        "  global_model.zero_grad()\n",
        "  global_hidden = global_model.init_hidden()\n",
        "  \n",
        "  local_model.zero_grad()\n",
        "  local_hidden = local_model.init_hidden()\n",
        "  \n",
        "  #data_batch = covars_data\n",
        "  #print(data_batch.shape)\n",
        "  \n",
        "  batch_index = np.random.randint(0,number_windows)\n",
        "  data_batch = covars_train_data[:,batch_index,:,:].contiguous()\n",
        "  \n",
        "  fixed_effects = global_model(data_batch, global_hidden)\n",
        "\n",
        "  log_lik, sigma = local_model(data_batch, local_hidden, fixed_effects, gaussian_likelihood = True, prediction = False)\n",
        "\n",
        "  batch_loss = -1*log_lik\n",
        "    \n",
        "  optimiser.zero_grad()\n",
        "  \n",
        "  batch_loss.backward()\n",
        "\n",
        "  optimiser.step()\n",
        "  \n",
        "  train_loss.append(batch_loss.item())\n",
        "  \n",
        "  with torch.no_grad():\n",
        "    test_data_batch = covars_test_data\n",
        "    fixed_effects = global_model(test_data_batch, global_hidden)\n",
        "    \n",
        "    data = test_data_batch\n",
        "    log_lik, sigma = local_model(data, local_hidden, fixed_effects, gaussian_likelihood = True, prediction = False)\n",
        "      \n",
        "    test_batch_loss = -1*log_lik\n",
        "      \n",
        "    test_loss.append(test_batch_loss.item())\n",
        "  \n",
        "  print(\"Epoch: \", t, \"loss: \", batch_loss.item(), \"test loss: \", test_batch_loss.item())"
      ],
      "execution_count": 0,
      "outputs": [
        {
          "output_type": "stream",
          "text": [
            "Epoch:  0 loss:  3930.028076171875 test loss:  7.399689674377441\n",
            "Epoch:  1 loss:  19.805892944335938 test loss:  39.14675521850586\n",
            "Epoch:  2 loss:  115.01795196533203 test loss:  1.0330009460449219\n",
            "Epoch:  3 loss:  1.2370904684066772 test loss:  0.6644624471664429\n",
            "Epoch:  4 loss:  0.4282693862915039 test loss:  0.6199324727058411\n"
          ],
          "name": "stdout"
        }
      ]
    },
    {
      "cell_type": "code",
      "metadata": {
        "colab_type": "code",
        "outputId": "b9d1e0cc-05b5-4411-8369-d33d3aa54b25",
        "id": "ITTS-hEfXfqA",
        "colab": {
          "base_uri": "https://localhost:8080/",
          "height": 286
        }
      },
      "source": [
        "plt.plot(train_loss[2:])"
      ],
      "execution_count": 243,
      "outputs": [
        {
          "output_type": "execute_result",
          "data": {
            "text/plain": [
              "[<matplotlib.lines.Line2D at 0x7f4a64c23978>]"
            ]
          },
          "metadata": {
            "tags": []
          },
          "execution_count": 243
        },
        {
          "output_type": "display_data",
          "data": {
            "image/png": "[encoded data removed]",
            "text/plain": [
              "<Figure size 432x288 with 1 Axes>"
            ]
          },
          "metadata": {
            "tags": []
          }
        }
      ]
    },
    {
      "cell_type": "code",
      "metadata": {
        "id": "zBiAyg9zksxO",
        "colab_type": "code",
        "colab": {
          "base_uri": "https://localhost:8080/",
          "height": 286
        },
        "outputId": "f0144469-5a34-4d05-8a0e-0baea8212edf"
      },
      "source": [
        "plt.plot(test_loss[2:])"
      ],
      "execution_count": 244,
      "outputs": [
        {
          "output_type": "execute_result",
          "data": {
            "text/plain": [
              "[<matplotlib.lines.Line2D at 0x7f4a64cba048>]"
            ]
          },
          "metadata": {
            "tags": []
          },
          "execution_count": 244
        },
        {
          "output_type": "display_data",
          "data": {
            "image/png": "[encoded data removed]",
            "text/plain": [
              "<Figure size 432x288 with 1 Axes>"
            ]
          },
          "metadata": {
            "tags": []
          }
        }
      ]
    },
    {
      "cell_type": "code",
      "metadata": {
        "id": "-hbUW-WJyPZ1",
        "colab_type": "code",
        "colab": {}
      },
      "source": [
        "num_paths = 100\n",
        "pred_length = 64 "
      ],
      "execution_count": 0,
      "outputs": []
    },
    {
      "cell_type": "code",
      "metadata": {
        "id": "C1eZV6ovsj3J",
        "colab_type": "code",
        "colab": {}
      },
      "source": [
        "test_vol = test_vols[0:number_series].reshape((number_series,-1))\n",
        "\n",
        "norm_test_vols = np.zeros(test_vol.shape)\n",
        "for i in range(number_series): \n",
        "  norm_test_vols[i] = test_vol[i]/np.amax(test_vols[i])\n",
        "  \n",
        "new_test_data = norm_test_vols[:,:pred_length]\n",
        "\n",
        "covars_test_data = new_create_covariate_data(new_test_data, 64, [0,31,32,63])\n",
        "\n",
        "covars_test_data = torch.FloatTensor(covars_test_data)"
      ],
      "execution_count": 0,
      "outputs": []
    },
    {
      "cell_type": "code",
      "metadata": {
        "id": "m_itPTSux6ZC",
        "colab_type": "code",
        "colab": {}
      },
      "source": [
        "## PREDICTION ##\n",
        "paths = np.zeros((number_series, num_paths, pred_length))\n",
        "\n",
        "with torch.no_grad(): \n",
        "  \n",
        "  test_data = covars_test_data\n",
        "  \n",
        "  for n in range(num_paths): \n",
        "    \n",
        "    fixed_effects = global_model(test_data, global_hidden)\n",
        "    sigma = local_model(test_data, local_hidden, fixed_effects, gaussian_likelihood = True, prediction = True)\n",
        "    \n",
        "    for i in range(number_series):\n",
        "      z = torch.zeros(sigma.shape[1])\n",
        "      for t in range(sigma.shape[1]):\n",
        "        z[t] = torch.distributions.normal.Normal(0, sigma[i,t]).sample() #OR \n",
        "        #z[t] = torch.distributions.normal.Normal(fixed_effects[i,t], sigma[i,t]).sample() \n",
        "\n",
        "    #paths[n,:T] = input_test_data[:,0]\n",
        "      paths[i,n] = z"
      ],
      "execution_count": 0,
      "outputs": []
    },
    {
      "cell_type": "code",
      "metadata": {
        "id": "x4We87nx_-ym",
        "colab_type": "code",
        "colab": {
          "base_uri": "https://localhost:8080/",
          "height": 286
        },
        "outputId": "d2a91ae4-3568-4fba-9777-26538171a498"
      },
      "source": [
        "plt.plot(new_train_data[1])"
      ],
      "execution_count": 100,
      "outputs": [
        {
          "output_type": "execute_result",
          "data": {
            "text/plain": [
              "[<matplotlib.lines.Line2D at 0x7f4a650aa7b8>]"
            ]
          },
          "metadata": {
            "tags": []
          },
          "execution_count": 100
        },
        {
          "output_type": "display_data",
          "data": {
            "image/png": "[encoded data removed]",
            "text/plain": [
              "<Figure size 432x288 with 1 Axes>"
            ]
          },
          "metadata": {
            "tags": []
          }
        }
      ]
    },
    {
      "cell_type": "code",
      "metadata": {
        "id": "Tl48IeZGAO9d",
        "colab_type": "code",
        "colab": {
          "base_uri": "https://localhost:8080/",
          "height": 286
        },
        "outputId": "72d8875d-791c-405d-8e94-62f204a64600"
      },
      "source": [
        "plt.plot(new_test_data[1])\n",
        "#plt.plot(paths[1,0])"
      ],
      "execution_count": 265,
      "outputs": [
        {
          "output_type": "execute_result",
          "data": {
            "text/plain": [
              "[<matplotlib.lines.Line2D at 0x7f4a64dc9cf8>]"
            ]
          },
          "metadata": {
            "tags": []
          },
          "execution_count": 265
        },
        {
          "output_type": "display_data",
          "data": {
            "image/png": "[encoded data removed]",
            "text/plain": [
              "<Figure size 432x288 with 1 Axes>"
            ]
          },
          "metadata": {
            "tags": []
          }
        }
      ]
    },
    {
      "cell_type": "code",
      "metadata": {
        "id": "YuL4Kvv_A16L",
        "colab_type": "code",
        "colab": {
          "base_uri": "https://localhost:8080/",
          "height": 286
        },
        "outputId": "54ef9eca-d086-4b5e-802f-526d053a6095"
      },
      "source": [
        "plt.plot(paths[1].mean(0))\n"
      ],
      "execution_count": 268,
      "outputs": [
        {
          "output_type": "execute_result",
          "data": {
            "text/plain": [
              "[<matplotlib.lines.Line2D at 0x7f4a64b2e208>]"
            ]
          },
          "metadata": {
            "tags": []
          },
          "execution_count": 268
        },
        {
          "output_type": "display_data",
          "data": {
            "image/png": "[encoded data removed]",
            "text/plain": [
              "<Figure size 432x288 with 1 Axes>"
            ]
          },
          "metadata": {
            "tags": []
          }
        }
      ]
    },
    {
      "cell_type": "code",
      "metadata": {
        "id": "jWbcMtlYBYPl",
        "colab_type": "code",
        "colab": {
          "base_uri": "https://localhost:8080/",
          "height": 136
        },
        "outputId": "e8faaf58-9e83-4281-9342-39d7baa8ec98"
      },
      "source": [
        "sigma"
      ],
      "execution_count": 78,
      "outputs": [
        {
          "output_type": "execute_result",
          "data": {
            "text/plain": [
              "tensor([[0.6561, 0.7354, 0.8171,  ..., 0.8645, 0.8647, 0.9063],\n",
              "        [0.6411, 0.4536, 0.4115,  ..., 0.5134, 0.5147, 0.3465],\n",
              "        [0.5056, 0.4519, 0.4249,  ..., 0.4491, 0.4496, 0.4409],\n",
              "        ...,\n",
              "        [0.4844, 0.4557, 0.4637,  ..., 0.4983, 0.4991, 0.4638],\n",
              "        [0.4602, 0.4026, 0.3507,  ..., 0.5097, 0.5118, 0.3752],\n",
              "        [0.2628, 0.3900, 0.3391,  ..., 0.4423, 0.4440, 0.3959]])"
            ]
          },
          "metadata": {
            "tags": []
          },
          "execution_count": 78
        }
      ]
    }
  ]
}